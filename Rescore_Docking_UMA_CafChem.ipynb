{
 "cells": [
  {
   "cell_type": "markdown",
   "metadata": {
    "id": "mYtTV82W0-DH"
   },
   "source": [
    "#CafChem tools docking and rescoring with the UMA MLIP\n",
    "\n",
    "[![Open In Colab](https://colab.research.google.com/assets/colab-badge.svg)](https://colab.research.google.com/github/MauricioCafiero/Research_Notebooks/blob/main/Rescore_Docking_UMA_CafChem.ipynb)\n",
    "\n",
    "## This notebook allows you to:\n",
    "- dock a single SMILES string, a list of string, or a CSV file with SMILES in one column.\n",
    "- save poses as SDF files.\n",
    "- Calculate the interaction between the ligand and the protein using Meta's UMA MLIP\n",
    "\n",
    "## Requirements:\n",
    "- This notebook will install deepchem, dockstring, openBabel, Fairchem and py3Dmol\n",
    "- It will pull the CafChem tools from Github.\n",
    "- It will install all needed libraries.\n",
    "- You need to have a HF_Token set as a secret to access the UMA MLIP."
   ]
  },
  {
   "cell_type": "markdown",
   "metadata": {
    "id": "c077b1b1-6f2a-4eaa-9381-b9a0cf413b8d"
   },
   "source": [
    "# set-up\n",
    "\n",
    "This block:\n",
    "\n",
    "- Loads all needed modules/libraries\n",
    "    \n",
    "\n",
    "    \n"
   ]
  },
  {
   "cell_type": "markdown",
   "metadata": {
    "id": "qHv8LGrBe534"
   },
   "source": [
    "### Install a few libraries"
   ]
  },
  {
   "cell_type": "code",
   "execution_count": 1,
   "metadata": {
    "colab": {
     "base_uri": "https://localhost:8080/"
    },
    "id": "GuZJmglTiaN8",
    "outputId": "993b50b1-1d4d-436f-8c93-e17df458c7ef"
   },
   "outputs": [
    {
     "name": "stdout",
     "output_type": "stream",
     "text": [
      "Collecting deepchem\n",
      "  Downloading deepchem-2.8.0-py3-none-any.whl.metadata (2.0 kB)\n",
      "Requirement already satisfied: joblib in /usr/local/lib/python3.11/dist-packages (from deepchem) (1.5.1)\n",
      "Requirement already satisfied: numpy>=1.21 in /usr/local/lib/python3.11/dist-packages (from deepchem) (2.0.2)\n",
      "Requirement already satisfied: pandas in /usr/local/lib/python3.11/dist-packages (from deepchem) (2.2.2)\n",
      "Requirement already satisfied: scikit-learn in /usr/local/lib/python3.11/dist-packages (from deepchem) (1.6.1)\n",
      "Requirement already satisfied: sympy in /usr/local/lib/python3.11/dist-packages (from deepchem) (1.13.1)\n",
      "Requirement already satisfied: scipy>=1.10.1 in /usr/local/lib/python3.11/dist-packages (from deepchem) (1.15.3)\n",
      "Collecting rdkit (from deepchem)\n",
      "  Downloading rdkit-2025.3.3-cp311-cp311-manylinux_2_28_x86_64.whl.metadata (4.0 kB)\n",
      "Requirement already satisfied: python-dateutil>=2.8.2 in /usr/local/lib/python3.11/dist-packages (from pandas->deepchem) (2.9.0.post0)\n",
      "Requirement already satisfied: pytz>=2020.1 in /usr/local/lib/python3.11/dist-packages (from pandas->deepchem) (2025.2)\n",
      "Requirement already satisfied: tzdata>=2022.7 in /usr/local/lib/python3.11/dist-packages (from pandas->deepchem) (2025.2)\n",
      "Requirement already satisfied: Pillow in /usr/local/lib/python3.11/dist-packages (from rdkit->deepchem) (11.2.1)\n",
      "Requirement already satisfied: threadpoolctl>=3.1.0 in /usr/local/lib/python3.11/dist-packages (from scikit-learn->deepchem) (3.6.0)\n",
      "Requirement already satisfied: mpmath<1.4,>=1.1.0 in /usr/local/lib/python3.11/dist-packages (from sympy->deepchem) (1.3.0)\n",
      "Requirement already satisfied: six>=1.5 in /usr/local/lib/python3.11/dist-packages (from python-dateutil>=2.8.2->pandas->deepchem) (1.17.0)\n",
      "Downloading deepchem-2.8.0-py3-none-any.whl (1.0 MB)\n",
      "\u001b[2K   \u001b[90m━━━━━━━━━━━━━━━━━━━━━━━━━━━━━━━━━━━━━━━━\u001b[0m \u001b[32m1.0/1.0 MB\u001b[0m \u001b[31m17.4 MB/s\u001b[0m eta \u001b[36m0:00:00\u001b[0m\n",
      "\u001b[?25hDownloading rdkit-2025.3.3-cp311-cp311-manylinux_2_28_x86_64.whl (34.9 MB)\n",
      "\u001b[2K   \u001b[90m━━━━━━━━━━━━━━━━━━━━━━━━━━━━━━━━━━━━━━━━\u001b[0m \u001b[32m34.9/34.9 MB\u001b[0m \u001b[31m21.6 MB/s\u001b[0m eta \u001b[36m0:00:00\u001b[0m\n",
      "\u001b[?25hInstalling collected packages: rdkit, deepchem\n",
      "Successfully installed deepchem-2.8.0 rdkit-2025.3.3\n",
      "Collecting dockstring\n",
      "  Downloading dockstring-0.3.4-py3-none-any.whl.metadata (19 kB)\n",
      "Downloading dockstring-0.3.4-py3-none-any.whl (4.4 MB)\n",
      "\u001b[2K   \u001b[90m━━━━━━━━━━━━━━━━━━━━━━━━━━━━━━━━━━━━━━━━\u001b[0m \u001b[32m4.4/4.4 MB\u001b[0m \u001b[31m17.1 MB/s\u001b[0m eta \u001b[36m0:00:00\u001b[0m\n",
      "\u001b[?25hInstalling collected packages: dockstring\n",
      "Successfully installed dockstring-0.3.4\n",
      "Collecting openbabel-wheel\n",
      "  Downloading openbabel_wheel-3.1.1.22-cp311-cp311-manylinux_2_17_x86_64.manylinux2014_x86_64.whl.metadata (20 kB)\n",
      "Downloading openbabel_wheel-3.1.1.22-cp311-cp311-manylinux_2_17_x86_64.manylinux2014_x86_64.whl (16.1 MB)\n",
      "\u001b[2K   \u001b[90m━━━━━━━━━━━━━━━━━━━━━━━━━━━━━━━━━━━━━━━━\u001b[0m \u001b[32m16.1/16.1 MB\u001b[0m \u001b[31m117.0 MB/s\u001b[0m eta \u001b[36m0:00:00\u001b[0m\n",
      "\u001b[?25hInstalling collected packages: openbabel-wheel\n",
      "Successfully installed openbabel-wheel-3.1.1.22\n"
     ]
    }
   ],
   "source": [
    "! pip install deepchem\n",
    "! pip install dockstring\n",
    "! pip install openbabel-wheel"
   ]
  },
  {
   "cell_type": "code",
   "execution_count": 2,
   "metadata": {
    "colab": {
     "base_uri": "https://localhost:8080/"
    },
    "id": "HWkR62lbgqjI",
    "outputId": "3b7b4e9c-0d64-42bf-d10d-ccdebc49f0e1"
   },
   "outputs": [
    {
     "name": "stdout",
     "output_type": "stream",
     "text": [
      "Collecting py3Dmol\n",
      "  Downloading py3dmol-2.5.0-py2.py3-none-any.whl.metadata (2.1 kB)\n",
      "Downloading py3dmol-2.5.0-py2.py3-none-any.whl (7.2 kB)\n",
      "Installing collected packages: py3Dmol\n",
      "Successfully installed py3Dmol-2.5.0\n",
      "Collecting fairchem-core\n",
      "  Downloading fairchem_core-2.2.0-py3-none-any.whl.metadata (9.3 kB)\n",
      "Collecting ase-db-backends>=0.10.0 (from fairchem-core)\n",
      "  Downloading ase_db_backends-0.10.0-py3-none-any.whl.metadata (600 bytes)\n",
      "Collecting ase>=3.25.0 (from fairchem-core)\n",
      "  Downloading ase-3.25.0-py3-none-any.whl.metadata (4.2 kB)\n",
      "Collecting e3nn>=0.5 (from fairchem-core)\n",
      "  Downloading e3nn-0.5.6-py3-none-any.whl.metadata (5.4 kB)\n",
      "Requirement already satisfied: huggingface-hub>=0.27.1 in /usr/local/lib/python3.11/dist-packages (from fairchem-core) (0.33.0)\n",
      "Collecting hydra-core (from fairchem-core)\n",
      "  Downloading hydra_core-1.3.2-py3-none-any.whl.metadata (5.5 kB)\n",
      "Collecting lmdb (from fairchem-core)\n",
      "  Downloading lmdb-1.6.2-cp311-cp311-manylinux_2_17_x86_64.manylinux2014_x86_64.whl.metadata (1.1 kB)\n",
      "Collecting numba>=0.61.2 (from fairchem-core)\n",
      "  Downloading numba-0.61.2-cp311-cp311-manylinux2014_x86_64.manylinux_2_17_x86_64.whl.metadata (2.8 kB)\n",
      "Requirement already satisfied: numpy<2.3,>=2.0 in /usr/local/lib/python3.11/dist-packages (from fairchem-core) (2.0.2)\n",
      "Requirement already satisfied: orjson in /usr/local/lib/python3.11/dist-packages (from fairchem-core) (3.10.18)\n",
      "Collecting pymatgen>=2023.10.3 (from fairchem-core)\n",
      "  Downloading pymatgen-2025.6.14-cp311-cp311-manylinux_2_17_x86_64.manylinux2014_x86_64.whl.metadata (13 kB)\n",
      "Requirement already satisfied: pyyaml in /usr/local/lib/python3.11/dist-packages (from fairchem-core) (6.0.2)\n",
      "Requirement already satisfied: requests in /usr/local/lib/python3.11/dist-packages (from fairchem-core) (2.32.3)\n",
      "Collecting submitit (from fairchem-core)\n",
      "  Downloading submitit-1.5.3-py3-none-any.whl.metadata (7.9 kB)\n",
      "Requirement already satisfied: tensorboard in /usr/local/lib/python3.11/dist-packages (from fairchem-core) (2.18.0)\n",
      "Collecting torchtnt (from fairchem-core)\n",
      "  Downloading torchtnt-0.2.4-py3-none-any.whl.metadata (3.1 kB)\n",
      "Requirement already satisfied: torch~=2.6.0 in /usr/local/lib/python3.11/dist-packages (from fairchem-core) (2.6.0+cu124)\n",
      "Requirement already satisfied: tqdm in /usr/local/lib/python3.11/dist-packages (from fairchem-core) (4.67.1)\n",
      "Requirement already satisfied: wandb in /usr/local/lib/python3.11/dist-packages (from fairchem-core) (0.20.1)\n",
      "Requirement already satisfied: scipy>=1.6.0 in /usr/local/lib/python3.11/dist-packages (from ase>=3.25.0->fairchem-core) (1.15.3)\n",
      "Requirement already satisfied: matplotlib>=3.3.4 in /usr/local/lib/python3.11/dist-packages (from ase>=3.25.0->fairchem-core) (3.10.0)\n",
      "Collecting psycopg2-binary (from ase-db-backends>=0.10.0->fairchem-core)\n",
      "  Downloading psycopg2_binary-2.9.10-cp311-cp311-manylinux_2_17_x86_64.manylinux2014_x86_64.whl.metadata (4.9 kB)\n",
      "Collecting pymysql (from ase-db-backends>=0.10.0->fairchem-core)\n",
      "  Downloading PyMySQL-1.1.1-py3-none-any.whl.metadata (4.4 kB)\n",
      "Requirement already satisfied: cryptography in /usr/local/lib/python3.11/dist-packages (from ase-db-backends>=0.10.0->fairchem-core) (43.0.3)\n",
      "Requirement already satisfied: sympy in /usr/local/lib/python3.11/dist-packages (from e3nn>=0.5->fairchem-core) (1.13.1)\n",
      "Collecting opt_einsum_fx>=0.1.4 (from e3nn>=0.5->fairchem-core)\n",
      "  Downloading opt_einsum_fx-0.1.4-py3-none-any.whl.metadata (3.3 kB)\n",
      "Requirement already satisfied: filelock in /usr/local/lib/python3.11/dist-packages (from huggingface-hub>=0.27.1->fairchem-core) (3.18.0)\n",
      "Requirement already satisfied: fsspec>=2023.5.0 in /usr/local/lib/python3.11/dist-packages (from huggingface-hub>=0.27.1->fairchem-core) (2025.3.2)\n",
      "Requirement already satisfied: packaging>=20.9 in /usr/local/lib/python3.11/dist-packages (from huggingface-hub>=0.27.1->fairchem-core) (24.2)\n",
      "Requirement already satisfied: typing-extensions>=3.7.4.3 in /usr/local/lib/python3.11/dist-packages (from huggingface-hub>=0.27.1->fairchem-core) (4.14.0)\n",
      "Requirement already satisfied: hf-xet<2.0.0,>=1.1.2 in /usr/local/lib/python3.11/dist-packages (from huggingface-hub>=0.27.1->fairchem-core) (1.1.3)\n",
      "Collecting llvmlite<0.45,>=0.44.0dev0 (from numba>=0.61.2->fairchem-core)\n",
      "  Downloading llvmlite-0.44.0-cp311-cp311-manylinux_2_17_x86_64.manylinux2014_x86_64.whl.metadata (4.8 kB)\n",
      "Collecting bibtexparser>=1.4.0 (from pymatgen>=2023.10.3->fairchem-core)\n",
      "  Downloading bibtexparser-1.4.3.tar.gz (55 kB)\n",
      "\u001b[2K     \u001b[90m━━━━━━━━━━━━━━━━━━━━━━━━━━━━━━━━━━━━━━━━\u001b[0m \u001b[32m55.6/55.6 kB\u001b[0m \u001b[31m4.5 MB/s\u001b[0m eta \u001b[36m0:00:00\u001b[0m\n",
      "\u001b[?25h  Preparing metadata (setup.py) ... \u001b[?25l\u001b[?25hdone\n",
      "Requirement already satisfied: joblib>=1 in /usr/local/lib/python3.11/dist-packages (from pymatgen>=2023.10.3->fairchem-core) (1.5.1)\n",
      "Collecting monty>=2025.1.9 (from pymatgen>=2023.10.3->fairchem-core)\n",
      "  Downloading monty-2025.3.3-py3-none-any.whl.metadata (3.6 kB)\n",
      "Requirement already satisfied: networkx>=2.7 in /usr/local/lib/python3.11/dist-packages (from pymatgen>=2023.10.3->fairchem-core) (3.5)\n",
      "Collecting palettable>=3.3.3 (from pymatgen>=2023.10.3->fairchem-core)\n",
      "  Downloading palettable-3.3.3-py2.py3-none-any.whl.metadata (3.3 kB)\n",
      "Requirement already satisfied: pandas>=2 in /usr/local/lib/python3.11/dist-packages (from pymatgen>=2023.10.3->fairchem-core) (2.2.2)\n",
      "Requirement already satisfied: plotly>=5.0.0 in /usr/local/lib/python3.11/dist-packages (from pymatgen>=2023.10.3->fairchem-core) (5.24.1)\n",
      "Collecting ruamel.yaml>=0.17.0 (from pymatgen>=2023.10.3->fairchem-core)\n",
      "  Downloading ruamel.yaml-0.18.14-py3-none-any.whl.metadata (24 kB)\n",
      "Collecting spglib>=2.5 (from pymatgen>=2023.10.3->fairchem-core)\n",
      "  Downloading spglib-2.6.0-cp311-cp311-manylinux_2_17_x86_64.manylinux2014_x86_64.whl.metadata (4.2 kB)\n",
      "Requirement already satisfied: tabulate>=0.9 in /usr/local/lib/python3.11/dist-packages (from pymatgen>=2023.10.3->fairchem-core) (0.9.0)\n",
      "Collecting uncertainties>=3.1.4 (from pymatgen>=2023.10.3->fairchem-core)\n",
      "  Downloading uncertainties-3.2.3-py3-none-any.whl.metadata (7.0 kB)\n",
      "Requirement already satisfied: charset-normalizer<4,>=2 in /usr/local/lib/python3.11/dist-packages (from requests->fairchem-core) (3.4.2)\n",
      "Requirement already satisfied: idna<4,>=2.5 in /usr/local/lib/python3.11/dist-packages (from requests->fairchem-core) (3.10)\n",
      "Requirement already satisfied: urllib3<3,>=1.21.1 in /usr/local/lib/python3.11/dist-packages (from requests->fairchem-core) (2.4.0)\n",
      "Requirement already satisfied: certifi>=2017.4.17 in /usr/local/lib/python3.11/dist-packages (from requests->fairchem-core) (2025.6.15)\n",
      "Requirement already satisfied: jinja2 in /usr/local/lib/python3.11/dist-packages (from torch~=2.6.0->fairchem-core) (3.1.6)\n",
      "Collecting nvidia-cuda-nvrtc-cu12==12.4.127 (from torch~=2.6.0->fairchem-core)\n",
      "  Downloading nvidia_cuda_nvrtc_cu12-12.4.127-py3-none-manylinux2014_x86_64.whl.metadata (1.5 kB)\n",
      "Collecting nvidia-cuda-runtime-cu12==12.4.127 (from torch~=2.6.0->fairchem-core)\n",
      "  Downloading nvidia_cuda_runtime_cu12-12.4.127-py3-none-manylinux2014_x86_64.whl.metadata (1.5 kB)\n",
      "Collecting nvidia-cuda-cupti-cu12==12.4.127 (from torch~=2.6.0->fairchem-core)\n",
      "  Downloading nvidia_cuda_cupti_cu12-12.4.127-py3-none-manylinux2014_x86_64.whl.metadata (1.6 kB)\n",
      "Collecting nvidia-cudnn-cu12==9.1.0.70 (from torch~=2.6.0->fairchem-core)\n",
      "  Downloading nvidia_cudnn_cu12-9.1.0.70-py3-none-manylinux2014_x86_64.whl.metadata (1.6 kB)\n",
      "Collecting nvidia-cublas-cu12==12.4.5.8 (from torch~=2.6.0->fairchem-core)\n",
      "  Downloading nvidia_cublas_cu12-12.4.5.8-py3-none-manylinux2014_x86_64.whl.metadata (1.5 kB)\n",
      "Collecting nvidia-cufft-cu12==11.2.1.3 (from torch~=2.6.0->fairchem-core)\n",
      "  Downloading nvidia_cufft_cu12-11.2.1.3-py3-none-manylinux2014_x86_64.whl.metadata (1.5 kB)\n",
      "Collecting nvidia-curand-cu12==10.3.5.147 (from torch~=2.6.0->fairchem-core)\n",
      "  Downloading nvidia_curand_cu12-10.3.5.147-py3-none-manylinux2014_x86_64.whl.metadata (1.5 kB)\n",
      "Collecting nvidia-cusolver-cu12==11.6.1.9 (from torch~=2.6.0->fairchem-core)\n",
      "  Downloading nvidia_cusolver_cu12-11.6.1.9-py3-none-manylinux2014_x86_64.whl.metadata (1.6 kB)\n",
      "Collecting nvidia-cusparse-cu12==12.3.1.170 (from torch~=2.6.0->fairchem-core)\n",
      "  Downloading nvidia_cusparse_cu12-12.3.1.170-py3-none-manylinux2014_x86_64.whl.metadata (1.6 kB)\n",
      "Requirement already satisfied: nvidia-cusparselt-cu12==0.6.2 in /usr/local/lib/python3.11/dist-packages (from torch~=2.6.0->fairchem-core) (0.6.2)\n",
      "Requirement already satisfied: nvidia-nccl-cu12==2.21.5 in /usr/local/lib/python3.11/dist-packages (from torch~=2.6.0->fairchem-core) (2.21.5)\n",
      "Requirement already satisfied: nvidia-nvtx-cu12==12.4.127 in /usr/local/lib/python3.11/dist-packages (from torch~=2.6.0->fairchem-core) (12.4.127)\n",
      "Collecting nvidia-nvjitlink-cu12==12.4.127 (from torch~=2.6.0->fairchem-core)\n",
      "  Downloading nvidia_nvjitlink_cu12-12.4.127-py3-none-manylinux2014_x86_64.whl.metadata (1.5 kB)\n",
      "Requirement already satisfied: triton==3.2.0 in /usr/local/lib/python3.11/dist-packages (from torch~=2.6.0->fairchem-core) (3.2.0)\n",
      "Requirement already satisfied: mpmath<1.4,>=1.1.0 in /usr/local/lib/python3.11/dist-packages (from sympy->e3nn>=0.5->fairchem-core) (1.3.0)\n",
      "Requirement already satisfied: omegaconf<2.4,>=2.2 in /usr/local/lib/python3.11/dist-packages (from hydra-core->fairchem-core) (2.3.0)\n",
      "Requirement already satisfied: antlr4-python3-runtime==4.9.* in /usr/local/lib/python3.11/dist-packages (from hydra-core->fairchem-core) (4.9.3)\n",
      "Requirement already satisfied: cloudpickle>=1.2.1 in /usr/local/lib/python3.11/dist-packages (from submitit->fairchem-core) (3.1.1)\n",
      "Requirement already satisfied: absl-py>=0.4 in /usr/local/lib/python3.11/dist-packages (from tensorboard->fairchem-core) (1.4.0)\n",
      "Requirement already satisfied: grpcio>=1.48.2 in /usr/local/lib/python3.11/dist-packages (from tensorboard->fairchem-core) (1.73.0)\n",
      "Requirement already satisfied: markdown>=2.6.8 in /usr/local/lib/python3.11/dist-packages (from tensorboard->fairchem-core) (3.8)\n",
      "Requirement already satisfied: protobuf!=4.24.0,>=3.19.6 in /usr/local/lib/python3.11/dist-packages (from tensorboard->fairchem-core) (5.29.5)\n",
      "Requirement already satisfied: setuptools>=41.0.0 in /usr/local/lib/python3.11/dist-packages (from tensorboard->fairchem-core) (75.2.0)\n",
      "Requirement already satisfied: six>1.9 in /usr/local/lib/python3.11/dist-packages (from tensorboard->fairchem-core) (1.17.0)\n",
      "Requirement already satisfied: tensorboard-data-server<0.8.0,>=0.7.0 in /usr/local/lib/python3.11/dist-packages (from tensorboard->fairchem-core) (0.7.2)\n",
      "Requirement already satisfied: werkzeug>=1.0.1 in /usr/local/lib/python3.11/dist-packages (from tensorboard->fairchem-core) (3.1.3)\n",
      "Requirement already satisfied: psutil in /usr/local/lib/python3.11/dist-packages (from torchtnt->fairchem-core) (5.9.5)\n",
      "Collecting pyre-extensions (from torchtnt->fairchem-core)\n",
      "  Downloading pyre_extensions-0.0.32-py3-none-any.whl.metadata (4.0 kB)\n",
      "Requirement already satisfied: click!=8.0.0,>=7.1 in /usr/local/lib/python3.11/dist-packages (from wandb->fairchem-core) (8.2.1)\n",
      "Requirement already satisfied: gitpython!=3.1.29,>=1.0.0 in /usr/local/lib/python3.11/dist-packages (from wandb->fairchem-core) (3.1.44)\n",
      "Requirement already satisfied: platformdirs in /usr/local/lib/python3.11/dist-packages (from wandb->fairchem-core) (4.3.8)\n",
      "Requirement already satisfied: pydantic<3 in /usr/local/lib/python3.11/dist-packages (from wandb->fairchem-core) (2.11.7)\n",
      "Requirement already satisfied: sentry-sdk>=2.0.0 in /usr/local/lib/python3.11/dist-packages (from wandb->fairchem-core) (2.30.0)\n",
      "Requirement already satisfied: setproctitle in /usr/local/lib/python3.11/dist-packages (from wandb->fairchem-core) (1.3.6)\n",
      "Requirement already satisfied: pyparsing>=2.0.3 in /usr/local/lib/python3.11/dist-packages (from bibtexparser>=1.4.0->pymatgen>=2023.10.3->fairchem-core) (3.2.3)\n",
      "Requirement already satisfied: gitdb<5,>=4.0.1 in /usr/local/lib/python3.11/dist-packages (from gitpython!=3.1.29,>=1.0.0->wandb->fairchem-core) (4.0.12)\n",
      "Requirement already satisfied: contourpy>=1.0.1 in /usr/local/lib/python3.11/dist-packages (from matplotlib>=3.3.4->ase>=3.25.0->fairchem-core) (1.3.2)\n",
      "Requirement already satisfied: cycler>=0.10 in /usr/local/lib/python3.11/dist-packages (from matplotlib>=3.3.4->ase>=3.25.0->fairchem-core) (0.12.1)\n",
      "Requirement already satisfied: fonttools>=4.22.0 in /usr/local/lib/python3.11/dist-packages (from matplotlib>=3.3.4->ase>=3.25.0->fairchem-core) (4.58.4)\n",
      "Requirement already satisfied: kiwisolver>=1.3.1 in /usr/local/lib/python3.11/dist-packages (from matplotlib>=3.3.4->ase>=3.25.0->fairchem-core) (1.4.8)\n",
      "Requirement already satisfied: pillow>=8 in /usr/local/lib/python3.11/dist-packages (from matplotlib>=3.3.4->ase>=3.25.0->fairchem-core) (11.2.1)\n",
      "Requirement already satisfied: python-dateutil>=2.7 in /usr/local/lib/python3.11/dist-packages (from matplotlib>=3.3.4->ase>=3.25.0->fairchem-core) (2.9.0.post0)\n",
      "Requirement already satisfied: opt-einsum in /usr/local/lib/python3.11/dist-packages (from opt_einsum_fx>=0.1.4->e3nn>=0.5->fairchem-core) (3.4.0)\n",
      "Requirement already satisfied: pytz>=2020.1 in /usr/local/lib/python3.11/dist-packages (from pandas>=2->pymatgen>=2023.10.3->fairchem-core) (2025.2)\n",
      "Requirement already satisfied: tzdata>=2022.7 in /usr/local/lib/python3.11/dist-packages (from pandas>=2->pymatgen>=2023.10.3->fairchem-core) (2025.2)\n",
      "Requirement already satisfied: tenacity>=6.2.0 in /usr/local/lib/python3.11/dist-packages (from plotly>=5.0.0->pymatgen>=2023.10.3->fairchem-core) (9.1.2)\n",
      "Requirement already satisfied: annotated-types>=0.6.0 in /usr/local/lib/python3.11/dist-packages (from pydantic<3->wandb->fairchem-core) (0.7.0)\n",
      "Requirement already satisfied: pydantic-core==2.33.2 in /usr/local/lib/python3.11/dist-packages (from pydantic<3->wandb->fairchem-core) (2.33.2)\n",
      "Requirement already satisfied: typing-inspection>=0.4.0 in /usr/local/lib/python3.11/dist-packages (from pydantic<3->wandb->fairchem-core) (0.4.1)\n",
      "Collecting ruamel.yaml.clib>=0.2.7 (from ruamel.yaml>=0.17.0->pymatgen>=2023.10.3->fairchem-core)\n",
      "  Downloading ruamel.yaml.clib-0.2.12-cp311-cp311-manylinux_2_17_x86_64.manylinux2014_x86_64.whl.metadata (2.7 kB)\n",
      "Requirement already satisfied: MarkupSafe>=2.1.1 in /usr/local/lib/python3.11/dist-packages (from werkzeug>=1.0.1->tensorboard->fairchem-core) (3.0.2)\n",
      "Requirement already satisfied: cffi>=1.12 in /usr/local/lib/python3.11/dist-packages (from cryptography->ase-db-backends>=0.10.0->fairchem-core) (1.17.1)\n",
      "Collecting typing-inspect (from pyre-extensions->torchtnt->fairchem-core)\n",
      "  Downloading typing_inspect-0.9.0-py3-none-any.whl.metadata (1.5 kB)\n",
      "Requirement already satisfied: pycparser in /usr/local/lib/python3.11/dist-packages (from cffi>=1.12->cryptography->ase-db-backends>=0.10.0->fairchem-core) (2.22)\n",
      "Requirement already satisfied: smmap<6,>=3.0.1 in /usr/local/lib/python3.11/dist-packages (from gitdb<5,>=4.0.1->gitpython!=3.1.29,>=1.0.0->wandb->fairchem-core) (5.0.2)\n",
      "Collecting mypy-extensions>=0.3.0 (from typing-inspect->pyre-extensions->torchtnt->fairchem-core)\n",
      "  Downloading mypy_extensions-1.1.0-py3-none-any.whl.metadata (1.1 kB)\n",
      "Downloading fairchem_core-2.2.0-py3-none-any.whl (284 kB)\n",
      "\u001b[2K   \u001b[90m━━━━━━━━━━━━━━━━━━━━━━━━━━━━━━━━━━━━━━━━\u001b[0m \u001b[32m284.9/284.9 kB\u001b[0m \u001b[31m14.1 MB/s\u001b[0m eta \u001b[36m0:00:00\u001b[0m\n",
      "\u001b[?25hDownloading ase-3.25.0-py3-none-any.whl (3.0 MB)\n",
      "\u001b[2K   \u001b[90m━━━━━━━━━━━━━━━━━━━━━━━━━━━━━━━━━━━━━━━━\u001b[0m \u001b[32m3.0/3.0 MB\u001b[0m \u001b[31m63.2 MB/s\u001b[0m eta \u001b[36m0:00:00\u001b[0m\n",
      "\u001b[?25hDownloading ase_db_backends-0.10.0-py3-none-any.whl (42 kB)\n",
      "\u001b[2K   \u001b[90m━━━━━━━━━━━━━━━━━━━━━━━━━━━━━━━━━━━━━━━━\u001b[0m \u001b[32m42.9/42.9 kB\u001b[0m \u001b[31m4.4 MB/s\u001b[0m eta \u001b[36m0:00:00\u001b[0m\n",
      "\u001b[?25hDownloading e3nn-0.5.6-py3-none-any.whl (448 kB)\n",
      "\u001b[2K   \u001b[90m━━━━━━━━━━━━━━━━━━━━━━━━━━━━━━━━━━━━━━━━\u001b[0m \u001b[32m448.0/448.0 kB\u001b[0m \u001b[31m21.1 MB/s\u001b[0m eta \u001b[36m0:00:00\u001b[0m\n",
      "\u001b[?25hDownloading numba-0.61.2-cp311-cp311-manylinux2014_x86_64.manylinux_2_17_x86_64.whl (3.8 MB)\n",
      "\u001b[2K   \u001b[90m━━━━━━━━━━━━━━━━━━━━━━━━━━━━━━━━━━━━━━━━\u001b[0m \u001b[32m3.8/3.8 MB\u001b[0m \u001b[31m73.1 MB/s\u001b[0m eta \u001b[36m0:00:00\u001b[0m\n",
      "\u001b[?25hDownloading pymatgen-2025.6.14-cp311-cp311-manylinux_2_17_x86_64.manylinux2014_x86_64.whl (5.1 MB)\n",
      "\u001b[2K   \u001b[90m━━━━━━━━━━━━━━━━━━━━━━━━━━━━━━━━━━━━━━━━\u001b[0m \u001b[32m5.1/5.1 MB\u001b[0m \u001b[31m88.6 MB/s\u001b[0m eta \u001b[36m0:00:00\u001b[0m\n",
      "\u001b[?25hDownloading nvidia_cublas_cu12-12.4.5.8-py3-none-manylinux2014_x86_64.whl (363.4 MB)\n",
      "\u001b[2K   \u001b[90m━━━━━━━━━━━━━━━━━━━━━━━━━━━━━━━━━━━━━━━━\u001b[0m \u001b[32m363.4/363.4 MB\u001b[0m \u001b[31m4.1 MB/s\u001b[0m eta \u001b[36m0:00:00\u001b[0m\n",
      "\u001b[?25hDownloading nvidia_cuda_cupti_cu12-12.4.127-py3-none-manylinux2014_x86_64.whl (13.8 MB)\n",
      "\u001b[2K   \u001b[90m━━━━━━━━━━━━━━━━━━━━━━━━━━━━━━━━━━━━━━━━\u001b[0m \u001b[32m13.8/13.8 MB\u001b[0m \u001b[31m76.9 MB/s\u001b[0m eta \u001b[36m0:00:00\u001b[0m\n",
      "\u001b[?25hDownloading nvidia_cuda_nvrtc_cu12-12.4.127-py3-none-manylinux2014_x86_64.whl (24.6 MB)\n",
      "\u001b[2K   \u001b[90m━━━━━━━━━━━━━━━━━━━━━━━━━━━━━━━━━━━━━━━━\u001b[0m \u001b[32m24.6/24.6 MB\u001b[0m \u001b[31m63.4 MB/s\u001b[0m eta \u001b[36m0:00:00\u001b[0m\n",
      "\u001b[?25hDownloading nvidia_cuda_runtime_cu12-12.4.127-py3-none-manylinux2014_x86_64.whl (883 kB)\n",
      "\u001b[2K   \u001b[90m━━━━━━━━━━━━━━━━━━━━━━━━━━━━━━━━━━━━━━━━\u001b[0m \u001b[32m883.7/883.7 kB\u001b[0m \u001b[31m49.9 MB/s\u001b[0m eta \u001b[36m0:00:00\u001b[0m\n",
      "\u001b[?25hDownloading nvidia_cudnn_cu12-9.1.0.70-py3-none-manylinux2014_x86_64.whl (664.8 MB)\n",
      "\u001b[2K   \u001b[90m━━━━━━━━━━━━━━━━━━━━━━━━━━━━━━━━━━━━━━━━\u001b[0m \u001b[32m664.8/664.8 MB\u001b[0m \u001b[31m2.9 MB/s\u001b[0m eta \u001b[36m0:00:00\u001b[0m\n",
      "\u001b[?25hDownloading nvidia_cufft_cu12-11.2.1.3-py3-none-manylinux2014_x86_64.whl (211.5 MB)\n",
      "\u001b[2K   \u001b[90m━━━━━━━━━━━━━━━━━━━━━━━━━━━━━━━━━━━━━━━━\u001b[0m \u001b[32m211.5/211.5 MB\u001b[0m \u001b[31m5.5 MB/s\u001b[0m eta \u001b[36m0:00:00\u001b[0m\n",
      "\u001b[?25hDownloading nvidia_curand_cu12-10.3.5.147-py3-none-manylinux2014_x86_64.whl (56.3 MB)\n",
      "\u001b[2K   \u001b[90m━━━━━━━━━━━━━━━━━━━━━━━━━━━━━━━━━━━━━━━━\u001b[0m \u001b[32m56.3/56.3 MB\u001b[0m \u001b[31m13.8 MB/s\u001b[0m eta \u001b[36m0:00:00\u001b[0m\n",
      "\u001b[?25hDownloading nvidia_cusolver_cu12-11.6.1.9-py3-none-manylinux2014_x86_64.whl (127.9 MB)\n",
      "\u001b[2K   \u001b[90m━━━━━━━━━━━━━━━━━━━━━━━━━━━━━━━━━━━━━━━━\u001b[0m \u001b[32m127.9/127.9 MB\u001b[0m \u001b[31m7.8 MB/s\u001b[0m eta \u001b[36m0:00:00\u001b[0m\n",
      "\u001b[?25hDownloading nvidia_cusparse_cu12-12.3.1.170-py3-none-manylinux2014_x86_64.whl (207.5 MB)\n",
      "\u001b[2K   \u001b[90m━━━━━━━━━━━━━━━━━━━━━━━━━━━━━━━━━━━━━━━━\u001b[0m \u001b[32m207.5/207.5 MB\u001b[0m \u001b[31m5.9 MB/s\u001b[0m eta \u001b[36m0:00:00\u001b[0m\n",
      "\u001b[?25hDownloading nvidia_nvjitlink_cu12-12.4.127-py3-none-manylinux2014_x86_64.whl (21.1 MB)\n",
      "\u001b[2K   \u001b[90m━━━━━━━━━━━━━━━━━━━━━━━━━━━━━━━━━━━━━━━━\u001b[0m \u001b[32m21.1/21.1 MB\u001b[0m \u001b[31m42.8 MB/s\u001b[0m eta \u001b[36m0:00:00\u001b[0m\n",
      "\u001b[?25hDownloading hydra_core-1.3.2-py3-none-any.whl (154 kB)\n",
      "\u001b[2K   \u001b[90m━━━━━━━━━━━━━━━━━━━━━━━━━━━━━━━━━━━━━━━━\u001b[0m \u001b[32m154.5/154.5 kB\u001b[0m \u001b[31m15.0 MB/s\u001b[0m eta \u001b[36m0:00:00\u001b[0m\n",
      "\u001b[?25hDownloading lmdb-1.6.2-cp311-cp311-manylinux_2_17_x86_64.manylinux2014_x86_64.whl (297 kB)\n",
      "\u001b[2K   \u001b[90m━━━━━━━━━━━━━━━━━━━━━━━━━━━━━━━━━━━━━━━━\u001b[0m \u001b[32m297.8/297.8 kB\u001b[0m \u001b[31m27.8 MB/s\u001b[0m eta \u001b[36m0:00:00\u001b[0m\n",
      "\u001b[?25hDownloading submitit-1.5.3-py3-none-any.whl (75 kB)\n",
      "\u001b[2K   \u001b[90m━━━━━━━━━━━━━━━━━━━━━━━━━━━━━━━━━━━━━━━━\u001b[0m \u001b[32m75.5/75.5 kB\u001b[0m \u001b[31m7.5 MB/s\u001b[0m eta \u001b[36m0:00:00\u001b[0m\n",
      "\u001b[?25hDownloading torchtnt-0.2.4-py3-none-any.whl (163 kB)\n",
      "\u001b[2K   \u001b[90m━━━━━━━━━━━━━━━━━━━━━━━━━━━━━━━━━━━━━━━━\u001b[0m \u001b[32m163.5/163.5 kB\u001b[0m \u001b[31m16.4 MB/s\u001b[0m eta \u001b[36m0:00:00\u001b[0m\n",
      "\u001b[?25hDownloading llvmlite-0.44.0-cp311-cp311-manylinux_2_17_x86_64.manylinux2014_x86_64.whl (42.4 MB)\n",
      "\u001b[2K   \u001b[90m━━━━━━━━━━━━━━━━━━━━━━━━━━━━━━━━━━━━━━━━\u001b[0m \u001b[32m42.4/42.4 MB\u001b[0m \u001b[31m21.4 MB/s\u001b[0m eta \u001b[36m0:00:00\u001b[0m\n",
      "\u001b[?25hDownloading monty-2025.3.3-py3-none-any.whl (51 kB)\n",
      "\u001b[2K   \u001b[90m━━━━━━━━━━━━━━━━━━━━━━━━━━━━━━━━━━━━━━━━\u001b[0m \u001b[32m51.9/51.9 kB\u001b[0m \u001b[31m4.9 MB/s\u001b[0m eta \u001b[36m0:00:00\u001b[0m\n",
      "\u001b[?25hDownloading opt_einsum_fx-0.1.4-py3-none-any.whl (13 kB)\n",
      "Downloading palettable-3.3.3-py2.py3-none-any.whl (332 kB)\n",
      "\u001b[2K   \u001b[90m━━━━━━━━━━━━━━━━━━━━━━━━━━━━━━━━━━━━━━━━\u001b[0m \u001b[32m332.3/332.3 kB\u001b[0m \u001b[31m27.9 MB/s\u001b[0m eta \u001b[36m0:00:00\u001b[0m\n",
      "\u001b[?25hDownloading ruamel.yaml-0.18.14-py3-none-any.whl (118 kB)\n",
      "\u001b[2K   \u001b[90m━━━━━━━━━━━━━━━━━━━━━━━━━━━━━━━━━━━━━━━━\u001b[0m \u001b[32m118.6/118.6 kB\u001b[0m \u001b[31m12.6 MB/s\u001b[0m eta \u001b[36m0:00:00\u001b[0m\n",
      "\u001b[?25hDownloading spglib-2.6.0-cp311-cp311-manylinux_2_17_x86_64.manylinux2014_x86_64.whl (809 kB)\n",
      "\u001b[2K   \u001b[90m━━━━━━━━━━━━━━━━━━━━━━━━━━━━━━━━━━━━━━━━\u001b[0m \u001b[32m809.0/809.0 kB\u001b[0m \u001b[31m62.0 MB/s\u001b[0m eta \u001b[36m0:00:00\u001b[0m\n",
      "\u001b[?25hDownloading uncertainties-3.2.3-py3-none-any.whl (60 kB)\n",
      "\u001b[2K   \u001b[90m━━━━━━━━━━━━━━━━━━━━━━━━━━━━━━━━━━━━━━━━\u001b[0m \u001b[32m60.1/60.1 kB\u001b[0m \u001b[31m6.1 MB/s\u001b[0m eta \u001b[36m0:00:00\u001b[0m\n",
      "\u001b[?25hDownloading psycopg2_binary-2.9.10-cp311-cp311-manylinux_2_17_x86_64.manylinux2014_x86_64.whl (3.0 MB)\n",
      "\u001b[2K   \u001b[90m━━━━━━━━━━━━━━━━━━━━━━━━━━━━━━━━━━━━━━━━\u001b[0m \u001b[32m3.0/3.0 MB\u001b[0m \u001b[31m103.7 MB/s\u001b[0m eta \u001b[36m0:00:00\u001b[0m\n",
      "\u001b[?25hDownloading PyMySQL-1.1.1-py3-none-any.whl (44 kB)\n",
      "\u001b[2K   \u001b[90m━━━━━━━━━━━━━━━━━━━━━━━━━━━━━━━━━━━━━━━━\u001b[0m \u001b[32m45.0/45.0 kB\u001b[0m \u001b[31m4.1 MB/s\u001b[0m eta \u001b[36m0:00:00\u001b[0m\n",
      "\u001b[?25hDownloading pyre_extensions-0.0.32-py3-none-any.whl (12 kB)\n",
      "Downloading ruamel.yaml.clib-0.2.12-cp311-cp311-manylinux_2_17_x86_64.manylinux2014_x86_64.whl (739 kB)\n",
      "\u001b[2K   \u001b[90m━━━━━━━━━━━━━━━━━━━━━━━━━━━━━━━━━━━━━━━━\u001b[0m \u001b[32m739.1/739.1 kB\u001b[0m \u001b[31m57.7 MB/s\u001b[0m eta \u001b[36m0:00:00\u001b[0m\n",
      "\u001b[?25hDownloading typing_inspect-0.9.0-py3-none-any.whl (8.8 kB)\n",
      "Downloading mypy_extensions-1.1.0-py3-none-any.whl (5.0 kB)\n",
      "Building wheels for collected packages: bibtexparser\n",
      "  Building wheel for bibtexparser (setup.py) ... \u001b[?25l\u001b[?25hdone\n",
      "  Created wheel for bibtexparser: filename=bibtexparser-1.4.3-py3-none-any.whl size=43549 sha256=9374da7ba41a5b5cefb46111affc11d73e12b8d1f7a853632315774dbc59c5a4\n",
      "  Stored in directory: /root/.cache/pip/wheels/16/fb/76/306387739cf9d53b1c39b0c8aadbbb17dc05f256756d8fd915\n",
      "Successfully built bibtexparser\n",
      "Installing collected packages: lmdb, uncertainties, submitit, spglib, ruamel.yaml.clib, pymysql, psycopg2-binary, palettable, nvidia-nvjitlink-cu12, nvidia-curand-cu12, nvidia-cufft-cu12, nvidia-cuda-runtime-cu12, nvidia-cuda-nvrtc-cu12, nvidia-cuda-cupti-cu12, nvidia-cublas-cu12, mypy-extensions, llvmlite, bibtexparser, typing-inspect, ruamel.yaml, nvidia-cusparse-cu12, nvidia-cudnn-cu12, numba, hydra-core, pyre-extensions, nvidia-cusolver-cu12, monty, ase, pymatgen, ase-db-backends, torchtnt, opt_einsum_fx, e3nn, fairchem-core\n",
      "  Attempting uninstall: nvidia-nvjitlink-cu12\n",
      "    Found existing installation: nvidia-nvjitlink-cu12 12.5.82\n",
      "    Uninstalling nvidia-nvjitlink-cu12-12.5.82:\n",
      "      Successfully uninstalled nvidia-nvjitlink-cu12-12.5.82\n",
      "  Attempting uninstall: nvidia-curand-cu12\n",
      "    Found existing installation: nvidia-curand-cu12 10.3.6.82\n",
      "    Uninstalling nvidia-curand-cu12-10.3.6.82:\n",
      "      Successfully uninstalled nvidia-curand-cu12-10.3.6.82\n",
      "  Attempting uninstall: nvidia-cufft-cu12\n",
      "    Found existing installation: nvidia-cufft-cu12 11.2.3.61\n",
      "    Uninstalling nvidia-cufft-cu12-11.2.3.61:\n",
      "      Successfully uninstalled nvidia-cufft-cu12-11.2.3.61\n",
      "  Attempting uninstall: nvidia-cuda-runtime-cu12\n",
      "    Found existing installation: nvidia-cuda-runtime-cu12 12.5.82\n",
      "    Uninstalling nvidia-cuda-runtime-cu12-12.5.82:\n",
      "      Successfully uninstalled nvidia-cuda-runtime-cu12-12.5.82\n",
      "  Attempting uninstall: nvidia-cuda-nvrtc-cu12\n",
      "    Found existing installation: nvidia-cuda-nvrtc-cu12 12.5.82\n",
      "    Uninstalling nvidia-cuda-nvrtc-cu12-12.5.82:\n",
      "      Successfully uninstalled nvidia-cuda-nvrtc-cu12-12.5.82\n",
      "  Attempting uninstall: nvidia-cuda-cupti-cu12\n",
      "    Found existing installation: nvidia-cuda-cupti-cu12 12.5.82\n",
      "    Uninstalling nvidia-cuda-cupti-cu12-12.5.82:\n",
      "      Successfully uninstalled nvidia-cuda-cupti-cu12-12.5.82\n",
      "  Attempting uninstall: nvidia-cublas-cu12\n",
      "    Found existing installation: nvidia-cublas-cu12 12.5.3.2\n",
      "    Uninstalling nvidia-cublas-cu12-12.5.3.2:\n",
      "      Successfully uninstalled nvidia-cublas-cu12-12.5.3.2\n",
      "  Attempting uninstall: llvmlite\n",
      "    Found existing installation: llvmlite 0.43.0\n",
      "    Uninstalling llvmlite-0.43.0:\n",
      "      Successfully uninstalled llvmlite-0.43.0\n",
      "  Attempting uninstall: nvidia-cusparse-cu12\n",
      "    Found existing installation: nvidia-cusparse-cu12 12.5.1.3\n",
      "    Uninstalling nvidia-cusparse-cu12-12.5.1.3:\n",
      "      Successfully uninstalled nvidia-cusparse-cu12-12.5.1.3\n",
      "  Attempting uninstall: nvidia-cudnn-cu12\n",
      "    Found existing installation: nvidia-cudnn-cu12 9.3.0.75\n",
      "    Uninstalling nvidia-cudnn-cu12-9.3.0.75:\n",
      "      Successfully uninstalled nvidia-cudnn-cu12-9.3.0.75\n",
      "  Attempting uninstall: numba\n",
      "    Found existing installation: numba 0.60.0\n",
      "    Uninstalling numba-0.60.0:\n",
      "      Successfully uninstalled numba-0.60.0\n",
      "  Attempting uninstall: nvidia-cusolver-cu12\n",
      "    Found existing installation: nvidia-cusolver-cu12 11.6.3.83\n",
      "    Uninstalling nvidia-cusolver-cu12-11.6.3.83:\n",
      "      Successfully uninstalled nvidia-cusolver-cu12-11.6.3.83\n",
      "\u001b[31mERROR: pip's dependency resolver does not currently take into account all the packages that are installed. This behaviour is the source of the following dependency conflicts.\n",
      "dask-cuda 25.2.0 requires numba<0.61.0a0,>=0.59.1, but you have numba 0.61.2 which is incompatible.\n",
      "cudf-cu12 25.2.1 requires numba<0.61.0a0,>=0.59.1, but you have numba 0.61.2 which is incompatible.\n",
      "cuml-cu12 25.2.1 requires numba<0.61.0a0,>=0.59.1, but you have numba 0.61.2 which is incompatible.\n",
      "distributed-ucxx-cu12 0.42.0 requires numba<0.61.0a0,>=0.59.1, but you have numba 0.61.2 which is incompatible.\u001b[0m\u001b[31m\n",
      "\u001b[0mSuccessfully installed ase-3.25.0 ase-db-backends-0.10.0 bibtexparser-1.4.3 e3nn-0.5.6 fairchem-core-2.2.0 hydra-core-1.3.2 llvmlite-0.44.0 lmdb-1.6.2 monty-2025.3.3 mypy-extensions-1.1.0 numba-0.61.2 nvidia-cublas-cu12-12.4.5.8 nvidia-cuda-cupti-cu12-12.4.127 nvidia-cuda-nvrtc-cu12-12.4.127 nvidia-cuda-runtime-cu12-12.4.127 nvidia-cudnn-cu12-9.1.0.70 nvidia-cufft-cu12-11.2.1.3 nvidia-curand-cu12-10.3.5.147 nvidia-cusolver-cu12-11.6.1.9 nvidia-cusparse-cu12-12.3.1.170 nvidia-nvjitlink-cu12-12.4.127 opt_einsum_fx-0.1.4 palettable-3.3.3 psycopg2-binary-2.9.10 pymatgen-2025.6.14 pymysql-1.1.1 pyre-extensions-0.0.32 ruamel.yaml-0.18.14 ruamel.yaml.clib-0.2.12 spglib-2.6.0 submitit-1.5.3 torchtnt-0.2.4 typing-inspect-0.9.0 uncertainties-3.2.3\n"
     ]
    }
   ],
   "source": [
    "! pip install py3Dmol\n",
    "! pip install fairchem-core"
   ]
  },
  {
   "cell_type": "markdown",
   "metadata": {
    "id": "5VmO2vg3e_Bz"
   },
   "source": [
    "### Import libraries, pull CafChem from Github"
   ]
  },
  {
   "cell_type": "code",
   "execution_count": 13,
   "metadata": {
    "colab": {
     "base_uri": "https://localhost:8080/"
    },
    "id": "8z14e6RLgA0w",
    "outputId": "fad3e12d-2685-418f-b3b3-40750ab659fb"
   },
   "outputs": [
    {
     "name": "stdout",
     "output_type": "stream",
     "text": [
      "Cloning into 'CafChem'...\n",
      "remote: Enumerating objects: 47, done.\u001b[K\n",
      "remote: Counting objects: 100% (47/47), done.\u001b[K\n",
      "remote: Compressing objects: 100% (45/45), done.\u001b[K\n",
      "remote: Total 47 (delta 19), reused 0 (delta 0), pack-reused 0 (from 0)\u001b[K\n",
      "Receiving objects: 100% (47/47), 618.41 KiB | 1.98 MiB/s, done.\n",
      "Resolving deltas: 100% (19/19), done.\n"
     ]
    }
   ],
   "source": [
    "!git clone https://github.com/MauricioCafiero/CafChem.git"
   ]
  },
  {
   "cell_type": "code",
   "execution_count": 4,
   "metadata": {
    "colab": {
     "base_uri": "https://localhost:8080/"
    },
    "id": "3a76e239-bd0e-4783-9c3e-7eb5ca48caa4",
    "outputId": "b854e422-7c70-4e09-860c-0dc8b7af182b"
   },
   "outputs": [
    {
     "name": "stderr",
     "output_type": "stream",
     "text": [
      "WARNING:deepchem.feat.molecule_featurizers.rdkit_descriptors:No normalization for SPS. Feature removed!\n",
      "WARNING:deepchem.feat.molecule_featurizers.rdkit_descriptors:No normalization for AvgIpc. Feature removed!\n",
      "WARNING:deepchem.feat.molecule_featurizers.rdkit_descriptors:No normalization for NumAmideBonds. Feature removed!\n",
      "WARNING:deepchem.feat.molecule_featurizers.rdkit_descriptors:No normalization for NumAtomStereoCenters. Feature removed!\n",
      "WARNING:deepchem.feat.molecule_featurizers.rdkit_descriptors:No normalization for NumBridgeheadAtoms. Feature removed!\n",
      "WARNING:deepchem.feat.molecule_featurizers.rdkit_descriptors:No normalization for NumHeterocycles. Feature removed!\n",
      "WARNING:deepchem.feat.molecule_featurizers.rdkit_descriptors:No normalization for NumSpiroAtoms. Feature removed!\n",
      "WARNING:deepchem.feat.molecule_featurizers.rdkit_descriptors:No normalization for NumUnspecifiedAtomStereoCenters. Feature removed!\n",
      "WARNING:deepchem.feat.molecule_featurizers.rdkit_descriptors:No normalization for Phi. Feature removed!\n",
      "\u001b[34m\u001b[1mwandb\u001b[0m: \u001b[33mWARNING\u001b[0m W&B installed but not logged in.  Run `wandb login` or set the WANDB_API_KEY env variable.\n",
      "WARNING:tensorflow:From /usr/local/lib/python3.11/dist-packages/tensorflow/python/util/deprecation.py:588: calling function (from tensorflow.python.eager.polymorphic_function.polymorphic_function) with experimental_relax_shapes is deprecated and will be removed in a future version.\n",
      "Instructions for updating:\n",
      "experimental_relax_shapes is deprecated, use reduce_retracing instead\n",
      "\u001b[34m\u001b[1mwandb\u001b[0m: \u001b[33mWARNING\u001b[0m W&B installed but not logged in.  Run `wandb login` or set the WANDB_API_KEY env variable.\n",
      "WARNING:deepchem.models.torch_models:Skipped loading modules with pytorch-geometric dependency, missing a dependency. No module named 'torch_geometric'\n",
      "WARNING:deepchem.models:Skipped loading modules with pytorch-geometric dependency, missing a dependency. cannot import name 'DMPNN' from 'deepchem.models.torch_models' (/usr/local/lib/python3.11/dist-packages/deepchem/models/torch_models/__init__.py)\n",
      "WARNING:deepchem.models:Skipped loading modules with pytorch-lightning dependency, missing a dependency. No module named 'lightning'\n",
      "WARNING:deepchem.models:Skipped loading some Jax models, missing a dependency. No module named 'haiku'\n"
     ]
    },
    {
     "name": "stdout",
     "output_type": "stream",
     "text": [
      "2\n"
     ]
    }
   ],
   "source": [
    "import torch\n",
    "import numpy as np\n",
    "import pandas as pd\n",
    "import deepchem as dc\n",
    "import time\n",
    "from rdkit import Chem\n",
    "import matplotlib.pyplot as plt\n",
    "from rdkit.Chem import AllChem, Draw\n",
    "from deepchem.feat.smiles_tokenizer import SmilesTokenizer\n",
    "from dockstring import load_target\n",
    "from google.colab import files\n",
    "import os\n",
    "import py3Dmol\n",
    "import ase.io\n",
    "from ase import Atoms\n",
    "from ase.optimize import BFGS\n",
    "from ase.constraints import FixAtoms\n",
    "from fairchem.core import FAIRChemCalculator, pretrained_mlip\n",
    "import CafChem.CafChemReDock as ccr\n",
    "\n",
    "cpuCount = os.cpu_count()\n",
    "print(cpuCount)"
   ]
  },
  {
   "cell_type": "markdown",
   "metadata": {
    "id": "TgKnUxauwpRz"
   },
   "source": [
    "## Set-up Fairchem\n",
    "- Must have HF_TOKEN saved as a secret"
   ]
  },
  {
   "cell_type": "code",
   "execution_count": 5,
   "metadata": {
    "colab": {
     "base_uri": "https://localhost:8080/",
     "height": 0,
     "referenced_widgets": [
      "613f1a058d4e42c1968862ba934cc3a6",
      "7e107713d6e94167b2263c0fc1535561",
      "f43885c8eb5643d0846edf746bd198bf",
      "9be871a8a8d2467c884bbe3f94edbe6b",
      "c21ba676cd8845fd8af26e2646ffaf87",
      "a74e565b8f2e4c40b8835f59fb7ec1d5",
      "9512f85407e54cdc93d0cdf7993867ce",
      "6977085f5da44ffa910f314aecbca77a",
      "d0ddef4306d04ec986926c271971b94a",
      "80f82163715f4659a0eca1ac85f3d61c",
      "6ad9cc447020427a83ff853a1a702c08"
     ]
    },
    "id": "sgzL6rV-5VGH",
    "outputId": "086f595b-128b-4d4a-b07f-ba3bcb6d59b3"
   },
   "outputs": [
    {
     "data": {
      "application/vnd.jupyter.widget-view+json": {
       "model_id": "613f1a058d4e42c1968862ba934cc3a6",
       "version_major": 2,
       "version_minor": 0
      },
      "text/plain": [
       "checkpoints/uma-s-1.pt:   0%|          | 0.00/1.17G [00:00<?, ?B/s]"
      ]
     },
     "metadata": {},
     "output_type": "display_data"
    }
   ],
   "source": [
    "device = \"cuda\" if torch.cuda.is_available() else \"cpu\"\n",
    "\n",
    "predictor = pretrained_mlip.get_predict_unit(\"uma-s-1\", device=device)\n",
    "calculator = FAIRChemCalculator(predictor, task_name=\"omol\")\n",
    "model = \"UMA-OMOL\""
   ]
  },
  {
   "cell_type": "markdown",
   "metadata": {
    "id": "S2Ka4_RitpSL"
   },
   "source": [
    "# Calculations"
   ]
  },
  {
   "cell_type": "markdown",
   "metadata": {
    "id": "eBwY3jy1D0D9"
   },
   "source": [
    "## Dock molecules\n",
    "- tools available include ccr.dock_dataframe, ccr.dock_list and ccr.dock_smiles\n",
    "- for each you must supply as arguments the SMILES input (either a filename, a list, or a SMILES string), the target protein, and the number of CPU cores to use. For ccr.dock_dataframe, you must also provide the key for the SMILES column in the CSV file.\n",
    "- xyz structures can be visualized via the ccr.visualize_molecule tool. This accepts an XYZ string as an argument. This may be easily extracted from an XYZ file as seen below."
   ]
  },
  {
   "cell_type": "code",
   "execution_count": null,
   "metadata": {
    "colab": {
     "base_uri": "https://localhost:8080/"
    },
    "id": "sP4K9p3rj3dD",
    "outputId": "6faf2ec1-4603-44aa-d7af-36437358ce7e"
   },
   "outputs": [
    {
     "name": "stdout",
     "output_type": "stream",
     "text": [
      "===============================================\n",
      "Docking 1 molecules in HMGCR.\n",
      "Docking molecule 1.\n",
      "SDF file written for score -4.5\n",
      "[-4.5]\n"
     ]
    }
   ],
   "source": [
    "scores = ccr.dock_dataframe(\"file.csv\",\"HMGCR\",cpuCount, \"smiles\",)\n",
    "print(scores)"
   ]
  },
  {
   "cell_type": "code",
   "execution_count": null,
   "metadata": {
    "colab": {
     "base_uri": "https://localhost:8080/"
    },
    "id": "GUbcx-UAoLsK",
    "outputId": "251cd615-9606-4826-f090-f0d84701e09a"
   },
   "outputs": [
    {
     "name": "stdout",
     "output_type": "stream",
     "text": [
      "===============================================\n",
      "Docking 1 molecules in HMGCR.\n",
      "Docking molecule 1.\n",
      "SDF file written for score -4.5\n",
      "[-4.5]\n"
     ]
    }
   ],
   "source": [
    "df = pd.read_csv(\"file.csv\")\n",
    "smiles_list = df[\"smiles\"].tolist()\n",
    "scores = ccr.dock_list(smiles_list,\"HMGCR\",cpuCount)\n",
    "print(scores)"
   ]
  },
  {
   "cell_type": "code",
   "execution_count": 6,
   "metadata": {
    "colab": {
     "base_uri": "https://localhost:8080/"
    },
    "id": "DJK3mXwijJWx",
    "outputId": "37e89b5b-c7ea-43c2-e949-e604162c1e8b"
   },
   "outputs": [
    {
     "name": "stdout",
     "output_type": "stream",
     "text": [
      "===============================================\n",
      "Docking molecule.\n",
      "SDF file written for score -8.1\n",
      "score: -8.1\n"
     ]
    }
   ],
   "source": [
    "statin = \"OC(=O)C[C@H](O)C[C@H](O)\\C=C\\c1c(C(C)C)nc(N(C)S(=O)(=O)C)nc1c2ccc(F)cc2\"\n",
    "score = ccr.dock_smiles(statin,\"HMGCR\",cpuCount)\n",
    "print(f\"score: {score}\")"
   ]
  },
  {
   "cell_type": "markdown",
   "metadata": {
    "id": "UjG9tFVIfwVk"
   },
   "source": [
    "## Calculate interaction energies between a docking pose and the protein using Meta's UMA MLIP\n",
    "- If CafChem has an XYZ QM active site pepared for the protein, then the interaction between a ligand (SDF file) and the protein active site (from the library) may be calculated using Meta's UMA MLIP.\n",
    "- supply as arguments the name of the SDF file (without .sdf), the protein information (in the form ccr.[your protein]_data), the ASE calculator, ans the charge and spin multiplicty of the ligand.\n",
    "- returns a list of XYZ strings for the ligands in the input SDF files.\n",
    "- the XYZ strings may be visualized with the ccr.visualize_molecule tool, which accepts as its argument the XYZ string.\n",
    "- the complex XYZ file can be transformed into a G16 counterpoise input file using complexG16, which takes as its arguments the complex XYZ file, the target object, the ligand charge and the ligand spin multiplicity."
   ]
  },
  {
   "cell_type": "code",
   "execution_count": null,
   "metadata": {
    "colab": {
     "base_uri": "https://localhost:8080/"
    },
    "id": "y22TbFguxAGo",
    "outputId": "c2b223ae-fdcb-4742-cab9-de5318a0f895"
   },
   "outputs": [
    {
     "name": "stdout",
     "output_type": "stream",
     "text": [
      "The size of the complex is: 391\n",
      "Energy of complex is: -9727.851 ha\n",
      "The size of the ligand is: 60\n",
      "Energy of ligand is: -1968.269 ha\n",
      "The size of the active site is: 331\n",
      "Energy of active site is: -7759.170 ha\n",
      "===========================================================\n",
      "Energy difference is: -258.817 kcal/mol\n"
     ]
    }
   ],
   "source": [
    "total_xyz = ccr.uma_interaction(\"trial_S\", ccr.HMGCR_data, calculator, -1, 1, False)"
   ]
  },
  {
   "cell_type": "code",
   "execution_count": 7,
   "metadata": {
    "colab": {
     "base_uri": "https://localhost:8080/"
    },
    "id": "6mi4OAes4gVK",
    "outputId": "45cf1c1f-5346-4723-d5d2-aa93dd7952d9"
   },
   "outputs": [
    {
     "name": "stdout",
     "output_type": "stream",
     "text": [
      "The size of the complex is: 391\n",
      "      Step     Time          Energy          fmax\n",
      "BFGS:    0 10:55:12  -264708.476048       23.289714\n",
      "BFGS:    1 10:55:13  -264716.883978        3.016548\n",
      "BFGS:    2 10:55:14  -264719.107907        2.636233\n",
      "BFGS:    3 10:55:15  -264721.137778        1.891751\n",
      "BFGS:    4 10:55:16  -264722.848357        1.699302\n",
      "BFGS:    5 10:55:17  -264723.877268        1.298429\n",
      "BFGS:    6 10:55:18  -264724.565377        1.454471\n",
      "BFGS:    7 10:55:20  -264725.092378        1.539968\n",
      "BFGS:    8 10:55:21  -264725.797391        2.001609\n",
      "BFGS:    9 10:55:22  -264726.766529        2.980221\n",
      "BFGS:   10 10:55:23  -264728.034151        5.362736\n",
      "BFGS:   11 10:55:24  -264730.205254        6.491210\n",
      "BFGS:   12 10:55:25  -264731.983451        3.913961\n",
      "BFGS:   13 10:55:26  -264733.616849        3.753941\n",
      "BFGS:   14 10:55:27  -264735.337565        2.116256\n",
      "BFGS:   15 10:55:28  -264736.365775        2.891756\n",
      "BFGS:   16 10:55:29  -264736.980150        1.363991\n",
      "BFGS:   17 10:55:30  -264737.303206        1.330412\n",
      "BFGS:   18 10:55:32  -264737.521406        1.271949\n",
      "BFGS:   19 10:55:33  -264737.733852        0.979644\n",
      "BFGS:   20 10:55:35  -264737.950583        0.720187\n",
      "BFGS:   21 10:55:36  -264738.168883        0.934790\n",
      "BFGS:   22 10:55:37  -264738.362875        1.383597\n",
      "BFGS:   23 10:55:38  -264738.562666        0.748323\n",
      "BFGS:   24 10:55:39  -264738.734377        0.860785\n",
      "BFGS:   25 10:55:40  -264738.892061        0.663366\n",
      "BFGS:   26 10:55:41  -264739.079760        0.772102\n",
      "BFGS:   27 10:55:42  -264739.289921        0.802010\n",
      "BFGS:   28 10:55:43  -264739.476609        0.749076\n",
      "BFGS:   29 10:55:44  -264739.669005        0.892523\n",
      "BFGS:   30 10:55:47  -264739.861950        0.708763\n",
      "BFGS:   31 10:55:48  -264740.018688        0.877295\n",
      "BFGS:   32 10:55:49  -264740.121540        1.346824\n",
      "BFGS:   33 10:55:50  -264740.247679        1.385052\n",
      "BFGS:   34 10:55:51  -264740.373299        0.715085\n",
      "BFGS:   35 10:55:52  -264740.478455        0.438970\n",
      "BFGS:   36 10:55:53  -264740.592877        0.639401\n",
      "BFGS:   37 10:55:54  -264740.685448        0.492185\n",
      "BFGS:   38 10:55:55  -264740.781872        0.520942\n",
      "BFGS:   39 10:55:56  -264740.880953        0.616938\n",
      "BFGS:   40 10:55:57  -264740.979677        0.621613\n",
      "BFGS:   41 10:55:59  -264741.082926        0.523971\n",
      "BFGS:   42 10:56:00  -264741.188998        0.482910\n",
      "BFGS:   43 10:56:01  -264741.297030        0.560832\n",
      "BFGS:   44 10:56:02  -264741.388420        0.540372\n",
      "BFGS:   45 10:56:04  -264741.476492        0.632889\n",
      "BFGS:   46 10:56:05  -264741.560330        0.763960\n",
      "BFGS:   47 10:56:06  -264741.667372        0.489754\n",
      "BFGS:   48 10:56:07  -264741.758793        0.404553\n",
      "BFGS:   49 10:56:08  -264741.838831        0.457651\n",
      "BFGS:   50 10:56:09  -264741.912218        0.459989\n",
      "BFGS:   51 10:56:11  -264741.985092        0.459642\n",
      "BFGS:   52 10:56:13  -264742.057076        0.495251\n",
      "BFGS:   53 10:56:14  -264742.134352        0.403757\n",
      "BFGS:   54 10:56:15  -264742.203541        0.352999\n",
      "BFGS:   55 10:56:16  -264742.270775        0.393370\n",
      "BFGS:   56 10:56:17  -264742.326784        0.352604\n",
      "BFGS:   57 10:56:18  -264742.377398        0.273340\n",
      "BFGS:   58 10:56:19  -264742.423811        0.271395\n",
      "BFGS:   59 10:56:20  -264742.460865        0.409599\n",
      "BFGS:   60 10:56:21  -264742.497174        0.384386\n",
      "BFGS:   61 10:56:22  -264742.531424        0.327333\n",
      "BFGS:   62 10:56:24  -264742.564484        0.215166\n",
      "BFGS:   63 10:56:25  -264742.601435        0.263648\n",
      "BFGS:   64 10:56:26  -264742.636641        0.269527\n",
      "BFGS:   65 10:56:27  -264742.671986        0.207766\n",
      "BFGS:   66 10:56:28  -264742.709076        0.249498\n",
      "BFGS:   67 10:56:29  -264742.749604        0.272250\n",
      "BFGS:   68 10:56:30  -264742.790884        0.397953\n",
      "BFGS:   69 10:56:31  -264742.838345        0.285305\n",
      "BFGS:   70 10:56:33  -264742.884466        0.349675\n",
      "BFGS:   71 10:56:34  -264742.935726        0.262660\n",
      "BFGS:   72 10:56:35  -264742.985419        0.658874\n",
      "BFGS:   73 10:56:37  -264743.034661        0.318504\n",
      "BFGS:   74 10:56:38  -264743.072251        0.809075\n",
      "BFGS:   75 10:56:39  -264743.118056        0.314509\n",
      "BFGS:   76 10:56:40  -264743.160845        0.286580\n",
      "BFGS:   77 10:56:41  -264743.206297        0.276183\n",
      "BFGS:   78 10:56:42  -264743.254454        0.353418\n",
      "BFGS:   79 10:56:43  -264743.296685        0.255770\n",
      "BFGS:   80 10:56:44  -264743.298588        1.528862\n",
      "BFGS:   81 10:56:45  -264743.368862        0.382815\n",
      "BFGS:   82 10:56:46  -264743.400118        0.346372\n",
      "BFGS:   83 10:56:47  -264743.449188        0.260752\n",
      "BFGS:   84 10:56:50  -264743.481962        0.404789\n",
      "BFGS:   85 10:56:51  -264743.518284        0.248187\n",
      "BFGS:   86 10:56:52  -264743.554116        0.221255\n",
      "BFGS:   87 10:56:53  -264743.582018        0.320975\n",
      "BFGS:   88 10:56:54  -264743.605324        0.215918\n",
      "BFGS:   89 10:56:55  -264743.625441        0.246060\n",
      "BFGS:   90 10:56:56  -264743.638258        0.510784\n",
      "BFGS:   91 10:56:57  -264743.655743        0.156201\n",
      "BFGS:   92 10:56:58  -264743.671528        0.220099\n",
      "BFGS:   93 10:56:59  -264743.685168        0.225410\n",
      "BFGS:   94 10:57:02  -264743.699465        0.124686\n",
      "BFGS:   95 10:57:03  -264743.710619        0.147583\n",
      "BFGS:   96 10:57:04  -264743.722244        0.197938\n",
      "BFGS:   97 10:57:05  -264743.734640        0.149001\n",
      "BFGS:   98 10:57:06  -264743.747097        0.132213\n",
      "BFGS:   99 10:57:07  -264743.758843        0.150135\n",
      "BFGS:  100 10:57:08  -264743.770415        0.194080\n",
      "BFGS:  101 10:57:09  -264743.781924        0.199984\n",
      "BFGS:  102 10:57:10  -264743.793494        0.122945\n",
      "BFGS:  103 10:57:11  -264743.805262        0.123618\n",
      "BFGS:  104 10:57:13  -264743.817234        0.121708\n",
      "BFGS:  105 10:57:15  -264743.828291        0.121578\n",
      "BFGS:  106 10:57:16  -264743.838330        0.108016\n",
      "BFGS:  107 10:57:17  -264743.847191        0.176646\n",
      "BFGS:  108 10:57:18  -264743.856358        0.148552\n",
      "BFGS:  109 10:57:19  -264743.865439        0.146953\n",
      "BFGS:  110 10:57:20  -264743.875277        0.109090\n",
      "BFGS:  111 10:57:21  -264743.885515        0.116339\n",
      "BFGS:  112 10:57:22  -264743.895682        0.140148\n",
      "BFGS:  113 10:57:23  -264743.905840        0.119191\n",
      "BFGS:  114 10:57:24  -264743.916651        0.113010\n",
      "BFGS:  115 10:57:26  -264743.928103        0.142395\n",
      "BFGS:  116 10:57:28  -264743.940346        0.147098\n",
      "BFGS:  117 10:57:29  -264743.953058        0.170004\n",
      "BFGS:  118 10:57:30  -264743.965317        0.178011\n",
      "BFGS:  119 10:57:31  -264743.975321        0.279979\n",
      "BFGS:  120 10:57:32  -264743.986758        0.118954\n",
      "BFGS:  121 10:57:33  -264743.998026        0.171149\n",
      "BFGS:  122 10:57:34  -264744.008509        0.103194\n",
      "BFGS:  123 10:57:36  -264744.017838        0.088358\n",
      "Optimized energy of complex is: -9729.157 ha\n",
      "The size of the ligand is: 60\n",
      "Energy of ligand is: -1968.341 ha\n",
      "The size of the active site is: 331\n",
      "Energy of active site is: -7760.361 ha\n",
      "===========================================================\n",
      "Energy difference is: -285.782 kcal/mol\n"
     ]
    }
   ],
   "source": [
    "total_xyz = ccr.uma_interaction(\"trial_1\", ccr.HMGCR_data, calculator, -1, 1, True)"
   ]
  },
  {
   "cell_type": "code",
   "execution_count": 15,
   "metadata": {
    "id": "hc45E9Y1BCV8"
   },
   "outputs": [],
   "source": [
    "ccr.complexG16(\"optimized_complex.xyz\",ccr.HMGCR_data,-1,1)"
   ]
  },
  {
   "cell_type": "code",
   "execution_count": null,
   "metadata": {
    "colab": {
     "base_uri": "https://localhost:8080/",
     "height": 417
    },
    "id": "NBBO9vnmry1d",
    "outputId": "bee9cf44-2ec0-4dcb-bcd2-24b728db81c8"
   },
   "outputs": [
    {
     "data": {
      "application/3dmoljs_load.v0": "<div id=\"3dmolviewer_17503990430048087\"  style=\"position: relative; width: 800px; height: 400px;\">\n        <p id=\"3dmolwarning_17503990430048087\" style=\"background-color:#ffcccc;color:black\">3Dmol.js failed to load for some reason.  Please check your browser console for error messages.<br></p>\n        </div>\n<script>\n\nvar loadScriptAsync = function(uri){\n  return new Promise((resolve, reject) => {\n    //this is to ignore the existence of requirejs amd\n    var savedexports, savedmodule;\n    if (typeof exports !== 'undefined') savedexports = exports;\n    else exports = {}\n    if (typeof module !== 'undefined') savedmodule = module;\n    else module = {}\n\n    var tag = document.createElement('script');\n    tag.src = uri;\n    tag.async = true;\n    tag.onload = () => {\n        exports = savedexports;\n        module = savedmodule;\n        resolve();\n    };\n  var firstScriptTag = document.getElementsByTagName('script')[0];\n  firstScriptTag.parentNode.insertBefore(tag, firstScriptTag);\n});\n};\n\nif(typeof $3Dmolpromise === 'undefined') {\n$3Dmolpromise = null;\n  $3Dmolpromise = loadScriptAsync('https://cdn.jsdelivr.net/npm/3dmol@2.5.0/build/3Dmol-min.js');\n}\n\nvar viewer_17503990430048087 = null;\nvar warn = document.getElementById(\"3dmolwarning_17503990430048087\");\nif(warn) {\n    warn.parentNode.removeChild(warn);\n}\n$3Dmolpromise.then(function() {\nviewer_17503990430048087 = $3Dmol.createViewer(document.getElementById(\"3dmolviewer_17503990430048087\"),{backgroundColor:\"white\"});\nviewer_17503990430048087.zoomTo();\n\tviewer_17503990430048087.addModel(\"60\\n\\nC -14.107420488042223 7.60574391366406 45.35150030904837\\nC -14.908244538409848 6.455280521629463 45.55867839316417\\nN -15.838283658202926 6.462296931505277 46.55014239027989\\nC -16.04591873995992 7.563676610989764 47.307033495094075\\nN -15.292918417674557 8.664555820860517 47.13085254555357\\nC -14.336854821336734 8.716179021009994 46.18775328397603\\nN -16.995489141784894 7.550350788784882 48.354962979411134\\nC -17.63342102019925 8.819734953474976 48.69297146356827\\nC -13.595464275726894 9.965942552011054 46.08712779830234\\nC -14.041813086128938 10.974520364464075 45.22406461623831\\nC -13.370083800369864 12.197239038490023 45.17798494864673\\nC -12.265681492235403 12.417781824061871 46.005943465898156\\nC -11.840593055626009 11.424607865184734 46.892615445254265\\nC -12.511398165114713 10.201677265781248 46.94192979578615\\nF -11.60640568405633 13.597325307642775 45.95025575207023\\nS -16.63141056462787 6.470687696039392 49.64100768112127\\nO -17.32398706467478 5.156808680066196 49.42505667200682\\nO -15.141679120938146 6.288395452534089 49.70477339768796\\nC -17.165468538700562 7.198089535068927 51.16704629354703\\nC -14.754211639075747 5.187631195425525 44.74655772288795\\nC -14.14139873975124 4.08413344551046 45.61067667519379\\nC -16.107974084957807 4.748185521054522 44.17575426483087\\nC -13.376859852815922 7.737577260962544 43.01570263528672\\nC -13.0554551303283 7.64706818984953 44.31146634487198\\nC -12.33502148537869 7.679784861601957 41.9170113227052\\nO -11.705948501922206 6.417990051357074 41.92053078541192\\nC -12.945034490068375 7.965068775740612 40.51317939564967\\nC -12.48296193126287 9.287945563184028 39.85255024682633\\nO -12.796265361186572 9.263393001552906 38.47560227185498\\nC -13.051174589900828 10.558642812493297 40.53469359724585\\nC -13.877171201899793 11.372057556276173 39.58992394098083\\nO -13.320346460851354 12.126724831127792 38.74768416541801\\nO -15.246640856790455 11.186902790600339 39.56596590418139\\nH -16.944693281503483 9.452626292765258 49.291900409939636\\nH -17.90953405180672 9.36889489107628 47.766803361954196\\nH -18.572780972509225 8.639920318684531 49.2543755164352\\nH -14.900503545707227 10.810512500292884 44.5841489874836\\nH -13.703891952457194 12.971962022230324 44.49974819434766\\nH -10.992665118405181 11.602550915405157 47.54143344961903\\nH -12.183324532690897 9.438587674324738 47.63742151128403\\nH -16.88081560094742 6.529500982755319 52.005420398228004\\nH -18.26831198884329 7.31542337315898 51.17033589597869\\nH -16.674571401593667 8.181167412919496 51.31763523239591\\nH -14.076776056240101 5.335733538907291 43.88263527843642\\nH -14.800439565480938 3.8439591809720426 46.472960453020725\\nH -13.150993578762344 4.409251969698284 45.995712783389024\\nH -13.993666031821013 3.163132186339764 45.00713842171986\\nH -15.976042637634164 3.8554822748016937 43.52768374426766\\nH -16.821323361648293 4.492363948541791 44.988677177313036\\nH -16.54215610629282 5.563460403143013 43.55797564388696\\nH -14.425650260584709 7.811170237836999 42.7505556717646\\nH -12.016495836965316 7.615342546010099 44.61527761193875\\nH -11.560233008260207 8.444122948481008 42.14395226936159\\nH -12.410402742892996 5.731980795368701 41.77595858282152\\nH -12.648170474650083 7.141082118953762 39.82634579501028\\nH -14.056546753673844 7.938661207156337 40.53464193569807\\nH -11.373765078556218 9.327353555189756 39.92546624474493\\nH -13.752669687225756 9.011269661124865 38.379748979616615\\nH -12.213021958540372 11.186944420592 40.90769723889348\\nH -13.670746578234326 10.294546300116153 41.419130876685756\\n\",\"xyz\");\n\tviewer_17503990430048087.setStyle({\"stick\": {}, \"sphere\": {\"radius\": 0.5}});\n\tviewer_17503990430048087.zoomTo();\nviewer_17503990430048087.render();\n});\n</script>",
      "text/html": [
       "<div id=\"3dmolviewer_17503990430048087\"  style=\"position: relative; width: 800px; height: 400px;\">\n",
       "        <p id=\"3dmolwarning_17503990430048087\" style=\"background-color:#ffcccc;color:black\">3Dmol.js failed to load for some reason.  Please check your browser console for error messages.<br></p>\n",
       "        </div>\n",
       "<script>\n",
       "\n",
       "var loadScriptAsync = function(uri){\n",
       "  return new Promise((resolve, reject) => {\n",
       "    //this is to ignore the existence of requirejs amd\n",
       "    var savedexports, savedmodule;\n",
       "    if (typeof exports !== 'undefined') savedexports = exports;\n",
       "    else exports = {}\n",
       "    if (typeof module !== 'undefined') savedmodule = module;\n",
       "    else module = {}\n",
       "\n",
       "    var tag = document.createElement('script');\n",
       "    tag.src = uri;\n",
       "    tag.async = true;\n",
       "    tag.onload = () => {\n",
       "        exports = savedexports;\n",
       "        module = savedmodule;\n",
       "        resolve();\n",
       "    };\n",
       "  var firstScriptTag = document.getElementsByTagName('script')[0];\n",
       "  firstScriptTag.parentNode.insertBefore(tag, firstScriptTag);\n",
       "});\n",
       "};\n",
       "\n",
       "if(typeof $3Dmolpromise === 'undefined') {\n",
       "$3Dmolpromise = null;\n",
       "  $3Dmolpromise = loadScriptAsync('https://cdn.jsdelivr.net/npm/3dmol@2.5.0/build/3Dmol-min.js');\n",
       "}\n",
       "\n",
       "var viewer_17503990430048087 = null;\n",
       "var warn = document.getElementById(\"3dmolwarning_17503990430048087\");\n",
       "if(warn) {\n",
       "    warn.parentNode.removeChild(warn);\n",
       "}\n",
       "$3Dmolpromise.then(function() {\n",
       "viewer_17503990430048087 = $3Dmol.createViewer(document.getElementById(\"3dmolviewer_17503990430048087\"),{backgroundColor:\"white\"});\n",
       "viewer_17503990430048087.zoomTo();\n",
       "\tviewer_17503990430048087.addModel(\"60\\n\\nC -14.107420488042223 7.60574391366406 45.35150030904837\\nC -14.908244538409848 6.455280521629463 45.55867839316417\\nN -15.838283658202926 6.462296931505277 46.55014239027989\\nC -16.04591873995992 7.563676610989764 47.307033495094075\\nN -15.292918417674557 8.664555820860517 47.13085254555357\\nC -14.336854821336734 8.716179021009994 46.18775328397603\\nN -16.995489141784894 7.550350788784882 48.354962979411134\\nC -17.63342102019925 8.819734953474976 48.69297146356827\\nC -13.595464275726894 9.965942552011054 46.08712779830234\\nC -14.041813086128938 10.974520364464075 45.22406461623831\\nC -13.370083800369864 12.197239038490023 45.17798494864673\\nC -12.265681492235403 12.417781824061871 46.005943465898156\\nC -11.840593055626009 11.424607865184734 46.892615445254265\\nC -12.511398165114713 10.201677265781248 46.94192979578615\\nF -11.60640568405633 13.597325307642775 45.95025575207023\\nS -16.63141056462787 6.470687696039392 49.64100768112127\\nO -17.32398706467478 5.156808680066196 49.42505667200682\\nO -15.141679120938146 6.288395452534089 49.70477339768796\\nC -17.165468538700562 7.198089535068927 51.16704629354703\\nC -14.754211639075747 5.187631195425525 44.74655772288795\\nC -14.14139873975124 4.08413344551046 45.61067667519379\\nC -16.107974084957807 4.748185521054522 44.17575426483087\\nC -13.376859852815922 7.737577260962544 43.01570263528672\\nC -13.0554551303283 7.64706818984953 44.31146634487198\\nC -12.33502148537869 7.679784861601957 41.9170113227052\\nO -11.705948501922206 6.417990051357074 41.92053078541192\\nC -12.945034490068375 7.965068775740612 40.51317939564967\\nC -12.48296193126287 9.287945563184028 39.85255024682633\\nO -12.796265361186572 9.263393001552906 38.47560227185498\\nC -13.051174589900828 10.558642812493297 40.53469359724585\\nC -13.877171201899793 11.372057556276173 39.58992394098083\\nO -13.320346460851354 12.126724831127792 38.74768416541801\\nO -15.246640856790455 11.186902790600339 39.56596590418139\\nH -16.944693281503483 9.452626292765258 49.291900409939636\\nH -17.90953405180672 9.36889489107628 47.766803361954196\\nH -18.572780972509225 8.639920318684531 49.2543755164352\\nH -14.900503545707227 10.810512500292884 44.5841489874836\\nH -13.703891952457194 12.971962022230324 44.49974819434766\\nH -10.992665118405181 11.602550915405157 47.54143344961903\\nH -12.183324532690897 9.438587674324738 47.63742151128403\\nH -16.88081560094742 6.529500982755319 52.005420398228004\\nH -18.26831198884329 7.31542337315898 51.17033589597869\\nH -16.674571401593667 8.181167412919496 51.31763523239591\\nH -14.076776056240101 5.335733538907291 43.88263527843642\\nH -14.800439565480938 3.8439591809720426 46.472960453020725\\nH -13.150993578762344 4.409251969698284 45.995712783389024\\nH -13.993666031821013 3.163132186339764 45.00713842171986\\nH -15.976042637634164 3.8554822748016937 43.52768374426766\\nH -16.821323361648293 4.492363948541791 44.988677177313036\\nH -16.54215610629282 5.563460403143013 43.55797564388696\\nH -14.425650260584709 7.811170237836999 42.7505556717646\\nH -12.016495836965316 7.615342546010099 44.61527761193875\\nH -11.560233008260207 8.444122948481008 42.14395226936159\\nH -12.410402742892996 5.731980795368701 41.77595858282152\\nH -12.648170474650083 7.141082118953762 39.82634579501028\\nH -14.056546753673844 7.938661207156337 40.53464193569807\\nH -11.373765078556218 9.327353555189756 39.92546624474493\\nH -13.752669687225756 9.011269661124865 38.379748979616615\\nH -12.213021958540372 11.186944420592 40.90769723889348\\nH -13.670746578234326 10.294546300116153 41.419130876685756\\n\",\"xyz\");\n",
       "\tviewer_17503990430048087.setStyle({\"stick\": {}, \"sphere\": {\"radius\": 0.5}});\n",
       "\tviewer_17503990430048087.zoomTo();\n",
       "viewer_17503990430048087.render();\n",
       "});\n",
       "</script>"
      ]
     },
     "metadata": {},
     "output_type": "display_data"
    }
   ],
   "source": [
    "ccr.visualize_molecule(total_xyz[0])"
   ]
  },
  {
   "cell_type": "code",
   "execution_count": null,
   "metadata": {
    "colab": {
     "base_uri": "https://localhost:8080/",
     "height": 417
    },
    "id": "mgPDPjwvCVfX",
    "outputId": "8ba37526-805e-4113-8e9e-b3ea78ed3712"
   },
   "outputs": [
    {
     "data": {
      "application/3dmoljs_load.v0": "<div id=\"3dmolviewer_17503990484254034\"  style=\"position: relative; width: 800px; height: 400px;\">\n        <p id=\"3dmolwarning_17503990484254034\" style=\"background-color:#ffcccc;color:black\">3Dmol.js failed to load for some reason.  Please check your browser console for error messages.<br></p>\n        </div>\n<script>\n\nvar loadScriptAsync = function(uri){\n  return new Promise((resolve, reject) => {\n    //this is to ignore the existence of requirejs amd\n    var savedexports, savedmodule;\n    if (typeof exports !== 'undefined') savedexports = exports;\n    else exports = {}\n    if (typeof module !== 'undefined') savedmodule = module;\n    else module = {}\n\n    var tag = document.createElement('script');\n    tag.src = uri;\n    tag.async = true;\n    tag.onload = () => {\n        exports = savedexports;\n        module = savedmodule;\n        resolve();\n    };\n  var firstScriptTag = document.getElementsByTagName('script')[0];\n  firstScriptTag.parentNode.insertBefore(tag, firstScriptTag);\n});\n};\n\nif(typeof $3Dmolpromise === 'undefined') {\n$3Dmolpromise = null;\n  $3Dmolpromise = loadScriptAsync('https://cdn.jsdelivr.net/npm/3dmol@2.5.0/build/3Dmol-min.js');\n}\n\nvar viewer_17503990484254034 = null;\nvar warn = document.getElementById(\"3dmolwarning_17503990484254034\");\nif(warn) {\n    warn.parentNode.removeChild(warn);\n}\n$3Dmolpromise.then(function() {\nviewer_17503990484254034 = $3Dmol.createViewer(document.getElementById(\"3dmolviewer_17503990484254034\"),{backgroundColor:\"white\"});\nviewer_17503990484254034.zoomTo();\n\tviewer_17503990484254034.addModel(\"391\\n\\nN      -9.241053293863278     -1.068055448504521     45.215017018579488\\nC      -9.582000000000001      0.272000000000000     45.667999999999999\\nC     -10.627962547368199      0.252824185152457     46.779649561610150\\nO     -11.745026054295096     -0.227621876997158     46.612220289313363\\nC     -10.124715796165107      1.088567704254511     44.478381129999818\\nC     -10.528053692624736      2.532967568208532     44.791516323726533\\nC     -10.886578148782895      3.389027165143013     43.558478322656136\\nO     -10.475984187695989      3.037631637355346     42.429597221595280\\nO     -11.573542480035057      4.436807784118474     43.775049624424348\\nH     -10.084611407113739     -1.550927824381545     44.927086497063016\\nN     -10.251363507489755      0.768470115026309     47.970900245522905\\nC     -11.172000000000001      0.804000000000000     49.081000000000003\\nC     -12.493040599132465      1.448127000407257     48.661208550234790\\nO     -12.523787621778276      2.450054136344928     47.974158100396373\\nH      -9.373286725022931      1.250536575478787     48.036491294127657\\nN     -13.597925985773095      0.814162036571773     49.120916669636671\\nC     -14.945000000000000      1.339000000000000     49.020000000000003\\nC     -15.605210174789235      1.161814714944580     47.648874228911438\\nO     -16.792668471829327      1.435415322429207     47.520044447485233\\nC     -15.089613954178130      2.796867585810906     49.449885316761502\\nS     -14.525782417476703      2.988512762854639     51.169243155218304\\nH     -13.466260839684123     -0.024218986938774     49.658856134284214\\nH     -14.287708885665864      4.303189455679747     51.065525691960175\\nN     -14.891678083393218      0.685748501579115     46.610144523522663\\nC     -15.548000000000000      0.614000000000000     45.307000000000002\\nC     -16.809272793207768     -0.223303813979432     45.406038977630899\\nO     -17.765548189499423     -0.050851102251056     44.695121490858426\\nC     -14.561675038726825      0.026753040645573     44.296998451659448\\nC     -15.076689628988159     -0.094868658616097     42.862167144155677\\nC     -15.735170578412527      1.199495847648611     42.387798220317308\\nC     -13.920018783554827     -0.494202809577983     41.947951992347647\\nH     -13.899039713322162      0.491479967841840     46.695406041097804\\nN     -19.907630089968688      1.043764057248338     47.433623274765175\\nC     -20.289000000000001      2.229000000000000     46.682000000000002\\nC     -21.159082928145967      1.823938983875466     45.516599820839907\\nO     -22.046988674842542      2.497372340057825     45.065637354133571\\nC     -19.055475853711361      2.979663721566265     46.125022576792198\\nO     -19.358867180426223      4.049424413261508     45.231924853234041\\nH     -19.113396653574242      1.250401712606500     48.029448424920368\\nH     -19.977864226666679      4.645871166334690     45.665085833066840\\nN     -19.709117827588290     18.760143854754300     35.825780194084743\\nC     -18.672999999999998     17.742000000000001     35.859000000000002\\nC     -18.602564286870933     17.076507997788472     34.501987311997510\\nO     -17.593411995677211     16.595267679886533     34.044050419476640\\nC     -18.878988962734581     16.677235140573313     36.954379293563001\\nC     -17.772862398766645     15.632610818774234     37.078754011049725\\nC     -18.046580182241453     14.651791519293367     38.217866321973155\\nC     -17.054923318164505     13.500458952806703     38.300586711157031\\nN     -15.677441468952361     13.968297353174219     38.596087256186223\\nH     -20.593682126496965     18.424588811238618     36.185491900903983\\nH     -15.684629406540800     14.605763449487503     39.399557506156277\\nH     -15.263410805468494     14.497844441626590     37.813284672901119\\nH     -15.001849944428217     13.173384054388821     38.811518061173999\\nN     -18.387099707473897      9.671572957997993     35.525224117114547\\nC     -17.431999999999999      9.933999999999999     36.579999999999998\\nC     -16.362297020855909      8.880193538355831     36.794830188699024\\nO     -15.210340940393927      9.186226539055326     37.066769414276436\\nC     -18.150461134425903     10.141712640830715     37.911403278235696\\nH     -19.167718686035361      9.091110553483913     35.794221134537501\\nN     -16.714684019825743      7.575000959544167     36.734520841261407\\nC     -15.693000000000000      6.564000000000000     36.948999999999998\\nC     -16.073581315520659      5.287157643274189     36.226617824023059\\nO     -15.957024208648907      4.200712287767288     36.722544673967576\\nC     -15.348236495332992      6.331325358796393     38.417378470402625\\nC     -16.393976601897574      5.668777856863028     39.253187936862382\\nC     -17.749940260210359      5.717118905388327     39.263046844079064\\nN     -16.035535525910319      4.892153955163313     40.339466040884197\\nC     -17.120537703687418      4.477730578023695     40.979680876240920\\nN     -18.175890624995557      4.966061767985260     40.343074471255726\\nH     -17.617542480333082      7.336018399911775     36.357832967940176\\nH     -15.068270883427013      4.640006428081733     40.614916754941149\\nN     -13.317923837236499      2.482462814644663     36.761962077837843\\nC     -13.452000000000000      1.589000000000000     37.899000000000001\\nC     -14.339284975418561      0.433088971779471     37.471155058634366\\nO     -15.248406924653084      0.015348048678708     38.138753314805861\\nC     -13.972286470411591      2.189021873838160     39.197884895838214\\nC     -13.031843723025746      3.191583621474289     39.807846980956178\\nN     -13.420257461961038      3.710520380320095     41.024773300013280\\nO     -12.034145443374969      3.589447757185643     39.229222559998369\\nH     -14.213664074807436      2.867808715533212     36.493761529202679\\nH     -13.866638959843129      3.040759666905255     41.639405191366535\\nH     -12.699669572220390      4.262931840028246     41.491313077830903\\nN     -21.144090030519887      7.356038661395995     43.420583421993911\\nC     -20.103000000000002      8.369999999999999     43.363999999999997\\nC     -20.647868796246510      9.696128146798650     42.877793839865369\\nO     -20.518914996835843     10.759486990619353     43.433853847515884\\nC     -18.987452843041371      7.923079049405253     42.421275266509248\\nC     -17.795707387780055      8.878896763052163     42.351293691847701\\nC     -17.109040854052665      9.051440988376880     43.703293416587051\\nC     -16.791045147539023      8.381142854270353     41.323359738682726\\nH     -21.620831570389235      7.241713608715220     42.533311300172016\\nN     -21.950410478283676     10.938362374757036     46.231517530587801\\nC     -21.003000000000000     11.444000000000001     47.207999999999998\\nC     -20.342772770649397     12.797900189605034     46.903703231483732\\nO     -19.862774582656627     13.481178980956884     47.791829585943276\\nC     -19.881892228103769     10.436994458899449     47.410228088009319\\nH     -21.500473798772759     10.742389716490885     45.347744490114465\\nN     -20.252284465808966     13.167742215552904     45.597007381476892\\nC     -19.501000000000001     14.348000000000001     45.219000000000001\\nC     -20.275837751867403     15.626995177269162     45.514398918902273\\nO     -19.881381742385283     16.710883727483807     45.179204076323309\\nC     -19.067554621535397     14.290921955038570     43.756041565223882\\nC     -17.971786897448457     13.267828332817686     43.438636338607147\\nC     -17.792686838027450     13.154108688435047     41.924609455545728\\nH     -20.602293372884301     12.555939360546247     44.877461467315477\\nN      -5.937790110155245     16.968260355440059     41.291436015647314\\nC      -7.371559094962212     17.062993254383038     41.477187928100307\\nC      -7.874000000000000     18.327999999999999     40.802999999999997\\nO      -7.271775658562733     18.891369315517071     39.930290203949035\\nC      -7.718994832203971     17.036907542613417     42.975909939670956\\nC      -9.202626785844910     16.937993701249010     43.358504754859574\\nC      -9.734505269353411     15.526218881047207     43.568103563784270\\nN      -9.808823937610120     14.797103900107015     42.301106631545757\\nC      -9.802425386831851     13.465275634895448     42.138052132227195\\nN      -9.568864834506870     12.656730750409611     43.176088795758524\\nN     -10.022677637357329     12.948943252796674     40.939092981011029\\nH      -9.431493352885310     12.998361068611880     44.119653212614196\\nH      -9.511639002237679     11.666341318811217     43.001776537917401\\nH     -10.152026362368217     13.597106349410369     40.179105695469381\\nH      -9.824570999864379     11.916061424518885     40.674986429094197\\nH     -10.121479715603741     15.331400923366441     41.505799564509253\\nN      -6.608898812966324     15.051492163614169     47.214765193610418\\nC      -7.987400224069207     15.449516709874692     47.490243923010063\\nC      -8.167607784989414     16.099607514738402     48.854511454230419\\nO      -8.860435830000000     17.057230680000000     49.062773610000001\\nC      -8.876460668066009     14.206600534770994     47.334845873845929\\nO      -8.575655669598273     13.571674892408941     46.097379521304823\\nH      -6.152235943250301     14.656043675795946     48.030238918574014\\nH      -7.606540906243196     13.628029665969652     46.031952789438932\\nN     -15.509011215309924     17.997631324743924     44.700925691161459\\nC     -14.052731621317262     18.092037839886601     44.842804439901634\\nC     -13.359121102651336     17.584249783336691     43.575869494290266\\nO     -12.207000000000001     17.856999999999999     43.280999999999999\\nC     -13.602626445809124     17.288804469812682     46.080508802504227\\nC     -13.896165448857881     15.795387989569091     45.942354125901126\\nC     -12.134777031451181     17.523243142229717     46.417406962757994\\nH     -15.945530687327629     17.916798535291367     45.611231450298327\\nN     -14.146292801360064     16.790791940765157     42.797373170817181\\nC     -13.764313918582124     16.426956649091387     41.451488196610271\\nC     -14.899404817907955     16.994550009250851     40.626072343846261\\nO     -15.847797659999999     16.356009400000001     40.236141920000001\\nC     -13.506890767634907     14.942543036848702     41.272896606724075\\nO     -12.960532048975995     14.741637896571874     39.982933679477405\\nH     -15.104274864760459     16.707926166439542     43.122057693885985\\nH     -13.033624539066972     13.781467006206052     39.772207801390230\\nN     -13.933477316154695     15.945566023461524     37.002447092443695\\nC     -13.385875887881101     15.518251221044656     35.716932428019035\\nC     -12.279464171149193     16.421465455741728     35.165419994295306\\nO     -11.939071139999999     16.441327139999999     34.015469570000000\\nC     -14.483896884759869     15.340110276668140     34.684586960849032\\nC     -15.334312333516610     14.116057777444629     34.933027876053714\\nN     -16.367945166830289     13.952965319014707     34.090623563745304\\nO     -15.078309522651818     13.291166594984134     35.813257422749331\\nH     -13.254447855798244     15.855581578035887     37.753646141520520\\nH     -16.696150660001585     14.725042832365478     33.529226689084261\\nH     -16.987599984234794     13.172190284613086     34.234118221709288\\nN      -8.822140683323717     12.062986755619219     35.759026554016145\\nC      -8.871558824938822     10.891163664597034     36.637612537828900\\nC      -9.729815725737746      9.799845229130094     36.003188731895634\\nO     -10.956000000000000      9.875999999999999     35.969999999999999\\nC      -9.389496108769082     11.286275087519627     38.014817855252190\\nC      -9.313044060002870     10.161301255810738     39.056941165792409\\nO      -9.081809667211978      9.015848376295549     38.648159842152502\\nO      -9.533585154200560     10.494900287042583     40.265785157020943\\nH      -9.758833719561009     12.360320751760954     35.509358264963893\\nN      -9.081687921597682      8.822333082004880     35.325640840997764\\nC      -9.773558862123132      7.614740479265032     34.865788612282103\\nC     -10.765834047236222      7.860863252266469     33.716089416492260\\nO     -11.654999999999999      7.058000000000000     33.463999999999999\\nC     -10.408690270314521      6.853872757099017     36.024772772182899\\nC      -9.358124131702978      6.354882331884512     37.011298529343769\\nC     -10.010328441480700      5.927250113926727     38.314484186064554\\nC      -9.010292205247636      5.384446893435141     39.321501893688037\\nN      -9.746081800760264      4.786096184881885     40.467958994571312\\nH      -8.098559309606225      8.729614537769582     35.522474804298135\\nH     -10.470325732751924      4.134250690418827     40.135479376772892\\nH     -10.293446267324482      5.494489509236144     40.993282920464644\\nH      -9.196062174184302      4.257325692117549     41.146761624660726\\nN     -10.538304430493248      8.976920138954878     32.985205168561087\\nC     -11.224568174570502      9.256675999188019     31.746214938436680\\nC     -10.281770155982276      9.971809896198666     30.791023661689451\\nO      -9.259758919999999     10.507233540000000     31.130057900000001\\nC     -12.460225799905333     10.166428609552478     31.877062569225721\\nC     -13.640230160617918      9.592240269119875     32.666668125383055\\nC     -13.545775865870445      9.625493857728811     34.194348129729043\\nC     -13.329034947316842     11.028140937172461     34.732600189494207\\nN     -13.348639311868357     11.052430022922339     36.222996116586771\\nH      -9.719606841735667      9.533936171527085     33.186526599907047\\nH     -12.473627981315664     10.630498581749391     36.579996306445956\\nH     -14.134896472561442     10.502663837360085     36.598400880158160\\nH     -13.462718328070258     11.999906811225957     36.583659021411897\\nH     -10.992951785437015      0.549107833755385     44.088881674803609\\nH      -9.371323896455950      1.073127477314421     43.691184486714015\\nH      -9.695413522295093      3.053118680827685     45.280897209963108\\nH     -11.360849915057500      2.589904321700677     45.499083541279440\\nH      -8.666817264687818      0.746724154399624     46.038260271222875\\nH      -8.825864232592521     -1.618796670428022     45.957225355393803\\nH     -10.746309955421927      1.410913814293409     49.878664269013605\\nH     -11.339440623618083     -0.204510829560913     49.467270111696337\\nH     -16.137101343509354      3.070310803136421     49.355324622150583\\nH     -14.498106018434049      3.439246557938981     48.808135762220566\\nH     -15.559823801896771      0.727221157771342     49.686494234385478\\nH     -14.225843515603183     -0.955866553589005     44.644246482099383\\nH     -13.677326908286851      0.676734094793841     44.310685150522104\\nH     -15.834843873392371     -0.882393266884386     42.819027129066384\\nH     -15.912313818057482      1.172711589413380     41.309993548569345\\nH     -15.078636272737240      2.044343566728511     42.628475973424443\\nH     -16.687211994544896      1.367927882186952     42.894518304720627\\nH     -14.281084468076738     -0.654319830878618     40.929719082153476\\nH     -13.443242157131538     -1.417153510585996     42.285353759168515\\nH     -13.140709831202848      0.278359605802174     41.936130536921169\\nH     -15.864733450926334      1.618996438897458     45.008537247727268\\nH     -18.448076148840794      2.279011817406265     45.551513876113418\\nH     -18.454659697536879      3.333280665953007     46.967962730809390\\nH     -20.874458677423373      2.907047413863973     47.311672936861584\\nH     -19.588414749849818      0.325830654073928     46.789019600617301\\nH     -19.838509758188923     16.175316324642704     36.779917922841832\\nH     -18.980767143739829     17.214979509865778     37.901044352485528\\nH     -16.816236110860828     16.140363392997923     37.243107164812244\\nH     -17.671875616534518     15.078961757001210     36.142131998476074\\nH     -19.041726330954678     14.215854152035265     38.087776620024606\\nH     -18.064025072979771     15.187767304697015     39.171382110301870\\nH     -17.005137125944479     12.952011460896133     37.360263495262906\\nH     -17.323309427972784     12.800671106407256     39.090844130332755\\nH     -17.703284994055313     18.223318318771540     36.015113278862657\\nH     -19.449238239600430     19.585707332981954     36.345726208043409\\nH     -17.430993356837810     10.369018290646244     38.700700402749931\\nH     -18.867061471223526     10.957067460420513     37.811294381262279\\nH     -18.703030057418129      9.236509459677711     38.184257395623781\\nH     -16.870740165313773     10.842253055270946     36.335938622067289\\nH     -17.990449991551152      9.368631677557262     34.647276371420169\\nH     -15.113194091781745      7.298636677997608     38.864124216912607\\nH     -14.433272360119169      5.735941079686585     38.462159338748187\\nH     -18.444793616102341      6.236374974038657     38.629659191859716\\nH     -19.131273859393552      4.828554287036803     40.639523985894606\\nH     -17.140447983966595      3.858103617632770     41.860283803946402\\nH     -14.776733819012987      6.925624416080976     36.464136500476428\\nH     -14.173253184598082      1.393359193064548     39.916832982810142\\nH     -14.937227160539882      2.674097602779482     39.014466512295542\\nH     -12.463335953290686      1.150144741069712     38.086155418103388\\nH     -12.677023169873735      3.235493094946496     36.971920524952530\\nH     -19.417718289862673      7.800547500472068     41.413956942455691\\nH     -18.656854319790018      6.931541981029246     42.756575584702340\\nH     -18.148389813461584      9.862496929145204     42.016485676470047\\nH     -16.171340823075607      9.590273358713972     43.566295280657158\\nH     -16.866635025243426      8.080234168828747     44.144914818384663\\nH     -17.710313370386881      9.609440916593854     44.421694944682869\\nH     -15.955985151274881      9.073966190577513     41.220933948188019\\nH     -16.402486801627269      7.400864057131164     41.624122986082902\\nH     -17.251214782109987      8.278870016577775     40.336365851521997\\nH     -19.699189720010644      8.519468966861796     44.367097312611882\\nH     -21.843014813808082      7.556133077054089     44.124898499351517\\nH     -19.184114885369155     10.812968295340641     48.155393670859922\\nH     -20.290080660280591      9.481194576829999     47.737008206900661\\nH     -19.339366382128944     10.281264324320418     46.471257693390100\\nH     -21.522993695524548     11.592016433729098     48.156170326885302\\nH     -22.712943316726708     11.582071267613083     46.069204507759672\\nH     -18.718739089539824     15.290061933745289     43.481170769587841\\nH     -19.950172339525388     14.087177956578014     43.138517422359293\\nH     -18.284852648830014     12.288264450513370     43.819526596326043\\nH     -17.018896910139198     12.422465232211023     41.670210784083586\\nH     -17.493363808744157     14.123155477930846     41.505870811121788\\nH     -18.724158748878487     12.851192110920509     41.437994758238275\\nH     -18.623716333180916     14.408321385726930     45.873150479700783\\nH      -7.277886198300490     17.932771510179240     43.419659066318040\\nH      -7.169253903051467     16.196727706244740     43.409383164712338\\nH      -9.850748688639523     17.455779948699572     42.646373370109210\\nH      -9.366757533378129     17.464950327898567     44.300813738213250\\nH     -10.728608730866878     15.572397632812335     44.020503346410010\\nH      -9.083421485834277     14.982478562352117     44.253885227952694\\nH      -7.918535337359817     16.246596681581515     40.973332638151348\\nH      -5.646309649460989     17.550817696174562     40.514806035178971\\nH      -5.625343576737533     16.023134491368189     41.125258880368818\\nH      -9.927536868849312     14.496333227640607     47.330549145682603\\nH      -8.711007509801302     13.504997347455138     48.165890678416162\\nH      -8.292006700738067     16.180243263826867     46.738816140313119\\nH      -6.048586424205129     15.825647554844604     46.885225574931731\\nH     -14.199021635855077     17.692237990858040     46.907599870022864\\nH     -13.676777358874231     15.283921055810550     46.881111195118990\\nH     -14.935472362046809     15.593935164948613     45.678932530298155\\nH     -13.258677259234489     15.351779337183856     45.172831586171036\\nH     -11.885519374036331     17.038276569658375     47.362593534988903\\nH     -11.488282755790692     17.113707356721402     45.638331420597751\\nH     -11.911579060045288     18.586514652728567     46.521247159245476\\nH     -13.702627333683129     19.123882042581954     44.959303151272159\\nH     -15.894312868678149     18.830765883970862     44.274837584610204\\nH     -14.435078373267373     14.371264339148150     41.410541542110373\\nH     -12.803908959193247     14.631264355262042     42.055635199765128\\nH     -12.845748597479865     16.977672540532939     41.230347035194896\\nH     -14.039397529942953     15.252083434956475     33.690419891450233\\nH     -15.136324163364575     16.217305892398905     34.646786489159638\\nH     -12.907756041932107     14.545443831367638     35.877974741438869\\nH     -14.236633523428079     16.913754133284147     36.962799536907156\\nH     -10.438102189738609     11.600717064786306     37.952107368357701\\nH      -8.813770029433178     12.146958846278929     38.361210879410926\\nH      -7.853256938168321     10.518981283237762     36.756830345983367\\nH      -8.322122769366198     11.871368599449500     34.898004710751337\\nH     -10.979146359397204      6.021367116336081     35.610308892321591\\nH     -11.110048734321763      7.515146634559662     36.540133425826461\\nH      -8.645213607597661      7.150036698509657     37.234980712009211\\nH      -8.807301143475962      5.515643812931632     36.571779416370610\\nH     -10.764980124779136      5.164045580366240     38.113201307304166\\nH     -10.513370444595727      6.797623788738663     38.746944095001581\\nH      -8.369523584181021      6.181908976472026     39.697114430709590\\nH      -8.384315383117533      4.606201827142459     38.883624970388659\\nH      -8.995884418575971      6.982927966388770     34.422841584064606\\nH     -12.810067334016578     10.377522017589346     30.862020073968576\\nH     -12.138969754663025     11.127367593324397     32.289742277880912\\nH     -13.802705191487828      8.558922567435010     32.353932232408702\\nH     -14.532907014643563     10.154952484931043     32.373307773085330\\nH     -12.764132262803303      8.968846839465806     34.565684821251246\\nH     -14.489085822101128      9.241231046230647     34.593593528575738\\nH     -14.105153961677853     11.706177846190609     34.383383530497525\\nH     -12.355496362280750     11.410488933648825     34.432342313279776\\nH     -11.534145166850017      8.308230469146073     31.296944755335353\\nH      -7.589573384960437     15.625240019350734     49.676600352321046\\nH      -8.846177631626983     18.718008567484738     41.158176966579639\\nH     -14.874654844620629     18.088758473580832     40.487199159777447\\nH     -19.554178223835027     17.046101582514698     33.939672252786330\\nH     -11.784674633348935     17.063449643198588     35.922736272153301\\nH     -10.636925769049368     10.030687312912406     29.745881174102824\\nH     -21.221148249133339     15.494674990500538     46.073183933388968\\nC     -16.641716081633383     13.641858640414434     44.088593973709088\\nH     -15.861786467410241     12.932871245908759     43.799826217315321\\nH     -16.326431701810680     14.640658557358087     43.765026776879886\\nH     -16.691819065139228     13.644786182219987     45.178615816644758\\nH     -20.885550202740259      0.850714941591053     45.053356662914013\\nH     -16.777506934112822     -1.041667746429350     46.150970434181417\\nH     -21.223803095215221      9.635149506003124     41.929035636930138\\nH     -14.097567850223541      0.003333680512942     36.481843345071262\\nH     -16.455759867542902      5.412423945477623     35.195839535395805\\nC     -14.032490791518189      7.757887917519919     45.349877209958620\\nC     -14.732995916699938      6.577524732000180     45.658697789104984\\nN     -15.607584949325847      6.554557815597500     46.660427062480032\\nC     -15.746787294139665      7.649983493086252     47.387320806346480\\nN     -15.109324519990723      8.801432654911411     47.219884587227860\\nC     -14.258309575827038      8.843717559378968     46.196202738596000\\nN     -16.662317333094169      7.585310102404322     48.440448336999729\\nC     -17.291904411569163      8.808433045595249     48.919508809573664\\nC     -13.511161678052053     10.121965300153684     46.018470431916199\\nC     -13.812432915343409     10.991214585082407     44.977307640403147\\nC     -13.115842479568899     12.180252026571658     44.823690996041286\\nC     -12.107923394654449     12.464694933243125     45.720126266024216\\nC     -11.766844583954756     11.618870086802751     46.755494823659802\\nC     -12.491032587064911     10.445434184557255     46.906491341103802\\nF     -11.425272875203904     13.624202670364244     45.567971898255863\\nS     -16.671977716023775      6.179886512356642     49.344572219451535\\nO     -17.726476359913605      5.312532575387504     48.913820598560029\\nO     -15.318985101852409      5.703146507108187     49.377363325477646\\nC     -17.066758156699773      6.756810531635807     50.965589151898357\\nC     -14.574337466611883      5.263293508010354     44.928542271321675\\nC     -14.276938536446872      4.129924409720269     45.908591052094394\\nC     -15.850005903881019      4.959153603629463     44.134943808593100\\nC     -13.319650897634373      7.451883020480747     43.001560448428357\\nC     -13.080325346155066      7.888229482991915     44.230703549795123\\nC     -12.314163681676501      7.446552882761560     41.892086745347619\\nO     -11.760375543443606      6.127296822310311     41.778790322214299\\nC     -12.935791046734890      7.811113501893057     40.531419593476670\\nC     -12.500754419300385      9.142477292247573     39.915844063147219\\nO     -12.850925254087036      9.155315044402951     38.530919597711339\\nC     -13.040339400775864     10.405984772696115     40.644408662486342\\nC     -14.065796927715867     11.169667603412865     39.803694626657560\\nO     -13.689483462437966     12.265219521549840     39.249335264069849\\nO     -15.208464425252961     10.699689108002495     39.675784284127730\\nH     -16.727117432237257      9.298085724724279     49.714888750914788\\nH     -17.351473207024512      9.491608106731769     48.079560829242432\\nH     -18.305203936849242      8.594258692053085     49.253042492102438\\nH     -14.602064707052588     10.741960207609427     44.280871524315586\\nH     -13.345173353088802     12.881351360256648     44.030996809705044\\nH     -10.956039175739406     11.874750489465784     47.423897699430043\\nH     -12.254537280382870      9.763671049897260     47.713792743231195\\nH     -16.986784619064103      5.863246923615094     51.584410851314551\\nH     -18.079974980121460      7.143668018924799     51.007971651707869\\nH     -16.334156190909432      7.495155508859573     51.280057580607703\\nH     -13.727014352998165      5.331691434023631     44.249903436492652\\nH     -15.129149673017668      3.948373533926302     46.567638886717617\\nH     -13.398916262960359      4.341466006149363     46.517293184377309\\nH     -14.050056491172141      3.218909002376086     45.348065135197430\\nH     -15.732212275354781      3.995499633810235     43.627239285471155\\nH     -16.719390373867817      4.889217642920893     44.794696253596115\\nH     -16.057411134607488      5.727600325553314     43.379753455834745\\nH     -14.280491347114657      6.989197223407299     42.787234394268133\\nH     -12.136376572883480      8.384130106380598     44.445546643472639\\nH     -11.507989304558027      8.148843173389899     42.135612542280228\\nH     -11.670230597280806      5.634710460438371     42.657479405408147\\nH     -12.638420114548246      7.033119294032351     39.824308383922094\\nH     -14.029910712065371      7.791064747173317     40.609916432298306\\nH     -11.413441537257469      9.180447435076710     39.935182667555090\\nH     -13.816741134684252      9.149429291039997     38.469901493545350\\nH     -12.205000005415053     11.064788637778481     40.878459920538504\\nH     -13.532084345352962     10.113734316619269     41.578088004128489\\n\",\"xyz\");\n\tviewer_17503990484254034.setStyle({\"stick\": {}, \"sphere\": {\"radius\": 0.5}});\n\tviewer_17503990484254034.zoomTo();\nviewer_17503990484254034.render();\n});\n</script>",
      "text/html": [
       "<div id=\"3dmolviewer_17503990484254034\"  style=\"position: relative; width: 800px; height: 400px;\">\n",
       "        <p id=\"3dmolwarning_17503990484254034\" style=\"background-color:#ffcccc;color:black\">3Dmol.js failed to load for some reason.  Please check your browser console for error messages.<br></p>\n",
       "        </div>\n",
       "<script>\n",
       "\n",
       "var loadScriptAsync = function(uri){\n",
       "  return new Promise((resolve, reject) => {\n",
       "    //this is to ignore the existence of requirejs amd\n",
       "    var savedexports, savedmodule;\n",
       "    if (typeof exports !== 'undefined') savedexports = exports;\n",
       "    else exports = {}\n",
       "    if (typeof module !== 'undefined') savedmodule = module;\n",
       "    else module = {}\n",
       "\n",
       "    var tag = document.createElement('script');\n",
       "    tag.src = uri;\n",
       "    tag.async = true;\n",
       "    tag.onload = () => {\n",
       "        exports = savedexports;\n",
       "        module = savedmodule;\n",
       "        resolve();\n",
       "    };\n",
       "  var firstScriptTag = document.getElementsByTagName('script')[0];\n",
       "  firstScriptTag.parentNode.insertBefore(tag, firstScriptTag);\n",
       "});\n",
       "};\n",
       "\n",
       "if(typeof $3Dmolpromise === 'undefined') {\n",
       "$3Dmolpromise = null;\n",
       "  $3Dmolpromise = loadScriptAsync('https://cdn.jsdelivr.net/npm/3dmol@2.5.0/build/3Dmol-min.js');\n",
       "}\n",
       "\n",
       "var viewer_17503990484254034 = null;\n",
       "var warn = document.getElementById(\"3dmolwarning_17503990484254034\");\n",
       "if(warn) {\n",
       "    warn.parentNode.removeChild(warn);\n",
       "}\n",
       "$3Dmolpromise.then(function() {\n",
       "viewer_17503990484254034 = $3Dmol.createViewer(document.getElementById(\"3dmolviewer_17503990484254034\"),{backgroundColor:\"white\"});\n",
       "viewer_17503990484254034.zoomTo();\n",
       "\tviewer_17503990484254034.addModel(\"391\\n\\nN      -9.241053293863278     -1.068055448504521     45.215017018579488\\nC      -9.582000000000001      0.272000000000000     45.667999999999999\\nC     -10.627962547368199      0.252824185152457     46.779649561610150\\nO     -11.745026054295096     -0.227621876997158     46.612220289313363\\nC     -10.124715796165107      1.088567704254511     44.478381129999818\\nC     -10.528053692624736      2.532967568208532     44.791516323726533\\nC     -10.886578148782895      3.389027165143013     43.558478322656136\\nO     -10.475984187695989      3.037631637355346     42.429597221595280\\nO     -11.573542480035057      4.436807784118474     43.775049624424348\\nH     -10.084611407113739     -1.550927824381545     44.927086497063016\\nN     -10.251363507489755      0.768470115026309     47.970900245522905\\nC     -11.172000000000001      0.804000000000000     49.081000000000003\\nC     -12.493040599132465      1.448127000407257     48.661208550234790\\nO     -12.523787621778276      2.450054136344928     47.974158100396373\\nH      -9.373286725022931      1.250536575478787     48.036491294127657\\nN     -13.597925985773095      0.814162036571773     49.120916669636671\\nC     -14.945000000000000      1.339000000000000     49.020000000000003\\nC     -15.605210174789235      1.161814714944580     47.648874228911438\\nO     -16.792668471829327      1.435415322429207     47.520044447485233\\nC     -15.089613954178130      2.796867585810906     49.449885316761502\\nS     -14.525782417476703      2.988512762854639     51.169243155218304\\nH     -13.466260839684123     -0.024218986938774     49.658856134284214\\nH     -14.287708885665864      4.303189455679747     51.065525691960175\\nN     -14.891678083393218      0.685748501579115     46.610144523522663\\nC     -15.548000000000000      0.614000000000000     45.307000000000002\\nC     -16.809272793207768     -0.223303813979432     45.406038977630899\\nO     -17.765548189499423     -0.050851102251056     44.695121490858426\\nC     -14.561675038726825      0.026753040645573     44.296998451659448\\nC     -15.076689628988159     -0.094868658616097     42.862167144155677\\nC     -15.735170578412527      1.199495847648611     42.387798220317308\\nC     -13.920018783554827     -0.494202809577983     41.947951992347647\\nH     -13.899039713322162      0.491479967841840     46.695406041097804\\nN     -19.907630089968688      1.043764057248338     47.433623274765175\\nC     -20.289000000000001      2.229000000000000     46.682000000000002\\nC     -21.159082928145967      1.823938983875466     45.516599820839907\\nO     -22.046988674842542      2.497372340057825     45.065637354133571\\nC     -19.055475853711361      2.979663721566265     46.125022576792198\\nO     -19.358867180426223      4.049424413261508     45.231924853234041\\nH     -19.113396653574242      1.250401712606500     48.029448424920368\\nH     -19.977864226666679      4.645871166334690     45.665085833066840\\nN     -19.709117827588290     18.760143854754300     35.825780194084743\\nC     -18.672999999999998     17.742000000000001     35.859000000000002\\nC     -18.602564286870933     17.076507997788472     34.501987311997510\\nO     -17.593411995677211     16.595267679886533     34.044050419476640\\nC     -18.878988962734581     16.677235140573313     36.954379293563001\\nC     -17.772862398766645     15.632610818774234     37.078754011049725\\nC     -18.046580182241453     14.651791519293367     38.217866321973155\\nC     -17.054923318164505     13.500458952806703     38.300586711157031\\nN     -15.677441468952361     13.968297353174219     38.596087256186223\\nH     -20.593682126496965     18.424588811238618     36.185491900903983\\nH     -15.684629406540800     14.605763449487503     39.399557506156277\\nH     -15.263410805468494     14.497844441626590     37.813284672901119\\nH     -15.001849944428217     13.173384054388821     38.811518061173999\\nN     -18.387099707473897      9.671572957997993     35.525224117114547\\nC     -17.431999999999999      9.933999999999999     36.579999999999998\\nC     -16.362297020855909      8.880193538355831     36.794830188699024\\nO     -15.210340940393927      9.186226539055326     37.066769414276436\\nC     -18.150461134425903     10.141712640830715     37.911403278235696\\nH     -19.167718686035361      9.091110553483913     35.794221134537501\\nN     -16.714684019825743      7.575000959544167     36.734520841261407\\nC     -15.693000000000000      6.564000000000000     36.948999999999998\\nC     -16.073581315520659      5.287157643274189     36.226617824023059\\nO     -15.957024208648907      4.200712287767288     36.722544673967576\\nC     -15.348236495332992      6.331325358796393     38.417378470402625\\nC     -16.393976601897574      5.668777856863028     39.253187936862382\\nC     -17.749940260210359      5.717118905388327     39.263046844079064\\nN     -16.035535525910319      4.892153955163313     40.339466040884197\\nC     -17.120537703687418      4.477730578023695     40.979680876240920\\nN     -18.175890624995557      4.966061767985260     40.343074471255726\\nH     -17.617542480333082      7.336018399911775     36.357832967940176\\nH     -15.068270883427013      4.640006428081733     40.614916754941149\\nN     -13.317923837236499      2.482462814644663     36.761962077837843\\nC     -13.452000000000000      1.589000000000000     37.899000000000001\\nC     -14.339284975418561      0.433088971779471     37.471155058634366\\nO     -15.248406924653084      0.015348048678708     38.138753314805861\\nC     -13.972286470411591      2.189021873838160     39.197884895838214\\nC     -13.031843723025746      3.191583621474289     39.807846980956178\\nN     -13.420257461961038      3.710520380320095     41.024773300013280\\nO     -12.034145443374969      3.589447757185643     39.229222559998369\\nH     -14.213664074807436      2.867808715533212     36.493761529202679\\nH     -13.866638959843129      3.040759666905255     41.639405191366535\\nH     -12.699669572220390      4.262931840028246     41.491313077830903\\nN     -21.144090030519887      7.356038661395995     43.420583421993911\\nC     -20.103000000000002      8.369999999999999     43.363999999999997\\nC     -20.647868796246510      9.696128146798650     42.877793839865369\\nO     -20.518914996835843     10.759486990619353     43.433853847515884\\nC     -18.987452843041371      7.923079049405253     42.421275266509248\\nC     -17.795707387780055      8.878896763052163     42.351293691847701\\nC     -17.109040854052665      9.051440988376880     43.703293416587051\\nC     -16.791045147539023      8.381142854270353     41.323359738682726\\nH     -21.620831570389235      7.241713608715220     42.533311300172016\\nN     -21.950410478283676     10.938362374757036     46.231517530587801\\nC     -21.003000000000000     11.444000000000001     47.207999999999998\\nC     -20.342772770649397     12.797900189605034     46.903703231483732\\nO     -19.862774582656627     13.481178980956884     47.791829585943276\\nC     -19.881892228103769     10.436994458899449     47.410228088009319\\nH     -21.500473798772759     10.742389716490885     45.347744490114465\\nN     -20.252284465808966     13.167742215552904     45.597007381476892\\nC     -19.501000000000001     14.348000000000001     45.219000000000001\\nC     -20.275837751867403     15.626995177269162     45.514398918902273\\nO     -19.881381742385283     16.710883727483807     45.179204076323309\\nC     -19.067554621535397     14.290921955038570     43.756041565223882\\nC     -17.971786897448457     13.267828332817686     43.438636338607147\\nC     -17.792686838027450     13.154108688435047     41.924609455545728\\nH     -20.602293372884301     12.555939360546247     44.877461467315477\\nN      -5.937790110155245     16.968260355440059     41.291436015647314\\nC      -7.371559094962212     17.062993254383038     41.477187928100307\\nC      -7.874000000000000     18.327999999999999     40.802999999999997\\nO      -7.271775658562733     18.891369315517071     39.930290203949035\\nC      -7.718994832203971     17.036907542613417     42.975909939670956\\nC      -9.202626785844910     16.937993701249010     43.358504754859574\\nC      -9.734505269353411     15.526218881047207     43.568103563784270\\nN      -9.808823937610120     14.797103900107015     42.301106631545757\\nC      -9.802425386831851     13.465275634895448     42.138052132227195\\nN      -9.568864834506870     12.656730750409611     43.176088795758524\\nN     -10.022677637357329     12.948943252796674     40.939092981011029\\nH      -9.431493352885310     12.998361068611880     44.119653212614196\\nH      -9.511639002237679     11.666341318811217     43.001776537917401\\nH     -10.152026362368217     13.597106349410369     40.179105695469381\\nH      -9.824570999864379     11.916061424518885     40.674986429094197\\nH     -10.121479715603741     15.331400923366441     41.505799564509253\\nN      -6.608898812966324     15.051492163614169     47.214765193610418\\nC      -7.987400224069207     15.449516709874692     47.490243923010063\\nC      -8.167607784989414     16.099607514738402     48.854511454230419\\nO      -8.860435830000000     17.057230680000000     49.062773610000001\\nC      -8.876460668066009     14.206600534770994     47.334845873845929\\nO      -8.575655669598273     13.571674892408941     46.097379521304823\\nH      -6.152235943250301     14.656043675795946     48.030238918574014\\nH      -7.606540906243196     13.628029665969652     46.031952789438932\\nN     -15.509011215309924     17.997631324743924     44.700925691161459\\nC     -14.052731621317262     18.092037839886601     44.842804439901634\\nC     -13.359121102651336     17.584249783336691     43.575869494290266\\nO     -12.207000000000001     17.856999999999999     43.280999999999999\\nC     -13.602626445809124     17.288804469812682     46.080508802504227\\nC     -13.896165448857881     15.795387989569091     45.942354125901126\\nC     -12.134777031451181     17.523243142229717     46.417406962757994\\nH     -15.945530687327629     17.916798535291367     45.611231450298327\\nN     -14.146292801360064     16.790791940765157     42.797373170817181\\nC     -13.764313918582124     16.426956649091387     41.451488196610271\\nC     -14.899404817907955     16.994550009250851     40.626072343846261\\nO     -15.847797659999999     16.356009400000001     40.236141920000001\\nC     -13.506890767634907     14.942543036848702     41.272896606724075\\nO     -12.960532048975995     14.741637896571874     39.982933679477405\\nH     -15.104274864760459     16.707926166439542     43.122057693885985\\nH     -13.033624539066972     13.781467006206052     39.772207801390230\\nN     -13.933477316154695     15.945566023461524     37.002447092443695\\nC     -13.385875887881101     15.518251221044656     35.716932428019035\\nC     -12.279464171149193     16.421465455741728     35.165419994295306\\nO     -11.939071139999999     16.441327139999999     34.015469570000000\\nC     -14.483896884759869     15.340110276668140     34.684586960849032\\nC     -15.334312333516610     14.116057777444629     34.933027876053714\\nN     -16.367945166830289     13.952965319014707     34.090623563745304\\nO     -15.078309522651818     13.291166594984134     35.813257422749331\\nH     -13.254447855798244     15.855581578035887     37.753646141520520\\nH     -16.696150660001585     14.725042832365478     33.529226689084261\\nH     -16.987599984234794     13.172190284613086     34.234118221709288\\nN      -8.822140683323717     12.062986755619219     35.759026554016145\\nC      -8.871558824938822     10.891163664597034     36.637612537828900\\nC      -9.729815725737746      9.799845229130094     36.003188731895634\\nO     -10.956000000000000      9.875999999999999     35.969999999999999\\nC      -9.389496108769082     11.286275087519627     38.014817855252190\\nC      -9.313044060002870     10.161301255810738     39.056941165792409\\nO      -9.081809667211978      9.015848376295549     38.648159842152502\\nO      -9.533585154200560     10.494900287042583     40.265785157020943\\nH      -9.758833719561009     12.360320751760954     35.509358264963893\\nN      -9.081687921597682      8.822333082004880     35.325640840997764\\nC      -9.773558862123132      7.614740479265032     34.865788612282103\\nC     -10.765834047236222      7.860863252266469     33.716089416492260\\nO     -11.654999999999999      7.058000000000000     33.463999999999999\\nC     -10.408690270314521      6.853872757099017     36.024772772182899\\nC      -9.358124131702978      6.354882331884512     37.011298529343769\\nC     -10.010328441480700      5.927250113926727     38.314484186064554\\nC      -9.010292205247636      5.384446893435141     39.321501893688037\\nN      -9.746081800760264      4.786096184881885     40.467958994571312\\nH      -8.098559309606225      8.729614537769582     35.522474804298135\\nH     -10.470325732751924      4.134250690418827     40.135479376772892\\nH     -10.293446267324482      5.494489509236144     40.993282920464644\\nH      -9.196062174184302      4.257325692117549     41.146761624660726\\nN     -10.538304430493248      8.976920138954878     32.985205168561087\\nC     -11.224568174570502      9.256675999188019     31.746214938436680\\nC     -10.281770155982276      9.971809896198666     30.791023661689451\\nO      -9.259758919999999     10.507233540000000     31.130057900000001\\nC     -12.460225799905333     10.166428609552478     31.877062569225721\\nC     -13.640230160617918      9.592240269119875     32.666668125383055\\nC     -13.545775865870445      9.625493857728811     34.194348129729043\\nC     -13.329034947316842     11.028140937172461     34.732600189494207\\nN     -13.348639311868357     11.052430022922339     36.222996116586771\\nH      -9.719606841735667      9.533936171527085     33.186526599907047\\nH     -12.473627981315664     10.630498581749391     36.579996306445956\\nH     -14.134896472561442     10.502663837360085     36.598400880158160\\nH     -13.462718328070258     11.999906811225957     36.583659021411897\\nH     -10.992951785437015      0.549107833755385     44.088881674803609\\nH      -9.371323896455950      1.073127477314421     43.691184486714015\\nH      -9.695413522295093      3.053118680827685     45.280897209963108\\nH     -11.360849915057500      2.589904321700677     45.499083541279440\\nH      -8.666817264687818      0.746724154399624     46.038260271222875\\nH      -8.825864232592521     -1.618796670428022     45.957225355393803\\nH     -10.746309955421927      1.410913814293409     49.878664269013605\\nH     -11.339440623618083     -0.204510829560913     49.467270111696337\\nH     -16.137101343509354      3.070310803136421     49.355324622150583\\nH     -14.498106018434049      3.439246557938981     48.808135762220566\\nH     -15.559823801896771      0.727221157771342     49.686494234385478\\nH     -14.225843515603183     -0.955866553589005     44.644246482099383\\nH     -13.677326908286851      0.676734094793841     44.310685150522104\\nH     -15.834843873392371     -0.882393266884386     42.819027129066384\\nH     -15.912313818057482      1.172711589413380     41.309993548569345\\nH     -15.078636272737240      2.044343566728511     42.628475973424443\\nH     -16.687211994544896      1.367927882186952     42.894518304720627\\nH     -14.281084468076738     -0.654319830878618     40.929719082153476\\nH     -13.443242157131538     -1.417153510585996     42.285353759168515\\nH     -13.140709831202848      0.278359605802174     41.936130536921169\\nH     -15.864733450926334      1.618996438897458     45.008537247727268\\nH     -18.448076148840794      2.279011817406265     45.551513876113418\\nH     -18.454659697536879      3.333280665953007     46.967962730809390\\nH     -20.874458677423373      2.907047413863973     47.311672936861584\\nH     -19.588414749849818      0.325830654073928     46.789019600617301\\nH     -19.838509758188923     16.175316324642704     36.779917922841832\\nH     -18.980767143739829     17.214979509865778     37.901044352485528\\nH     -16.816236110860828     16.140363392997923     37.243107164812244\\nH     -17.671875616534518     15.078961757001210     36.142131998476074\\nH     -19.041726330954678     14.215854152035265     38.087776620024606\\nH     -18.064025072979771     15.187767304697015     39.171382110301870\\nH     -17.005137125944479     12.952011460896133     37.360263495262906\\nH     -17.323309427972784     12.800671106407256     39.090844130332755\\nH     -17.703284994055313     18.223318318771540     36.015113278862657\\nH     -19.449238239600430     19.585707332981954     36.345726208043409\\nH     -17.430993356837810     10.369018290646244     38.700700402749931\\nH     -18.867061471223526     10.957067460420513     37.811294381262279\\nH     -18.703030057418129      9.236509459677711     38.184257395623781\\nH     -16.870740165313773     10.842253055270946     36.335938622067289\\nH     -17.990449991551152      9.368631677557262     34.647276371420169\\nH     -15.113194091781745      7.298636677997608     38.864124216912607\\nH     -14.433272360119169      5.735941079686585     38.462159338748187\\nH     -18.444793616102341      6.236374974038657     38.629659191859716\\nH     -19.131273859393552      4.828554287036803     40.639523985894606\\nH     -17.140447983966595      3.858103617632770     41.860283803946402\\nH     -14.776733819012987      6.925624416080976     36.464136500476428\\nH     -14.173253184598082      1.393359193064548     39.916832982810142\\nH     -14.937227160539882      2.674097602779482     39.014466512295542\\nH     -12.463335953290686      1.150144741069712     38.086155418103388\\nH     -12.677023169873735      3.235493094946496     36.971920524952530\\nH     -19.417718289862673      7.800547500472068     41.413956942455691\\nH     -18.656854319790018      6.931541981029246     42.756575584702340\\nH     -18.148389813461584      9.862496929145204     42.016485676470047\\nH     -16.171340823075607      9.590273358713972     43.566295280657158\\nH     -16.866635025243426      8.080234168828747     44.144914818384663\\nH     -17.710313370386881      9.609440916593854     44.421694944682869\\nH     -15.955985151274881      9.073966190577513     41.220933948188019\\nH     -16.402486801627269      7.400864057131164     41.624122986082902\\nH     -17.251214782109987      8.278870016577775     40.336365851521997\\nH     -19.699189720010644      8.519468966861796     44.367097312611882\\nH     -21.843014813808082      7.556133077054089     44.124898499351517\\nH     -19.184114885369155     10.812968295340641     48.155393670859922\\nH     -20.290080660280591      9.481194576829999     47.737008206900661\\nH     -19.339366382128944     10.281264324320418     46.471257693390100\\nH     -21.522993695524548     11.592016433729098     48.156170326885302\\nH     -22.712943316726708     11.582071267613083     46.069204507759672\\nH     -18.718739089539824     15.290061933745289     43.481170769587841\\nH     -19.950172339525388     14.087177956578014     43.138517422359293\\nH     -18.284852648830014     12.288264450513370     43.819526596326043\\nH     -17.018896910139198     12.422465232211023     41.670210784083586\\nH     -17.493363808744157     14.123155477930846     41.505870811121788\\nH     -18.724158748878487     12.851192110920509     41.437994758238275\\nH     -18.623716333180916     14.408321385726930     45.873150479700783\\nH      -7.277886198300490     17.932771510179240     43.419659066318040\\nH      -7.169253903051467     16.196727706244740     43.409383164712338\\nH      -9.850748688639523     17.455779948699572     42.646373370109210\\nH      -9.366757533378129     17.464950327898567     44.300813738213250\\nH     -10.728608730866878     15.572397632812335     44.020503346410010\\nH      -9.083421485834277     14.982478562352117     44.253885227952694\\nH      -7.918535337359817     16.246596681581515     40.973332638151348\\nH      -5.646309649460989     17.550817696174562     40.514806035178971\\nH      -5.625343576737533     16.023134491368189     41.125258880368818\\nH      -9.927536868849312     14.496333227640607     47.330549145682603\\nH      -8.711007509801302     13.504997347455138     48.165890678416162\\nH      -8.292006700738067     16.180243263826867     46.738816140313119\\nH      -6.048586424205129     15.825647554844604     46.885225574931731\\nH     -14.199021635855077     17.692237990858040     46.907599870022864\\nH     -13.676777358874231     15.283921055810550     46.881111195118990\\nH     -14.935472362046809     15.593935164948613     45.678932530298155\\nH     -13.258677259234489     15.351779337183856     45.172831586171036\\nH     -11.885519374036331     17.038276569658375     47.362593534988903\\nH     -11.488282755790692     17.113707356721402     45.638331420597751\\nH     -11.911579060045288     18.586514652728567     46.521247159245476\\nH     -13.702627333683129     19.123882042581954     44.959303151272159\\nH     -15.894312868678149     18.830765883970862     44.274837584610204\\nH     -14.435078373267373     14.371264339148150     41.410541542110373\\nH     -12.803908959193247     14.631264355262042     42.055635199765128\\nH     -12.845748597479865     16.977672540532939     41.230347035194896\\nH     -14.039397529942953     15.252083434956475     33.690419891450233\\nH     -15.136324163364575     16.217305892398905     34.646786489159638\\nH     -12.907756041932107     14.545443831367638     35.877974741438869\\nH     -14.236633523428079     16.913754133284147     36.962799536907156\\nH     -10.438102189738609     11.600717064786306     37.952107368357701\\nH      -8.813770029433178     12.146958846278929     38.361210879410926\\nH      -7.853256938168321     10.518981283237762     36.756830345983367\\nH      -8.322122769366198     11.871368599449500     34.898004710751337\\nH     -10.979146359397204      6.021367116336081     35.610308892321591\\nH     -11.110048734321763      7.515146634559662     36.540133425826461\\nH      -8.645213607597661      7.150036698509657     37.234980712009211\\nH      -8.807301143475962      5.515643812931632     36.571779416370610\\nH     -10.764980124779136      5.164045580366240     38.113201307304166\\nH     -10.513370444595727      6.797623788738663     38.746944095001581\\nH      -8.369523584181021      6.181908976472026     39.697114430709590\\nH      -8.384315383117533      4.606201827142459     38.883624970388659\\nH      -8.995884418575971      6.982927966388770     34.422841584064606\\nH     -12.810067334016578     10.377522017589346     30.862020073968576\\nH     -12.138969754663025     11.127367593324397     32.289742277880912\\nH     -13.802705191487828      8.558922567435010     32.353932232408702\\nH     -14.532907014643563     10.154952484931043     32.373307773085330\\nH     -12.764132262803303      8.968846839465806     34.565684821251246\\nH     -14.489085822101128      9.241231046230647     34.593593528575738\\nH     -14.105153961677853     11.706177846190609     34.383383530497525\\nH     -12.355496362280750     11.410488933648825     34.432342313279776\\nH     -11.534145166850017      8.308230469146073     31.296944755335353\\nH      -7.589573384960437     15.625240019350734     49.676600352321046\\nH      -8.846177631626983     18.718008567484738     41.158176966579639\\nH     -14.874654844620629     18.088758473580832     40.487199159777447\\nH     -19.554178223835027     17.046101582514698     33.939672252786330\\nH     -11.784674633348935     17.063449643198588     35.922736272153301\\nH     -10.636925769049368     10.030687312912406     29.745881174102824\\nH     -21.221148249133339     15.494674990500538     46.073183933388968\\nC     -16.641716081633383     13.641858640414434     44.088593973709088\\nH     -15.861786467410241     12.932871245908759     43.799826217315321\\nH     -16.326431701810680     14.640658557358087     43.765026776879886\\nH     -16.691819065139228     13.644786182219987     45.178615816644758\\nH     -20.885550202740259      0.850714941591053     45.053356662914013\\nH     -16.777506934112822     -1.041667746429350     46.150970434181417\\nH     -21.223803095215221      9.635149506003124     41.929035636930138\\nH     -14.097567850223541      0.003333680512942     36.481843345071262\\nH     -16.455759867542902      5.412423945477623     35.195839535395805\\nC     -14.032490791518189      7.757887917519919     45.349877209958620\\nC     -14.732995916699938      6.577524732000180     45.658697789104984\\nN     -15.607584949325847      6.554557815597500     46.660427062480032\\nC     -15.746787294139665      7.649983493086252     47.387320806346480\\nN     -15.109324519990723      8.801432654911411     47.219884587227860\\nC     -14.258309575827038      8.843717559378968     46.196202738596000\\nN     -16.662317333094169      7.585310102404322     48.440448336999729\\nC     -17.291904411569163      8.808433045595249     48.919508809573664\\nC     -13.511161678052053     10.121965300153684     46.018470431916199\\nC     -13.812432915343409     10.991214585082407     44.977307640403147\\nC     -13.115842479568899     12.180252026571658     44.823690996041286\\nC     -12.107923394654449     12.464694933243125     45.720126266024216\\nC     -11.766844583954756     11.618870086802751     46.755494823659802\\nC     -12.491032587064911     10.445434184557255     46.906491341103802\\nF     -11.425272875203904     13.624202670364244     45.567971898255863\\nS     -16.671977716023775      6.179886512356642     49.344572219451535\\nO     -17.726476359913605      5.312532575387504     48.913820598560029\\nO     -15.318985101852409      5.703146507108187     49.377363325477646\\nC     -17.066758156699773      6.756810531635807     50.965589151898357\\nC     -14.574337466611883      5.263293508010354     44.928542271321675\\nC     -14.276938536446872      4.129924409720269     45.908591052094394\\nC     -15.850005903881019      4.959153603629463     44.134943808593100\\nC     -13.319650897634373      7.451883020480747     43.001560448428357\\nC     -13.080325346155066      7.888229482991915     44.230703549795123\\nC     -12.314163681676501      7.446552882761560     41.892086745347619\\nO     -11.760375543443606      6.127296822310311     41.778790322214299\\nC     -12.935791046734890      7.811113501893057     40.531419593476670\\nC     -12.500754419300385      9.142477292247573     39.915844063147219\\nO     -12.850925254087036      9.155315044402951     38.530919597711339\\nC     -13.040339400775864     10.405984772696115     40.644408662486342\\nC     -14.065796927715867     11.169667603412865     39.803694626657560\\nO     -13.689483462437966     12.265219521549840     39.249335264069849\\nO     -15.208464425252961     10.699689108002495     39.675784284127730\\nH     -16.727117432237257      9.298085724724279     49.714888750914788\\nH     -17.351473207024512      9.491608106731769     48.079560829242432\\nH     -18.305203936849242      8.594258692053085     49.253042492102438\\nH     -14.602064707052588     10.741960207609427     44.280871524315586\\nH     -13.345173353088802     12.881351360256648     44.030996809705044\\nH     -10.956039175739406     11.874750489465784     47.423897699430043\\nH     -12.254537280382870      9.763671049897260     47.713792743231195\\nH     -16.986784619064103      5.863246923615094     51.584410851314551\\nH     -18.079974980121460      7.143668018924799     51.007971651707869\\nH     -16.334156190909432      7.495155508859573     51.280057580607703\\nH     -13.727014352998165      5.331691434023631     44.249903436492652\\nH     -15.129149673017668      3.948373533926302     46.567638886717617\\nH     -13.398916262960359      4.341466006149363     46.517293184377309\\nH     -14.050056491172141      3.218909002376086     45.348065135197430\\nH     -15.732212275354781      3.995499633810235     43.627239285471155\\nH     -16.719390373867817      4.889217642920893     44.794696253596115\\nH     -16.057411134607488      5.727600325553314     43.379753455834745\\nH     -14.280491347114657      6.989197223407299     42.787234394268133\\nH     -12.136376572883480      8.384130106380598     44.445546643472639\\nH     -11.507989304558027      8.148843173389899     42.135612542280228\\nH     -11.670230597280806      5.634710460438371     42.657479405408147\\nH     -12.638420114548246      7.033119294032351     39.824308383922094\\nH     -14.029910712065371      7.791064747173317     40.609916432298306\\nH     -11.413441537257469      9.180447435076710     39.935182667555090\\nH     -13.816741134684252      9.149429291039997     38.469901493545350\\nH     -12.205000005415053     11.064788637778481     40.878459920538504\\nH     -13.532084345352962     10.113734316619269     41.578088004128489\\n\",\"xyz\");\n",
       "\tviewer_17503990484254034.setStyle({\"stick\": {}, \"sphere\": {\"radius\": 0.5}});\n",
       "\tviewer_17503990484254034.zoomTo();\n",
       "viewer_17503990484254034.render();\n",
       "});\n",
       "</script>"
      ]
     },
     "metadata": {},
     "output_type": "display_data"
    }
   ],
   "source": [
    "f = open(\"/content/optimized_complex.xyz\",\"r\")\n",
    "structure = f.read()\n",
    "f.close()\n",
    "\n",
    "ccr.visualize_molecule(structure)"
   ]
  },
  {
   "cell_type": "markdown",
   "metadata": {
    "id": "I9JJBTGr6gnP"
   },
   "source": [
    "## Generate a constraints list"
   ]
  },
  {
   "cell_type": "code",
   "execution_count": null,
   "metadata": {
    "colab": {
     "base_uri": "https://localhost:8080/"
    },
    "id": "ECKdLDq3q7h4",
    "outputId": "b06a3bfe-e17b-42bc-f2e9-2f02b40d5c14"
   },
   "outputs": [
    {
     "name": "stdout",
     "output_type": "stream",
     "text": [
      "[1, 11, 16, 24, 33, 41, 54, 60, 72, 83, 92, 98, 107, 124, 132, 140, 148, 159, 168, 181]\n"
     ]
    }
   ],
   "source": [
    "f = open(\"/content/HMGCR_dude_QM_site.pdb\",\"r\")\n",
    "lines = f.readlines()\n",
    "f.close()\n",
    "\n",
    "constraints = []\n",
    "for line in lines:\n",
    "  parts = line.split()\n",
    "  if len(parts) > 1 and parts[2] == \"CA\":\n",
    "    constraints.append(int(parts[1])-1)\n",
    "\n",
    "print(constraints)"
   ]
  },
  {
   "cell_type": "code",
   "execution_count": null,
   "metadata": {
    "colab": {
     "base_uri": "https://localhost:8080/"
    },
    "id": "6TRm8SKHsBr9",
    "outputId": "2fa85f7b-babd-4a3e-ddbb-25e9019e962b"
   },
   "outputs": [
    {
     "name": "stdout",
     "output_type": "stream",
     "text": [
      "20\n"
     ]
    }
   ],
   "source": [
    "print(len(constraints))"
   ]
  }
 ],
 "metadata": {
  "accelerator": "GPU",
  "colab": {
   "collapsed_sections": [
    "qHv8LGrBe534",
    "TgKnUxauwpRz"
   ],
   "gpuType": "T4",
   "provenance": []
  },
  "kernelspec": {
   "display_name": "Python 3",
   "language": "python",
   "name": "python3"
  },
  "language_info": {
   "codemirror_mode": {
    "name": "ipython",
    "version": 3
   },
   "file_extension": ".py",
   "mimetype": "text/x-python",
   "name": "python",
   "nbconvert_exporter": "python",
   "pygments_lexer": "ipython3",
   "version": "3.8.8"
  }
 },
 "nbformat": 4,
 "nbformat_minor": 1
}
