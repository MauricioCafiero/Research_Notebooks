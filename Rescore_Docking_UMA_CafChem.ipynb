{
 "cells": [
  {
   "cell_type": "markdown",
   "metadata": {
    "id": "mYtTV82W0-DH"
   },
   "source": [
    "#CafChem tools docking and rescoring with the UMA MLIP\n",
    "\n",
    "[![Open In Colab](https://colab.research.google.com/assets/colab-badge.svg)](https://colab.research.google.com/github/MauricioCafiero/Research_Notebooks/blob/main/Rescore_Docking_UMA_CafChem.ipynb)\n",
    "\n",
    "## This notebook allows you to:\n",
    "- dock a single SMILES string, a list of string, or a CSV file with SMILES in one column.\n",
    "- save poses as SDF files.\n",
    "- Calculate the interaction between the ligand and the protein using Meta's UMA MLIP\n",
    "\n",
    "## Requirements:\n",
    "- This notebook will install deepchem, dockstring, openBabel, Fairchem and py3Dmol\n",
    "- It will pull the CafChem tools from Github.\n",
    "- It will install all needed libraries.\n",
    "- You need to have a HF_Token set as a secret to access the UMA MLIP."
   ]
  },
  {
   "cell_type": "markdown",
   "metadata": {
    "id": "c077b1b1-6f2a-4eaa-9381-b9a0cf413b8d"
   },
   "source": [
    "# set-up\n",
    "\n",
    "This block:\n",
    "\n",
    "- Loads all needed modules/libraries\n",
    "    \n",
    "\n",
    "    \n"
   ]
  },
  {
   "cell_type": "markdown",
   "metadata": {
    "id": "qHv8LGrBe534"
   },
   "source": [
    "### Install a few libraries"
   ]
  },
  {
   "cell_type": "code",
   "execution_count": 1,
   "metadata": {
    "colab": {
     "base_uri": "https://localhost:8080/"
    },
    "id": "GuZJmglTiaN8",
    "outputId": "609c17c3-e4e3-4315-cb4c-be0bb85e451d"
   },
   "outputs": [
    {
     "name": "stdout",
     "output_type": "stream",
     "text": [
      "Collecting deepchem\n",
      "  Downloading deepchem-2.8.0-py3-none-any.whl.metadata (2.0 kB)\n",
      "Requirement already satisfied: joblib in /usr/local/lib/python3.11/dist-packages (from deepchem) (1.5.1)\n",
      "Requirement already satisfied: numpy>=1.21 in /usr/local/lib/python3.11/dist-packages (from deepchem) (2.0.2)\n",
      "Requirement already satisfied: pandas in /usr/local/lib/python3.11/dist-packages (from deepchem) (2.2.2)\n",
      "Requirement already satisfied: scikit-learn in /usr/local/lib/python3.11/dist-packages (from deepchem) (1.6.1)\n",
      "Requirement already satisfied: sympy in /usr/local/lib/python3.11/dist-packages (from deepchem) (1.13.1)\n",
      "Requirement already satisfied: scipy>=1.10.1 in /usr/local/lib/python3.11/dist-packages (from deepchem) (1.15.3)\n",
      "Collecting rdkit (from deepchem)\n",
      "  Downloading rdkit-2025.3.3-cp311-cp311-manylinux_2_28_x86_64.whl.metadata (4.0 kB)\n",
      "Requirement already satisfied: python-dateutil>=2.8.2 in /usr/local/lib/python3.11/dist-packages (from pandas->deepchem) (2.9.0.post0)\n",
      "Requirement already satisfied: pytz>=2020.1 in /usr/local/lib/python3.11/dist-packages (from pandas->deepchem) (2025.2)\n",
      "Requirement already satisfied: tzdata>=2022.7 in /usr/local/lib/python3.11/dist-packages (from pandas->deepchem) (2025.2)\n",
      "Requirement already satisfied: Pillow in /usr/local/lib/python3.11/dist-packages (from rdkit->deepchem) (11.2.1)\n",
      "Requirement already satisfied: threadpoolctl>=3.1.0 in /usr/local/lib/python3.11/dist-packages (from scikit-learn->deepchem) (3.6.0)\n",
      "Requirement already satisfied: mpmath<1.4,>=1.1.0 in /usr/local/lib/python3.11/dist-packages (from sympy->deepchem) (1.3.0)\n",
      "Requirement already satisfied: six>=1.5 in /usr/local/lib/python3.11/dist-packages (from python-dateutil>=2.8.2->pandas->deepchem) (1.17.0)\n",
      "Downloading deepchem-2.8.0-py3-none-any.whl (1.0 MB)\n",
      "\u001b[2K   \u001b[90m━━━━━━━━━━━━━━━━━━━━━━━━━━━━━━━━━━━━━━━━\u001b[0m \u001b[32m1.0/1.0 MB\u001b[0m \u001b[31m17.1 MB/s\u001b[0m eta \u001b[36m0:00:00\u001b[0m\n",
      "\u001b[?25hDownloading rdkit-2025.3.3-cp311-cp311-manylinux_2_28_x86_64.whl (34.9 MB)\n",
      "\u001b[2K   \u001b[90m━━━━━━━━━━━━━━━━━━━━━━━━━━━━━━━━━━━━━━━━\u001b[0m \u001b[32m34.9/34.9 MB\u001b[0m \u001b[31m12.6 MB/s\u001b[0m eta \u001b[36m0:00:00\u001b[0m\n",
      "\u001b[?25hInstalling collected packages: rdkit, deepchem\n",
      "Successfully installed deepchem-2.8.0 rdkit-2025.3.3\n",
      "Collecting dockstring\n",
      "  Downloading dockstring-0.3.4-py3-none-any.whl.metadata (19 kB)\n",
      "Downloading dockstring-0.3.4-py3-none-any.whl (4.4 MB)\n",
      "\u001b[2K   \u001b[90m━━━━━━━━━━━━━━━━━━━━━━━━━━━━━━━━━━━━━━━━\u001b[0m \u001b[32m4.4/4.4 MB\u001b[0m \u001b[31m10.9 MB/s\u001b[0m eta \u001b[36m0:00:00\u001b[0m\n",
      "\u001b[?25hInstalling collected packages: dockstring\n",
      "Successfully installed dockstring-0.3.4\n",
      "Collecting openbabel-wheel\n",
      "  Downloading openbabel_wheel-3.1.1.22-cp311-cp311-manylinux_2_17_x86_64.manylinux2014_x86_64.whl.metadata (20 kB)\n",
      "Downloading openbabel_wheel-3.1.1.22-cp311-cp311-manylinux_2_17_x86_64.manylinux2014_x86_64.whl (16.1 MB)\n",
      "\u001b[2K   \u001b[90m━━━━━━━━━━━━━━━━━━━━━━━━━━━━━━━━━━━━━━━━\u001b[0m \u001b[32m16.1/16.1 MB\u001b[0m \u001b[31m67.8 MB/s\u001b[0m eta \u001b[36m0:00:00\u001b[0m\n",
      "\u001b[?25hInstalling collected packages: openbabel-wheel\n",
      "Successfully installed openbabel-wheel-3.1.1.22\n"
     ]
    }
   ],
   "source": [
    "! pip install deepchem\n",
    "! pip install dockstring\n",
    "! pip install openbabel-wheel"
   ]
  },
  {
   "cell_type": "code",
   "execution_count": 2,
   "metadata": {
    "colab": {
     "base_uri": "https://localhost:8080/"
    },
    "id": "HWkR62lbgqjI",
    "outputId": "a5a526e0-e13f-466d-eee3-3f7683004278"
   },
   "outputs": [
    {
     "name": "stdout",
     "output_type": "stream",
     "text": [
      "Collecting py3Dmol\n",
      "  Downloading py3dmol-2.5.0-py2.py3-none-any.whl.metadata (2.1 kB)\n",
      "Downloading py3dmol-2.5.0-py2.py3-none-any.whl (7.2 kB)\n",
      "Installing collected packages: py3Dmol\n",
      "Successfully installed py3Dmol-2.5.0\n",
      "Collecting fairchem-core\n",
      "  Downloading fairchem_core-2.2.0-py3-none-any.whl.metadata (9.3 kB)\n",
      "Collecting ase-db-backends>=0.10.0 (from fairchem-core)\n",
      "  Downloading ase_db_backends-0.10.0-py3-none-any.whl.metadata (600 bytes)\n",
      "Collecting ase>=3.25.0 (from fairchem-core)\n",
      "  Downloading ase-3.25.0-py3-none-any.whl.metadata (4.2 kB)\n",
      "Collecting e3nn>=0.5 (from fairchem-core)\n",
      "  Downloading e3nn-0.5.6-py3-none-any.whl.metadata (5.4 kB)\n",
      "Requirement already satisfied: huggingface-hub>=0.27.1 in /usr/local/lib/python3.11/dist-packages (from fairchem-core) (0.33.0)\n",
      "Collecting hydra-core (from fairchem-core)\n",
      "  Downloading hydra_core-1.3.2-py3-none-any.whl.metadata (5.5 kB)\n",
      "Collecting lmdb (from fairchem-core)\n",
      "  Downloading lmdb-1.6.2-cp311-cp311-manylinux_2_17_x86_64.manylinux2014_x86_64.whl.metadata (1.1 kB)\n",
      "Collecting numba>=0.61.2 (from fairchem-core)\n",
      "  Downloading numba-0.61.2-cp311-cp311-manylinux2014_x86_64.manylinux_2_17_x86_64.whl.metadata (2.8 kB)\n",
      "Requirement already satisfied: numpy<2.3,>=2.0 in /usr/local/lib/python3.11/dist-packages (from fairchem-core) (2.0.2)\n",
      "Requirement already satisfied: orjson in /usr/local/lib/python3.11/dist-packages (from fairchem-core) (3.10.18)\n",
      "Collecting pymatgen>=2023.10.3 (from fairchem-core)\n",
      "  Downloading pymatgen-2025.6.14-cp311-cp311-manylinux_2_17_x86_64.manylinux2014_x86_64.whl.metadata (13 kB)\n",
      "Requirement already satisfied: pyyaml in /usr/local/lib/python3.11/dist-packages (from fairchem-core) (6.0.2)\n",
      "Requirement already satisfied: requests in /usr/local/lib/python3.11/dist-packages (from fairchem-core) (2.32.3)\n",
      "Collecting submitit (from fairchem-core)\n",
      "  Downloading submitit-1.5.3-py3-none-any.whl.metadata (7.9 kB)\n",
      "Requirement already satisfied: tensorboard in /usr/local/lib/python3.11/dist-packages (from fairchem-core) (2.18.0)\n",
      "Collecting torchtnt (from fairchem-core)\n",
      "  Downloading torchtnt-0.2.4-py3-none-any.whl.metadata (3.1 kB)\n",
      "Requirement already satisfied: torch~=2.6.0 in /usr/local/lib/python3.11/dist-packages (from fairchem-core) (2.6.0+cu124)\n",
      "Requirement already satisfied: tqdm in /usr/local/lib/python3.11/dist-packages (from fairchem-core) (4.67.1)\n",
      "Requirement already satisfied: wandb in /usr/local/lib/python3.11/dist-packages (from fairchem-core) (0.20.1)\n",
      "Requirement already satisfied: scipy>=1.6.0 in /usr/local/lib/python3.11/dist-packages (from ase>=3.25.0->fairchem-core) (1.15.3)\n",
      "Requirement already satisfied: matplotlib>=3.3.4 in /usr/local/lib/python3.11/dist-packages (from ase>=3.25.0->fairchem-core) (3.10.0)\n",
      "Collecting psycopg2-binary (from ase-db-backends>=0.10.0->fairchem-core)\n",
      "  Downloading psycopg2_binary-2.9.10-cp311-cp311-manylinux_2_17_x86_64.manylinux2014_x86_64.whl.metadata (4.9 kB)\n",
      "Collecting pymysql (from ase-db-backends>=0.10.0->fairchem-core)\n",
      "  Downloading PyMySQL-1.1.1-py3-none-any.whl.metadata (4.4 kB)\n",
      "Requirement already satisfied: cryptography in /usr/local/lib/python3.11/dist-packages (from ase-db-backends>=0.10.0->fairchem-core) (43.0.3)\n",
      "Requirement already satisfied: sympy in /usr/local/lib/python3.11/dist-packages (from e3nn>=0.5->fairchem-core) (1.13.1)\n",
      "Collecting opt_einsum_fx>=0.1.4 (from e3nn>=0.5->fairchem-core)\n",
      "  Downloading opt_einsum_fx-0.1.4-py3-none-any.whl.metadata (3.3 kB)\n",
      "Requirement already satisfied: filelock in /usr/local/lib/python3.11/dist-packages (from huggingface-hub>=0.27.1->fairchem-core) (3.18.0)\n",
      "Requirement already satisfied: fsspec>=2023.5.0 in /usr/local/lib/python3.11/dist-packages (from huggingface-hub>=0.27.1->fairchem-core) (2025.3.2)\n",
      "Requirement already satisfied: packaging>=20.9 in /usr/local/lib/python3.11/dist-packages (from huggingface-hub>=0.27.1->fairchem-core) (24.2)\n",
      "Requirement already satisfied: typing-extensions>=3.7.4.3 in /usr/local/lib/python3.11/dist-packages (from huggingface-hub>=0.27.1->fairchem-core) (4.14.0)\n",
      "Requirement already satisfied: hf-xet<2.0.0,>=1.1.2 in /usr/local/lib/python3.11/dist-packages (from huggingface-hub>=0.27.1->fairchem-core) (1.1.3)\n",
      "Collecting llvmlite<0.45,>=0.44.0dev0 (from numba>=0.61.2->fairchem-core)\n",
      "  Downloading llvmlite-0.44.0-cp311-cp311-manylinux_2_17_x86_64.manylinux2014_x86_64.whl.metadata (4.8 kB)\n",
      "Collecting bibtexparser>=1.4.0 (from pymatgen>=2023.10.3->fairchem-core)\n",
      "  Downloading bibtexparser-1.4.3.tar.gz (55 kB)\n",
      "\u001b[2K     \u001b[90m━━━━━━━━━━━━━━━━━━━━━━━━━━━━━━━━━━━━━━━━\u001b[0m \u001b[32m55.6/55.6 kB\u001b[0m \u001b[31m3.4 MB/s\u001b[0m eta \u001b[36m0:00:00\u001b[0m\n",
      "\u001b[?25h  Preparing metadata (setup.py) ... \u001b[?25l\u001b[?25hdone\n",
      "Requirement already satisfied: joblib>=1 in /usr/local/lib/python3.11/dist-packages (from pymatgen>=2023.10.3->fairchem-core) (1.5.1)\n",
      "Collecting monty>=2025.1.9 (from pymatgen>=2023.10.3->fairchem-core)\n",
      "  Downloading monty-2025.3.3-py3-none-any.whl.metadata (3.6 kB)\n",
      "Requirement already satisfied: networkx>=2.7 in /usr/local/lib/python3.11/dist-packages (from pymatgen>=2023.10.3->fairchem-core) (3.5)\n",
      "Collecting palettable>=3.3.3 (from pymatgen>=2023.10.3->fairchem-core)\n",
      "  Downloading palettable-3.3.3-py2.py3-none-any.whl.metadata (3.3 kB)\n",
      "Requirement already satisfied: pandas>=2 in /usr/local/lib/python3.11/dist-packages (from pymatgen>=2023.10.3->fairchem-core) (2.2.2)\n",
      "Requirement already satisfied: plotly>=5.0.0 in /usr/local/lib/python3.11/dist-packages (from pymatgen>=2023.10.3->fairchem-core) (5.24.1)\n",
      "Collecting ruamel.yaml>=0.17.0 (from pymatgen>=2023.10.3->fairchem-core)\n",
      "  Downloading ruamel.yaml-0.18.14-py3-none-any.whl.metadata (24 kB)\n",
      "Collecting spglib>=2.5 (from pymatgen>=2023.10.3->fairchem-core)\n",
      "  Downloading spglib-2.6.0-cp311-cp311-manylinux_2_17_x86_64.manylinux2014_x86_64.whl.metadata (4.2 kB)\n",
      "Requirement already satisfied: tabulate>=0.9 in /usr/local/lib/python3.11/dist-packages (from pymatgen>=2023.10.3->fairchem-core) (0.9.0)\n",
      "Collecting uncertainties>=3.1.4 (from pymatgen>=2023.10.3->fairchem-core)\n",
      "  Downloading uncertainties-3.2.3-py3-none-any.whl.metadata (7.0 kB)\n",
      "Requirement already satisfied: charset-normalizer<4,>=2 in /usr/local/lib/python3.11/dist-packages (from requests->fairchem-core) (3.4.2)\n",
      "Requirement already satisfied: idna<4,>=2.5 in /usr/local/lib/python3.11/dist-packages (from requests->fairchem-core) (3.10)\n",
      "Requirement already satisfied: urllib3<3,>=1.21.1 in /usr/local/lib/python3.11/dist-packages (from requests->fairchem-core) (2.4.0)\n",
      "Requirement already satisfied: certifi>=2017.4.17 in /usr/local/lib/python3.11/dist-packages (from requests->fairchem-core) (2025.6.15)\n",
      "Requirement already satisfied: jinja2 in /usr/local/lib/python3.11/dist-packages (from torch~=2.6.0->fairchem-core) (3.1.6)\n",
      "Collecting nvidia-cuda-nvrtc-cu12==12.4.127 (from torch~=2.6.0->fairchem-core)\n",
      "  Downloading nvidia_cuda_nvrtc_cu12-12.4.127-py3-none-manylinux2014_x86_64.whl.metadata (1.5 kB)\n",
      "Collecting nvidia-cuda-runtime-cu12==12.4.127 (from torch~=2.6.0->fairchem-core)\n",
      "  Downloading nvidia_cuda_runtime_cu12-12.4.127-py3-none-manylinux2014_x86_64.whl.metadata (1.5 kB)\n",
      "Collecting nvidia-cuda-cupti-cu12==12.4.127 (from torch~=2.6.0->fairchem-core)\n",
      "  Downloading nvidia_cuda_cupti_cu12-12.4.127-py3-none-manylinux2014_x86_64.whl.metadata (1.6 kB)\n",
      "Collecting nvidia-cudnn-cu12==9.1.0.70 (from torch~=2.6.0->fairchem-core)\n",
      "  Downloading nvidia_cudnn_cu12-9.1.0.70-py3-none-manylinux2014_x86_64.whl.metadata (1.6 kB)\n",
      "Collecting nvidia-cublas-cu12==12.4.5.8 (from torch~=2.6.0->fairchem-core)\n",
      "  Downloading nvidia_cublas_cu12-12.4.5.8-py3-none-manylinux2014_x86_64.whl.metadata (1.5 kB)\n",
      "Collecting nvidia-cufft-cu12==11.2.1.3 (from torch~=2.6.0->fairchem-core)\n",
      "  Downloading nvidia_cufft_cu12-11.2.1.3-py3-none-manylinux2014_x86_64.whl.metadata (1.5 kB)\n",
      "Collecting nvidia-curand-cu12==10.3.5.147 (from torch~=2.6.0->fairchem-core)\n",
      "  Downloading nvidia_curand_cu12-10.3.5.147-py3-none-manylinux2014_x86_64.whl.metadata (1.5 kB)\n",
      "Collecting nvidia-cusolver-cu12==11.6.1.9 (from torch~=2.6.0->fairchem-core)\n",
      "  Downloading nvidia_cusolver_cu12-11.6.1.9-py3-none-manylinux2014_x86_64.whl.metadata (1.6 kB)\n",
      "Collecting nvidia-cusparse-cu12==12.3.1.170 (from torch~=2.6.0->fairchem-core)\n",
      "  Downloading nvidia_cusparse_cu12-12.3.1.170-py3-none-manylinux2014_x86_64.whl.metadata (1.6 kB)\n",
      "Requirement already satisfied: nvidia-cusparselt-cu12==0.6.2 in /usr/local/lib/python3.11/dist-packages (from torch~=2.6.0->fairchem-core) (0.6.2)\n",
      "Requirement already satisfied: nvidia-nccl-cu12==2.21.5 in /usr/local/lib/python3.11/dist-packages (from torch~=2.6.0->fairchem-core) (2.21.5)\n",
      "Requirement already satisfied: nvidia-nvtx-cu12==12.4.127 in /usr/local/lib/python3.11/dist-packages (from torch~=2.6.0->fairchem-core) (12.4.127)\n",
      "Collecting nvidia-nvjitlink-cu12==12.4.127 (from torch~=2.6.0->fairchem-core)\n",
      "  Downloading nvidia_nvjitlink_cu12-12.4.127-py3-none-manylinux2014_x86_64.whl.metadata (1.5 kB)\n",
      "Requirement already satisfied: triton==3.2.0 in /usr/local/lib/python3.11/dist-packages (from torch~=2.6.0->fairchem-core) (3.2.0)\n",
      "Requirement already satisfied: mpmath<1.4,>=1.1.0 in /usr/local/lib/python3.11/dist-packages (from sympy->e3nn>=0.5->fairchem-core) (1.3.0)\n",
      "Requirement already satisfied: omegaconf<2.4,>=2.2 in /usr/local/lib/python3.11/dist-packages (from hydra-core->fairchem-core) (2.3.0)\n",
      "Requirement already satisfied: antlr4-python3-runtime==4.9.* in /usr/local/lib/python3.11/dist-packages (from hydra-core->fairchem-core) (4.9.3)\n",
      "Requirement already satisfied: cloudpickle>=1.2.1 in /usr/local/lib/python3.11/dist-packages (from submitit->fairchem-core) (3.1.1)\n",
      "Requirement already satisfied: absl-py>=0.4 in /usr/local/lib/python3.11/dist-packages (from tensorboard->fairchem-core) (1.4.0)\n",
      "Requirement already satisfied: grpcio>=1.48.2 in /usr/local/lib/python3.11/dist-packages (from tensorboard->fairchem-core) (1.73.0)\n",
      "Requirement already satisfied: markdown>=2.6.8 in /usr/local/lib/python3.11/dist-packages (from tensorboard->fairchem-core) (3.8)\n",
      "Requirement already satisfied: protobuf!=4.24.0,>=3.19.6 in /usr/local/lib/python3.11/dist-packages (from tensorboard->fairchem-core) (5.29.5)\n",
      "Requirement already satisfied: setuptools>=41.0.0 in /usr/local/lib/python3.11/dist-packages (from tensorboard->fairchem-core) (75.2.0)\n",
      "Requirement already satisfied: six>1.9 in /usr/local/lib/python3.11/dist-packages (from tensorboard->fairchem-core) (1.17.0)\n",
      "Requirement already satisfied: tensorboard-data-server<0.8.0,>=0.7.0 in /usr/local/lib/python3.11/dist-packages (from tensorboard->fairchem-core) (0.7.2)\n",
      "Requirement already satisfied: werkzeug>=1.0.1 in /usr/local/lib/python3.11/dist-packages (from tensorboard->fairchem-core) (3.1.3)\n",
      "Requirement already satisfied: psutil in /usr/local/lib/python3.11/dist-packages (from torchtnt->fairchem-core) (5.9.5)\n",
      "Collecting pyre-extensions (from torchtnt->fairchem-core)\n",
      "  Downloading pyre_extensions-0.0.32-py3-none-any.whl.metadata (4.0 kB)\n",
      "Requirement already satisfied: click!=8.0.0,>=7.1 in /usr/local/lib/python3.11/dist-packages (from wandb->fairchem-core) (8.2.1)\n",
      "Requirement already satisfied: gitpython!=3.1.29,>=1.0.0 in /usr/local/lib/python3.11/dist-packages (from wandb->fairchem-core) (3.1.44)\n",
      "Requirement already satisfied: platformdirs in /usr/local/lib/python3.11/dist-packages (from wandb->fairchem-core) (4.3.8)\n",
      "Requirement already satisfied: pydantic<3 in /usr/local/lib/python3.11/dist-packages (from wandb->fairchem-core) (2.11.7)\n",
      "Requirement already satisfied: sentry-sdk>=2.0.0 in /usr/local/lib/python3.11/dist-packages (from wandb->fairchem-core) (2.30.0)\n",
      "Requirement already satisfied: setproctitle in /usr/local/lib/python3.11/dist-packages (from wandb->fairchem-core) (1.3.6)\n",
      "Requirement already satisfied: pyparsing>=2.0.3 in /usr/local/lib/python3.11/dist-packages (from bibtexparser>=1.4.0->pymatgen>=2023.10.3->fairchem-core) (3.2.3)\n",
      "Requirement already satisfied: gitdb<5,>=4.0.1 in /usr/local/lib/python3.11/dist-packages (from gitpython!=3.1.29,>=1.0.0->wandb->fairchem-core) (4.0.12)\n",
      "Requirement already satisfied: contourpy>=1.0.1 in /usr/local/lib/python3.11/dist-packages (from matplotlib>=3.3.4->ase>=3.25.0->fairchem-core) (1.3.2)\n",
      "Requirement already satisfied: cycler>=0.10 in /usr/local/lib/python3.11/dist-packages (from matplotlib>=3.3.4->ase>=3.25.0->fairchem-core) (0.12.1)\n",
      "Requirement already satisfied: fonttools>=4.22.0 in /usr/local/lib/python3.11/dist-packages (from matplotlib>=3.3.4->ase>=3.25.0->fairchem-core) (4.58.4)\n",
      "Requirement already satisfied: kiwisolver>=1.3.1 in /usr/local/lib/python3.11/dist-packages (from matplotlib>=3.3.4->ase>=3.25.0->fairchem-core) (1.4.8)\n",
      "Requirement already satisfied: pillow>=8 in /usr/local/lib/python3.11/dist-packages (from matplotlib>=3.3.4->ase>=3.25.0->fairchem-core) (11.2.1)\n",
      "Requirement already satisfied: python-dateutil>=2.7 in /usr/local/lib/python3.11/dist-packages (from matplotlib>=3.3.4->ase>=3.25.0->fairchem-core) (2.9.0.post0)\n",
      "Requirement already satisfied: opt-einsum in /usr/local/lib/python3.11/dist-packages (from opt_einsum_fx>=0.1.4->e3nn>=0.5->fairchem-core) (3.4.0)\n",
      "Requirement already satisfied: pytz>=2020.1 in /usr/local/lib/python3.11/dist-packages (from pandas>=2->pymatgen>=2023.10.3->fairchem-core) (2025.2)\n",
      "Requirement already satisfied: tzdata>=2022.7 in /usr/local/lib/python3.11/dist-packages (from pandas>=2->pymatgen>=2023.10.3->fairchem-core) (2025.2)\n",
      "Requirement already satisfied: tenacity>=6.2.0 in /usr/local/lib/python3.11/dist-packages (from plotly>=5.0.0->pymatgen>=2023.10.3->fairchem-core) (9.1.2)\n",
      "Requirement already satisfied: annotated-types>=0.6.0 in /usr/local/lib/python3.11/dist-packages (from pydantic<3->wandb->fairchem-core) (0.7.0)\n",
      "Requirement already satisfied: pydantic-core==2.33.2 in /usr/local/lib/python3.11/dist-packages (from pydantic<3->wandb->fairchem-core) (2.33.2)\n",
      "Requirement already satisfied: typing-inspection>=0.4.0 in /usr/local/lib/python3.11/dist-packages (from pydantic<3->wandb->fairchem-core) (0.4.1)\n",
      "Collecting ruamel.yaml.clib>=0.2.7 (from ruamel.yaml>=0.17.0->pymatgen>=2023.10.3->fairchem-core)\n",
      "  Downloading ruamel.yaml.clib-0.2.12-cp311-cp311-manylinux_2_17_x86_64.manylinux2014_x86_64.whl.metadata (2.7 kB)\n",
      "Requirement already satisfied: MarkupSafe>=2.1.1 in /usr/local/lib/python3.11/dist-packages (from werkzeug>=1.0.1->tensorboard->fairchem-core) (3.0.2)\n",
      "Requirement already satisfied: cffi>=1.12 in /usr/local/lib/python3.11/dist-packages (from cryptography->ase-db-backends>=0.10.0->fairchem-core) (1.17.1)\n",
      "Collecting typing-inspect (from pyre-extensions->torchtnt->fairchem-core)\n",
      "  Downloading typing_inspect-0.9.0-py3-none-any.whl.metadata (1.5 kB)\n",
      "Requirement already satisfied: pycparser in /usr/local/lib/python3.11/dist-packages (from cffi>=1.12->cryptography->ase-db-backends>=0.10.0->fairchem-core) (2.22)\n",
      "Requirement already satisfied: smmap<6,>=3.0.1 in /usr/local/lib/python3.11/dist-packages (from gitdb<5,>=4.0.1->gitpython!=3.1.29,>=1.0.0->wandb->fairchem-core) (5.0.2)\n",
      "Collecting mypy-extensions>=0.3.0 (from typing-inspect->pyre-extensions->torchtnt->fairchem-core)\n",
      "  Downloading mypy_extensions-1.1.0-py3-none-any.whl.metadata (1.1 kB)\n",
      "Downloading fairchem_core-2.2.0-py3-none-any.whl (284 kB)\n",
      "\u001b[2K   \u001b[90m━━━━━━━━━━━━━━━━━━━━━━━━━━━━━━━━━━━━━━━━\u001b[0m \u001b[32m284.9/284.9 kB\u001b[0m \u001b[31m13.3 MB/s\u001b[0m eta \u001b[36m0:00:00\u001b[0m\n",
      "\u001b[?25hDownloading ase-3.25.0-py3-none-any.whl (3.0 MB)\n",
      "\u001b[2K   \u001b[90m━━━━━━━━━━━━━━━━━━━━━━━━━━━━━━━━━━━━━━━━\u001b[0m \u001b[32m3.0/3.0 MB\u001b[0m \u001b[31m51.0 MB/s\u001b[0m eta \u001b[36m0:00:00\u001b[0m\n",
      "\u001b[?25hDownloading ase_db_backends-0.10.0-py3-none-any.whl (42 kB)\n",
      "\u001b[2K   \u001b[90m━━━━━━━━━━━━━━━━━━━━━━━━━━━━━━━━━━━━━━━━\u001b[0m \u001b[32m42.9/42.9 kB\u001b[0m \u001b[31m2.6 MB/s\u001b[0m eta \u001b[36m0:00:00\u001b[0m\n",
      "\u001b[?25hDownloading e3nn-0.5.6-py3-none-any.whl (448 kB)\n",
      "\u001b[2K   \u001b[90m━━━━━━━━━━━━━━━━━━━━━━━━━━━━━━━━━━━━━━━━\u001b[0m \u001b[32m448.0/448.0 kB\u001b[0m \u001b[31m24.2 MB/s\u001b[0m eta \u001b[36m0:00:00\u001b[0m\n",
      "\u001b[?25hDownloading numba-0.61.2-cp311-cp311-manylinux2014_x86_64.manylinux_2_17_x86_64.whl (3.8 MB)\n",
      "\u001b[2K   \u001b[90m━━━━━━━━━━━━━━━━━━━━━━━━━━━━━━━━━━━━━━━━\u001b[0m \u001b[32m3.8/3.8 MB\u001b[0m \u001b[31m52.5 MB/s\u001b[0m eta \u001b[36m0:00:00\u001b[0m\n",
      "\u001b[?25hDownloading pymatgen-2025.6.14-cp311-cp311-manylinux_2_17_x86_64.manylinux2014_x86_64.whl (5.1 MB)\n",
      "\u001b[2K   \u001b[90m━━━━━━━━━━━━━━━━━━━━━━━━━━━━━━━━━━━━━━━━\u001b[0m \u001b[32m5.1/5.1 MB\u001b[0m \u001b[31m53.7 MB/s\u001b[0m eta \u001b[36m0:00:00\u001b[0m\n",
      "\u001b[?25hDownloading nvidia_cublas_cu12-12.4.5.8-py3-none-manylinux2014_x86_64.whl (363.4 MB)\n",
      "\u001b[2K   \u001b[90m━━━━━━━━━━━━━━━━━━━━━━━━━━━━━━━━━━━━━━━━\u001b[0m \u001b[32m363.4/363.4 MB\u001b[0m \u001b[31m1.7 MB/s\u001b[0m eta \u001b[36m0:00:00\u001b[0m\n",
      "\u001b[?25hDownloading nvidia_cuda_cupti_cu12-12.4.127-py3-none-manylinux2014_x86_64.whl (13.8 MB)\n",
      "\u001b[2K   \u001b[90m━━━━━━━━━━━━━━━━━━━━━━━━━━━━━━━━━━━━━━━━\u001b[0m \u001b[32m13.8/13.8 MB\u001b[0m \u001b[31m39.9 MB/s\u001b[0m eta \u001b[36m0:00:00\u001b[0m\n",
      "\u001b[?25hDownloading nvidia_cuda_nvrtc_cu12-12.4.127-py3-none-manylinux2014_x86_64.whl (24.6 MB)\n",
      "\u001b[2K   \u001b[90m━━━━━━━━━━━━━━━━━━━━━━━━━━━━━━━━━━━━━━━━\u001b[0m \u001b[32m24.6/24.6 MB\u001b[0m \u001b[31m34.9 MB/s\u001b[0m eta \u001b[36m0:00:00\u001b[0m\n",
      "\u001b[?25hDownloading nvidia_cuda_runtime_cu12-12.4.127-py3-none-manylinux2014_x86_64.whl (883 kB)\n",
      "\u001b[2K   \u001b[90m━━━━━━━━━━━━━━━━━━━━━━━━━━━━━━━━━━━━━━━━\u001b[0m \u001b[32m883.7/883.7 kB\u001b[0m \u001b[31m26.7 MB/s\u001b[0m eta \u001b[36m0:00:00\u001b[0m\n",
      "\u001b[?25hDownloading nvidia_cudnn_cu12-9.1.0.70-py3-none-manylinux2014_x86_64.whl (664.8 MB)\n",
      "\u001b[2K   \u001b[90m━━━━━━━━━━━━━━━━━━━━━━━━━━━━━━━━━━━━━━━\u001b[0m \u001b[32m664.8/664.8 MB\u001b[0m \u001b[31m806.9 kB/s\u001b[0m eta \u001b[36m0:00:00\u001b[0m\n",
      "\u001b[?25hDownloading nvidia_cufft_cu12-11.2.1.3-py3-none-manylinux2014_x86_64.whl (211.5 MB)\n",
      "\u001b[2K   \u001b[90m━━━━━━━━━━━━━━━━━━━━━━━━━━━━━━━━━━━━━━━━\u001b[0m \u001b[32m211.5/211.5 MB\u001b[0m \u001b[31m6.6 MB/s\u001b[0m eta \u001b[36m0:00:00\u001b[0m\n",
      "\u001b[?25hDownloading nvidia_curand_cu12-10.3.5.147-py3-none-manylinux2014_x86_64.whl (56.3 MB)\n",
      "\u001b[2K   \u001b[90m━━━━━━━━━━━━━━━━━━━━━━━━━━━━━━━━━━━━━━━━\u001b[0m \u001b[32m56.3/56.3 MB\u001b[0m \u001b[31m12.1 MB/s\u001b[0m eta \u001b[36m0:00:00\u001b[0m\n",
      "\u001b[?25hDownloading nvidia_cusolver_cu12-11.6.1.9-py3-none-manylinux2014_x86_64.whl (127.9 MB)\n",
      "\u001b[2K   \u001b[90m━━━━━━━━━━━━━━━━━━━━━━━━━━━━━━━━━━━━━━━━\u001b[0m \u001b[32m127.9/127.9 MB\u001b[0m \u001b[31m9.0 MB/s\u001b[0m eta \u001b[36m0:00:00\u001b[0m\n",
      "\u001b[?25hDownloading nvidia_cusparse_cu12-12.3.1.170-py3-none-manylinux2014_x86_64.whl (207.5 MB)\n",
      "\u001b[2K   \u001b[90m━━━━━━━━━━━━━━━━━━━━━━━━━━━━━━━━━━━━━━━━\u001b[0m \u001b[32m207.5/207.5 MB\u001b[0m \u001b[31m6.8 MB/s\u001b[0m eta \u001b[36m0:00:00\u001b[0m\n",
      "\u001b[?25hDownloading nvidia_nvjitlink_cu12-12.4.127-py3-none-manylinux2014_x86_64.whl (21.1 MB)\n",
      "\u001b[2K   \u001b[90m━━━━━━━━━━━━━━━━━━━━━━━━━━━━━━━━━━━━━━━━\u001b[0m \u001b[32m21.1/21.1 MB\u001b[0m \u001b[31m73.2 MB/s\u001b[0m eta \u001b[36m0:00:00\u001b[0m\n",
      "\u001b[?25hDownloading hydra_core-1.3.2-py3-none-any.whl (154 kB)\n",
      "\u001b[2K   \u001b[90m━━━━━━━━━━━━━━━━━━━━━━━━━━━━━━━━━━━━━━━━\u001b[0m \u001b[32m154.5/154.5 kB\u001b[0m \u001b[31m10.4 MB/s\u001b[0m eta \u001b[36m0:00:00\u001b[0m\n",
      "\u001b[?25hDownloading lmdb-1.6.2-cp311-cp311-manylinux_2_17_x86_64.manylinux2014_x86_64.whl (297 kB)\n",
      "\u001b[2K   \u001b[90m━━━━━━━━━━━━━━━━━━━━━━━━━━━━━━━━━━━━━━━━\u001b[0m \u001b[32m297.8/297.8 kB\u001b[0m \u001b[31m18.7 MB/s\u001b[0m eta \u001b[36m0:00:00\u001b[0m\n",
      "\u001b[?25hDownloading submitit-1.5.3-py3-none-any.whl (75 kB)\n",
      "\u001b[2K   \u001b[90m━━━━━━━━━━━━━━━━━━━━━━━━━━━━━━━━━━━━━━━━\u001b[0m \u001b[32m75.5/75.5 kB\u001b[0m \u001b[31m5.7 MB/s\u001b[0m eta \u001b[36m0:00:00\u001b[0m\n",
      "\u001b[?25hDownloading torchtnt-0.2.4-py3-none-any.whl (163 kB)\n",
      "\u001b[2K   \u001b[90m━━━━━━━━━━━━━━━━━━━━━━━━━━━━━━━━━━━━━━━━\u001b[0m \u001b[32m163.5/163.5 kB\u001b[0m \u001b[31m11.2 MB/s\u001b[0m eta \u001b[36m0:00:00\u001b[0m\n",
      "\u001b[?25hDownloading llvmlite-0.44.0-cp311-cp311-manylinux_2_17_x86_64.manylinux2014_x86_64.whl (42.4 MB)\n",
      "\u001b[2K   \u001b[90m━━━━━━━━━━━━━━━━━━━━━━━━━━━━━━━━━━━━━━━━\u001b[0m \u001b[32m42.4/42.4 MB\u001b[0m \u001b[31m20.4 MB/s\u001b[0m eta \u001b[36m0:00:00\u001b[0m\n",
      "\u001b[?25hDownloading monty-2025.3.3-py3-none-any.whl (51 kB)\n",
      "\u001b[2K   \u001b[90m━━━━━━━━━━━━━━━━━━━━━━━━━━━━━━━━━━━━━━━━\u001b[0m \u001b[32m51.9/51.9 kB\u001b[0m \u001b[31m3.8 MB/s\u001b[0m eta \u001b[36m0:00:00\u001b[0m\n",
      "\u001b[?25hDownloading opt_einsum_fx-0.1.4-py3-none-any.whl (13 kB)\n",
      "Downloading palettable-3.3.3-py2.py3-none-any.whl (332 kB)\n",
      "\u001b[2K   \u001b[90m━━━━━━━━━━━━━━━━━━━━━━━━━━━━━━━━━━━━━━━━\u001b[0m \u001b[32m332.3/332.3 kB\u001b[0m \u001b[31m23.8 MB/s\u001b[0m eta \u001b[36m0:00:00\u001b[0m\n",
      "\u001b[?25hDownloading ruamel.yaml-0.18.14-py3-none-any.whl (118 kB)\n",
      "\u001b[2K   \u001b[90m━━━━━━━━━━━━━━━━━━━━━━━━━━━━━━━━━━━━━━━━\u001b[0m \u001b[32m118.6/118.6 kB\u001b[0m \u001b[31m9.3 MB/s\u001b[0m eta \u001b[36m0:00:00\u001b[0m\n",
      "\u001b[?25hDownloading spglib-2.6.0-cp311-cp311-manylinux_2_17_x86_64.manylinux2014_x86_64.whl (809 kB)\n",
      "\u001b[2K   \u001b[90m━━━━━━━━━━━━━━━━━━━━━━━━━━━━━━━━━━━━━━━━\u001b[0m \u001b[32m809.0/809.0 kB\u001b[0m \u001b[31m39.1 MB/s\u001b[0m eta \u001b[36m0:00:00\u001b[0m\n",
      "\u001b[?25hDownloading uncertainties-3.2.3-py3-none-any.whl (60 kB)\n",
      "\u001b[2K   \u001b[90m━━━━━━━━━━━━━━━━━━━━━━━━━━━━━━━━━━━━━━━━\u001b[0m \u001b[32m60.1/60.1 kB\u001b[0m \u001b[31m4.5 MB/s\u001b[0m eta \u001b[36m0:00:00\u001b[0m\n",
      "\u001b[?25hDownloading psycopg2_binary-2.9.10-cp311-cp311-manylinux_2_17_x86_64.manylinux2014_x86_64.whl (3.0 MB)\n",
      "\u001b[2K   \u001b[90m━━━━━━━━━━━━━━━━━━━━━━━━━━━━━━━━━━━━━━━━\u001b[0m \u001b[32m3.0/3.0 MB\u001b[0m \u001b[31m77.9 MB/s\u001b[0m eta \u001b[36m0:00:00\u001b[0m\n",
      "\u001b[?25hDownloading PyMySQL-1.1.1-py3-none-any.whl (44 kB)\n",
      "\u001b[2K   \u001b[90m━━━━━━━━━━━━━━━━━━━━━━━━━━━━━━━━━━━━━━━━\u001b[0m \u001b[32m45.0/45.0 kB\u001b[0m \u001b[31m3.3 MB/s\u001b[0m eta \u001b[36m0:00:00\u001b[0m\n",
      "\u001b[?25hDownloading pyre_extensions-0.0.32-py3-none-any.whl (12 kB)\n",
      "Downloading ruamel.yaml.clib-0.2.12-cp311-cp311-manylinux_2_17_x86_64.manylinux2014_x86_64.whl (739 kB)\n",
      "\u001b[2K   \u001b[90m━━━━━━━━━━━━━━━━━━━━━━━━━━━━━━━━━━━━━━━━\u001b[0m \u001b[32m739.1/739.1 kB\u001b[0m \u001b[31m40.3 MB/s\u001b[0m eta \u001b[36m0:00:00\u001b[0m\n",
      "\u001b[?25hDownloading typing_inspect-0.9.0-py3-none-any.whl (8.8 kB)\n",
      "Downloading mypy_extensions-1.1.0-py3-none-any.whl (5.0 kB)\n",
      "Building wheels for collected packages: bibtexparser\n",
      "  Building wheel for bibtexparser (setup.py) ... \u001b[?25l\u001b[?25hdone\n",
      "  Created wheel for bibtexparser: filename=bibtexparser-1.4.3-py3-none-any.whl size=43549 sha256=3c954e4c5506ca91eacc60a99cb1a4c1ec6f9ab73cc97673ff6c6fad78517e05\n",
      "  Stored in directory: /root/.cache/pip/wheels/16/fb/76/306387739cf9d53b1c39b0c8aadbbb17dc05f256756d8fd915\n",
      "Successfully built bibtexparser\n",
      "Installing collected packages: lmdb, uncertainties, submitit, spglib, ruamel.yaml.clib, pymysql, psycopg2-binary, palettable, nvidia-nvjitlink-cu12, nvidia-curand-cu12, nvidia-cufft-cu12, nvidia-cuda-runtime-cu12, nvidia-cuda-nvrtc-cu12, nvidia-cuda-cupti-cu12, nvidia-cublas-cu12, mypy-extensions, llvmlite, bibtexparser, typing-inspect, ruamel.yaml, nvidia-cusparse-cu12, nvidia-cudnn-cu12, numba, hydra-core, pyre-extensions, nvidia-cusolver-cu12, monty, ase, pymatgen, ase-db-backends, torchtnt, opt_einsum_fx, e3nn, fairchem-core\n",
      "  Attempting uninstall: nvidia-nvjitlink-cu12\n",
      "    Found existing installation: nvidia-nvjitlink-cu12 12.5.82\n",
      "    Uninstalling nvidia-nvjitlink-cu12-12.5.82:\n",
      "      Successfully uninstalled nvidia-nvjitlink-cu12-12.5.82\n",
      "  Attempting uninstall: nvidia-curand-cu12\n",
      "    Found existing installation: nvidia-curand-cu12 10.3.6.82\n",
      "    Uninstalling nvidia-curand-cu12-10.3.6.82:\n",
      "      Successfully uninstalled nvidia-curand-cu12-10.3.6.82\n",
      "  Attempting uninstall: nvidia-cufft-cu12\n",
      "    Found existing installation: nvidia-cufft-cu12 11.2.3.61\n",
      "    Uninstalling nvidia-cufft-cu12-11.2.3.61:\n",
      "      Successfully uninstalled nvidia-cufft-cu12-11.2.3.61\n",
      "  Attempting uninstall: nvidia-cuda-runtime-cu12\n",
      "    Found existing installation: nvidia-cuda-runtime-cu12 12.5.82\n",
      "    Uninstalling nvidia-cuda-runtime-cu12-12.5.82:\n",
      "      Successfully uninstalled nvidia-cuda-runtime-cu12-12.5.82\n",
      "  Attempting uninstall: nvidia-cuda-nvrtc-cu12\n",
      "    Found existing installation: nvidia-cuda-nvrtc-cu12 12.5.82\n",
      "    Uninstalling nvidia-cuda-nvrtc-cu12-12.5.82:\n",
      "      Successfully uninstalled nvidia-cuda-nvrtc-cu12-12.5.82\n",
      "  Attempting uninstall: nvidia-cuda-cupti-cu12\n",
      "    Found existing installation: nvidia-cuda-cupti-cu12 12.5.82\n",
      "    Uninstalling nvidia-cuda-cupti-cu12-12.5.82:\n",
      "      Successfully uninstalled nvidia-cuda-cupti-cu12-12.5.82\n",
      "  Attempting uninstall: nvidia-cublas-cu12\n",
      "    Found existing installation: nvidia-cublas-cu12 12.5.3.2\n",
      "    Uninstalling nvidia-cublas-cu12-12.5.3.2:\n",
      "      Successfully uninstalled nvidia-cublas-cu12-12.5.3.2\n",
      "  Attempting uninstall: llvmlite\n",
      "    Found existing installation: llvmlite 0.43.0\n",
      "    Uninstalling llvmlite-0.43.0:\n",
      "      Successfully uninstalled llvmlite-0.43.0\n",
      "  Attempting uninstall: nvidia-cusparse-cu12\n",
      "    Found existing installation: nvidia-cusparse-cu12 12.5.1.3\n",
      "    Uninstalling nvidia-cusparse-cu12-12.5.1.3:\n",
      "      Successfully uninstalled nvidia-cusparse-cu12-12.5.1.3\n",
      "  Attempting uninstall: nvidia-cudnn-cu12\n",
      "    Found existing installation: nvidia-cudnn-cu12 9.3.0.75\n",
      "    Uninstalling nvidia-cudnn-cu12-9.3.0.75:\n",
      "      Successfully uninstalled nvidia-cudnn-cu12-9.3.0.75\n",
      "  Attempting uninstall: numba\n",
      "    Found existing installation: numba 0.60.0\n",
      "    Uninstalling numba-0.60.0:\n",
      "      Successfully uninstalled numba-0.60.0\n",
      "  Attempting uninstall: nvidia-cusolver-cu12\n",
      "    Found existing installation: nvidia-cusolver-cu12 11.6.3.83\n",
      "    Uninstalling nvidia-cusolver-cu12-11.6.3.83:\n",
      "      Successfully uninstalled nvidia-cusolver-cu12-11.6.3.83\n",
      "\u001b[31mERROR: pip's dependency resolver does not currently take into account all the packages that are installed. This behaviour is the source of the following dependency conflicts.\n",
      "cudf-cu12 25.2.1 requires numba<0.61.0a0,>=0.59.1, but you have numba 0.61.2 which is incompatible.\n",
      "dask-cuda 25.2.0 requires numba<0.61.0a0,>=0.59.1, but you have numba 0.61.2 which is incompatible.\n",
      "cuml-cu12 25.2.1 requires numba<0.61.0a0,>=0.59.1, but you have numba 0.61.2 which is incompatible.\n",
      "distributed-ucxx-cu12 0.42.0 requires numba<0.61.0a0,>=0.59.1, but you have numba 0.61.2 which is incompatible.\u001b[0m\u001b[31m\n",
      "\u001b[0mSuccessfully installed ase-3.25.0 ase-db-backends-0.10.0 bibtexparser-1.4.3 e3nn-0.5.6 fairchem-core-2.2.0 hydra-core-1.3.2 llvmlite-0.44.0 lmdb-1.6.2 monty-2025.3.3 mypy-extensions-1.1.0 numba-0.61.2 nvidia-cublas-cu12-12.4.5.8 nvidia-cuda-cupti-cu12-12.4.127 nvidia-cuda-nvrtc-cu12-12.4.127 nvidia-cuda-runtime-cu12-12.4.127 nvidia-cudnn-cu12-9.1.0.70 nvidia-cufft-cu12-11.2.1.3 nvidia-curand-cu12-10.3.5.147 nvidia-cusolver-cu12-11.6.1.9 nvidia-cusparse-cu12-12.3.1.170 nvidia-nvjitlink-cu12-12.4.127 opt_einsum_fx-0.1.4 palettable-3.3.3 psycopg2-binary-2.9.10 pymatgen-2025.6.14 pymysql-1.1.1 pyre-extensions-0.0.32 ruamel.yaml-0.18.14 ruamel.yaml.clib-0.2.12 spglib-2.6.0 submitit-1.5.3 torchtnt-0.2.4 typing-inspect-0.9.0 uncertainties-3.2.3\n"
     ]
    }
   ],
   "source": [
    "! pip install py3Dmol\n",
    "! pip install fairchem-core"
   ]
  },
  {
   "cell_type": "markdown",
   "metadata": {
    "id": "5VmO2vg3e_Bz"
   },
   "source": [
    "### Import libraries, pull CafChem from Github"
   ]
  },
  {
   "cell_type": "code",
   "execution_count": 15,
   "metadata": {
    "colab": {
     "base_uri": "https://localhost:8080/"
    },
    "id": "8z14e6RLgA0w",
    "outputId": "acf90419-9e28-4e1a-89cf-3d5626d56848"
   },
   "outputs": [
    {
     "name": "stdout",
     "output_type": "stream",
     "text": [
      "Cloning into 'CafChem'...\n",
      "remote: Enumerating objects: 23, done.\u001b[K\n",
      "remote: Counting objects: 100% (23/23), done.\u001b[K\n",
      "remote: Compressing objects: 100% (23/23), done.\u001b[K\n",
      "remote: Total 23 (delta 7), reused 0 (delta 0), pack-reused 0 (from 0)\u001b[K\n",
      "Receiving objects: 100% (23/23), 18.57 KiB | 4.64 MiB/s, done.\n",
      "Resolving deltas: 100% (7/7), done.\n"
     ]
    }
   ],
   "source": [
    "!git clone https://github.com/MauricioCafiero/CafChem.git"
   ]
  },
  {
   "cell_type": "code",
   "execution_count": 16,
   "metadata": {
    "colab": {
     "base_uri": "https://localhost:8080/"
    },
    "id": "3a76e239-bd0e-4783-9c3e-7eb5ca48caa4",
    "outputId": "799824ca-a4c2-438c-a11d-5b7cec8bfedb"
   },
   "outputs": [
    {
     "name": "stdout",
     "output_type": "stream",
     "text": [
      "2\n"
     ]
    }
   ],
   "source": [
    "import numpy as np\n",
    "import pandas as pd\n",
    "import deepchem as dc\n",
    "import time\n",
    "from rdkit import Chem\n",
    "import matplotlib.pyplot as plt\n",
    "from rdkit.Chem import AllChem, Draw\n",
    "from deepchem.feat.smiles_tokenizer import SmilesTokenizer\n",
    "from dockstring import load_target\n",
    "from google.colab import files\n",
    "import os\n",
    "import py3Dmol\n",
    "import ase.io\n",
    "from ase import Atoms\n",
    "from fairchem.core import FAIRChemCalculator, pretrained_mlip\n",
    "import CafChem.CafChemReDock as ccr\n",
    "\n",
    "cpuCount = os.cpu_count()\n",
    "print(cpuCount)"
   ]
  },
  {
   "cell_type": "markdown",
   "metadata": {
    "id": "TgKnUxauwpRz"
   },
   "source": [
    "## Set-up Fairchem\n",
    "- Must have HF_TOKEN saved as a secret"
   ]
  },
  {
   "cell_type": "code",
   "execution_count": 5,
   "metadata": {
    "colab": {
     "base_uri": "https://localhost:8080/",
     "height": 0,
     "referenced_widgets": [
      "195471218f4f4c66804eb11bd8d067d5",
      "82657c9037864c70b6e9edc645f90fe5",
      "1a1e21eabe60405288a3b11cb9949488",
      "e51afe8344ef4bc1906052857952192d",
      "182669d6947449d09a5ab1579e957372",
      "cea5019b5ffe4141b564b247d80bb0db",
      "a981b5fb12b14f0f949dd57248c054e6",
      "b59e2d380f4e469e90f4f50c5b6d3054",
      "e4a757a1bafa40f8876efff47b33ef05",
      "b4b243fdd1d34fe2bc9494c90b3189c0",
      "6663d76f6aef485193cdfc5924b125d8"
     ]
    },
    "id": "sgzL6rV-5VGH",
    "outputId": "ce37092a-5be6-49d8-a869-21538d0e45eb"
   },
   "outputs": [
    {
     "data": {
      "application/vnd.jupyter.widget-view+json": {
       "model_id": "195471218f4f4c66804eb11bd8d067d5",
       "version_major": 2,
       "version_minor": 0
      },
      "text/plain": [
       "checkpoints/uma-s-1.pt:   0%|          | 0.00/1.17G [00:00<?, ?B/s]"
      ]
     },
     "metadata": {},
     "output_type": "display_data"
    }
   ],
   "source": [
    "predictor = pretrained_mlip.get_predict_unit(\"uma-s-1\", device=\"cpu\")\n",
    "calculator = FAIRChemCalculator(predictor, task_name=\"omol\")\n",
    "model = \"UMA-OMOL\""
   ]
  },
  {
   "cell_type": "markdown",
   "metadata": {
    "id": "S2Ka4_RitpSL"
   },
   "source": [
    "# Calculations"
   ]
  },
  {
   "cell_type": "markdown",
   "metadata": {
    "id": "eBwY3jy1D0D9"
   },
   "source": [
    "## Dock molecules\n",
    "- tools available include ccr.dock_dataframe, ccr.dock_list and ccr.dock_smiles\n",
    "- for each you must supply as arguements the SMILES input (either a filename, a list, or a SMILES string), the target protein, and the number of CPU cores to use. For ccr.dock_dataframe, you must also provide the key for the SMILES column in the CSV file.\n",
    "- xyz structures can be visualized via the ccr.visualize_molecule tool. This accepts an XYZ string as an arguement. This may be easily extracted from an XYZ file as seen below."
   ]
  },
  {
   "cell_type": "code",
   "execution_count": 6,
   "metadata": {
    "colab": {
     "base_uri": "https://localhost:8080/"
    },
    "id": "sP4K9p3rj3dD",
    "outputId": "16bbf5aa-8152-44c0-e4cf-a47389746db8"
   },
   "outputs": [
    {
     "name": "stdout",
     "output_type": "stream",
     "text": [
      "===============================================\n",
      "Docking 1 molecules in HMGCR.\n",
      "Docking molecule 1.\n",
      "SDF file written for score -4.5\n"
     ]
    }
   ],
   "source": [
    "ccr.dock_dataframe(\"file.csv\",\"HMGCR\",cpuCount, \"smiles\",)"
   ]
  },
  {
   "cell_type": "code",
   "execution_count": 7,
   "metadata": {
    "colab": {
     "base_uri": "https://localhost:8080/"
    },
    "id": "GUbcx-UAoLsK",
    "outputId": "64c6ba27-338c-4565-9e16-1835879d74a8"
   },
   "outputs": [
    {
     "name": "stdout",
     "output_type": "stream",
     "text": [
      "===============================================\n",
      "Docking 1 molecules in HMGCR.\n",
      "Docking molecule 1.\n",
      "SDF file written for score -4.5\n"
     ]
    }
   ],
   "source": [
    "df = pd.read_csv(\"file.csv\")\n",
    "smiles_list = df[\"smiles\"].tolist()\n",
    "ccr.dock_list(smiles_list,\"HMGCR\",cpuCount)"
   ]
  },
  {
   "cell_type": "code",
   "execution_count": 18,
   "metadata": {
    "colab": {
     "base_uri": "https://localhost:8080/"
    },
    "id": "DJK3mXwijJWx",
    "outputId": "abf249ec-b2e6-4132-af43-51a7cecd74ab"
   },
   "outputs": [
    {
     "name": "stdout",
     "output_type": "stream",
     "text": [
      "===============================================\n",
      "Docking molecule.\n",
      "SDF file written for score -8.1\n"
     ]
    }
   ],
   "source": [
    "statin = \"OC(=O)C[C@H](O)C[C@H](O)\\C=C\\c1c(C(C)C)nc(N(C)S(=O)(=O)C)nc1c2ccc(F)cc2\"\n",
    "ccr.dock_smiles(statin,\"HMGCR\",cpuCount)"
   ]
  },
  {
   "cell_type": "markdown",
   "metadata": {
    "id": "UjG9tFVIfwVk"
   },
   "source": [
    "## Calculate interaction energies between a docking pose and the protein using Meta's UMA MLIP\n",
    "- If CafChem has an XYZ QM active site pepared for the protein, then the interaction between a ligand (SDF file) and the protein active site (from the library) may be calculated using Meta's UMA MLIP.\n",
    "- supply as arguements the name of the SDF file (without .sdf), the protein information (in the form ccr.[your protein]_data), the ASE calculator, ans the charge and spin multiplicty of the ligand.\n",
    "- returns a list of XYZ strings for the ligands in the input SDF files.\n",
    "- the XYZ strings may be visualized with the ccr.visualize_molecule tool, which accepts as its arguement the XYZ string."
   ]
  },
  {
   "cell_type": "code",
   "execution_count": 19,
   "metadata": {
    "colab": {
     "base_uri": "https://localhost:8080/"
    },
    "id": "_IkD6smNotLT",
    "outputId": "bbf7bb6a-f30c-4d16-ec28-31e12572e901"
   },
   "outputs": [
    {
     "name": "stdout",
     "output_type": "stream",
     "text": [
      "Energy of ligand is: -1968.269 kcal/mol\n",
      "Energy of active site is: -7759.170 kcal/mol\n",
      "The size of the complex is: 391\n",
      "Energy of complex is: -9727.851 kcal/mol\n",
      "===========================================================\n",
      "Energy difference is: -0.412 kcal/mol\n"
     ]
    }
   ],
   "source": [
    "total_xyz = ccr.uma_interaction(\"trial_1\", ccr.HMGCR_data, calculator, -1, 1)"
   ]
  },
  {
   "cell_type": "code",
   "execution_count": 20,
   "metadata": {
    "colab": {
     "base_uri": "https://localhost:8080/",
     "height": 417
    },
    "id": "NBBO9vnmry1d",
    "outputId": "ead0a75f-6528-479f-e588-8a08f6eb6aef"
   },
   "outputs": [
    {
     "data": {
      "application/3dmoljs_load.v0": "<div id=\"3dmolviewer_17503472264296021\"  style=\"position: relative; width: 800px; height: 400px;\">\n        <p id=\"3dmolwarning_17503472264296021\" style=\"background-color:#ffcccc;color:black\">3Dmol.js failed to load for some reason.  Please check your browser console for error messages.<br></p>\n        </div>\n<script>\n\nvar loadScriptAsync = function(uri){\n  return new Promise((resolve, reject) => {\n    //this is to ignore the existence of requirejs amd\n    var savedexports, savedmodule;\n    if (typeof exports !== 'undefined') savedexports = exports;\n    else exports = {}\n    if (typeof module !== 'undefined') savedmodule = module;\n    else module = {}\n\n    var tag = document.createElement('script');\n    tag.src = uri;\n    tag.async = true;\n    tag.onload = () => {\n        exports = savedexports;\n        module = savedmodule;\n        resolve();\n    };\n  var firstScriptTag = document.getElementsByTagName('script')[0];\n  firstScriptTag.parentNode.insertBefore(tag, firstScriptTag);\n});\n};\n\nif(typeof $3Dmolpromise === 'undefined') {\n$3Dmolpromise = null;\n  $3Dmolpromise = loadScriptAsync('https://cdn.jsdelivr.net/npm/3dmol@2.5.0/build/3Dmol-min.js');\n}\n\nvar viewer_17503472264296021 = null;\nvar warn = document.getElementById(\"3dmolwarning_17503472264296021\");\nif(warn) {\n    warn.parentNode.removeChild(warn);\n}\n$3Dmolpromise.then(function() {\nviewer_17503472264296021 = $3Dmol.createViewer(document.getElementById(\"3dmolviewer_17503472264296021\"),{backgroundColor:\"white\"});\nviewer_17503472264296021.zoomTo();\n\tviewer_17503472264296021.addModel(\"60\\n\\nC -14.107420488042223 7.60574391366406 45.35150030904837\\nC -14.908244538409848 6.455280521629463 45.55867839316417\\nN -15.838283658202926 6.462296931505277 46.55014239027989\\nC -16.04591873995992 7.563676610989764 47.307033495094075\\nN -15.292918417674557 8.664555820860517 47.13085254555357\\nC -14.336854821336734 8.716179021009994 46.18775328397603\\nN -16.995489141784894 7.550350788784882 48.354962979411134\\nC -17.63342102019925 8.819734953474976 48.69297146356827\\nC -13.595464275726894 9.965942552011054 46.08712779830234\\nC -14.041813086128938 10.974520364464075 45.22406461623831\\nC -13.370083800369864 12.197239038490023 45.17798494864673\\nC -12.265681492235403 12.417781824061871 46.005943465898156\\nC -11.840593055626009 11.424607865184734 46.892615445254265\\nC -12.511398165114713 10.201677265781248 46.94192979578615\\nF -11.60640568405633 13.597325307642775 45.95025575207023\\nS -16.63141056462787 6.470687696039392 49.64100768112127\\nO -17.32398706467478 5.156808680066196 49.42505667200682\\nO -15.141679120938146 6.288395452534089 49.70477339768796\\nC -17.165468538700562 7.198089535068927 51.16704629354703\\nC -14.754211639075747 5.187631195425525 44.74655772288795\\nC -14.14139873975124 4.08413344551046 45.61067667519379\\nC -16.107974084957807 4.748185521054522 44.17575426483087\\nC -13.376859852815922 7.737577260962544 43.01570263528672\\nC -13.0554551303283 7.64706818984953 44.31146634487198\\nC -12.33502148537869 7.679784861601957 41.9170113227052\\nO -11.705948501922206 6.417990051357074 41.92053078541192\\nC -12.945034490068375 7.965068775740612 40.51317939564967\\nC -12.48296193126287 9.287945563184028 39.85255024682633\\nO -12.796265361186572 9.263393001552906 38.47560227185498\\nC -13.051174589900828 10.558642812493297 40.53469359724585\\nC -13.877171201899793 11.372057556276173 39.58992394098083\\nO -13.320346460851354 12.126724831127792 38.74768416541801\\nO -15.246640856790455 11.186902790600339 39.56596590418139\\nH -16.944693281503483 9.452626292765258 49.291900409939636\\nH -17.90953405180672 9.36889489107628 47.766803361954196\\nH -18.572780972509225 8.639920318684531 49.2543755164352\\nH -14.900503545707227 10.810512500292884 44.5841489874836\\nH -13.703891952457194 12.971962022230324 44.49974819434766\\nH -10.992665118405181 11.602550915405157 47.54143344961903\\nH -12.183324532690897 9.438587674324738 47.63742151128403\\nH -16.88081560094742 6.529500982755319 52.005420398228004\\nH -18.26831198884329 7.31542337315898 51.17033589597869\\nH -16.674571401593667 8.181167412919496 51.31763523239591\\nH -14.076776056240101 5.335733538907291 43.88263527843642\\nH -14.800439565480938 3.8439591809720426 46.472960453020725\\nH -13.150993578762344 4.409251969698284 45.995712783389024\\nH -13.993666031821013 3.163132186339764 45.00713842171986\\nH -15.976042637634164 3.8554822748016937 43.52768374426766\\nH -16.821323361648293 4.492363948541791 44.988677177313036\\nH -16.54215610629282 5.563460403143013 43.55797564388696\\nH -14.425650260584709 7.811170237836999 42.7505556717646\\nH -12.016495836965316 7.615342546010099 44.61527761193875\\nH -11.560233008260207 8.444122948481008 42.14395226936159\\nH -12.410402742892996 5.731980795368701 41.77595858282152\\nH -12.648170474650083 7.141082118953762 39.82634579501028\\nH -14.056546753673844 7.938661207156337 40.53464193569807\\nH -11.373765078556218 9.327353555189756 39.92546624474493\\nH -13.752669687225756 9.011269661124865 38.379748979616615\\nH -12.213021958540372 11.186944420592 40.90769723889348\\nH -13.670746578234326 10.294546300116153 41.419130876685756\\n\",\"xyz\");\n\tviewer_17503472264296021.setStyle({\"stick\": {}, \"sphere\": {\"radius\": 0.5}});\n\tviewer_17503472264296021.zoomTo();\nviewer_17503472264296021.render();\n});\n</script>",
      "text/html": [
       "<div id=\"3dmolviewer_17503472264296021\"  style=\"position: relative; width: 800px; height: 400px;\">\n",
       "        <p id=\"3dmolwarning_17503472264296021\" style=\"background-color:#ffcccc;color:black\">3Dmol.js failed to load for some reason.  Please check your browser console for error messages.<br></p>\n",
       "        </div>\n",
       "<script>\n",
       "\n",
       "var loadScriptAsync = function(uri){\n",
       "  return new Promise((resolve, reject) => {\n",
       "    //this is to ignore the existence of requirejs amd\n",
       "    var savedexports, savedmodule;\n",
       "    if (typeof exports !== 'undefined') savedexports = exports;\n",
       "    else exports = {}\n",
       "    if (typeof module !== 'undefined') savedmodule = module;\n",
       "    else module = {}\n",
       "\n",
       "    var tag = document.createElement('script');\n",
       "    tag.src = uri;\n",
       "    tag.async = true;\n",
       "    tag.onload = () => {\n",
       "        exports = savedexports;\n",
       "        module = savedmodule;\n",
       "        resolve();\n",
       "    };\n",
       "  var firstScriptTag = document.getElementsByTagName('script')[0];\n",
       "  firstScriptTag.parentNode.insertBefore(tag, firstScriptTag);\n",
       "});\n",
       "};\n",
       "\n",
       "if(typeof $3Dmolpromise === 'undefined') {\n",
       "$3Dmolpromise = null;\n",
       "  $3Dmolpromise = loadScriptAsync('https://cdn.jsdelivr.net/npm/3dmol@2.5.0/build/3Dmol-min.js');\n",
       "}\n",
       "\n",
       "var viewer_17503472264296021 = null;\n",
       "var warn = document.getElementById(\"3dmolwarning_17503472264296021\");\n",
       "if(warn) {\n",
       "    warn.parentNode.removeChild(warn);\n",
       "}\n",
       "$3Dmolpromise.then(function() {\n",
       "viewer_17503472264296021 = $3Dmol.createViewer(document.getElementById(\"3dmolviewer_17503472264296021\"),{backgroundColor:\"white\"});\n",
       "viewer_17503472264296021.zoomTo();\n",
       "\tviewer_17503472264296021.addModel(\"60\\n\\nC -14.107420488042223 7.60574391366406 45.35150030904837\\nC -14.908244538409848 6.455280521629463 45.55867839316417\\nN -15.838283658202926 6.462296931505277 46.55014239027989\\nC -16.04591873995992 7.563676610989764 47.307033495094075\\nN -15.292918417674557 8.664555820860517 47.13085254555357\\nC -14.336854821336734 8.716179021009994 46.18775328397603\\nN -16.995489141784894 7.550350788784882 48.354962979411134\\nC -17.63342102019925 8.819734953474976 48.69297146356827\\nC -13.595464275726894 9.965942552011054 46.08712779830234\\nC -14.041813086128938 10.974520364464075 45.22406461623831\\nC -13.370083800369864 12.197239038490023 45.17798494864673\\nC -12.265681492235403 12.417781824061871 46.005943465898156\\nC -11.840593055626009 11.424607865184734 46.892615445254265\\nC -12.511398165114713 10.201677265781248 46.94192979578615\\nF -11.60640568405633 13.597325307642775 45.95025575207023\\nS -16.63141056462787 6.470687696039392 49.64100768112127\\nO -17.32398706467478 5.156808680066196 49.42505667200682\\nO -15.141679120938146 6.288395452534089 49.70477339768796\\nC -17.165468538700562 7.198089535068927 51.16704629354703\\nC -14.754211639075747 5.187631195425525 44.74655772288795\\nC -14.14139873975124 4.08413344551046 45.61067667519379\\nC -16.107974084957807 4.748185521054522 44.17575426483087\\nC -13.376859852815922 7.737577260962544 43.01570263528672\\nC -13.0554551303283 7.64706818984953 44.31146634487198\\nC -12.33502148537869 7.679784861601957 41.9170113227052\\nO -11.705948501922206 6.417990051357074 41.92053078541192\\nC -12.945034490068375 7.965068775740612 40.51317939564967\\nC -12.48296193126287 9.287945563184028 39.85255024682633\\nO -12.796265361186572 9.263393001552906 38.47560227185498\\nC -13.051174589900828 10.558642812493297 40.53469359724585\\nC -13.877171201899793 11.372057556276173 39.58992394098083\\nO -13.320346460851354 12.126724831127792 38.74768416541801\\nO -15.246640856790455 11.186902790600339 39.56596590418139\\nH -16.944693281503483 9.452626292765258 49.291900409939636\\nH -17.90953405180672 9.36889489107628 47.766803361954196\\nH -18.572780972509225 8.639920318684531 49.2543755164352\\nH -14.900503545707227 10.810512500292884 44.5841489874836\\nH -13.703891952457194 12.971962022230324 44.49974819434766\\nH -10.992665118405181 11.602550915405157 47.54143344961903\\nH -12.183324532690897 9.438587674324738 47.63742151128403\\nH -16.88081560094742 6.529500982755319 52.005420398228004\\nH -18.26831198884329 7.31542337315898 51.17033589597869\\nH -16.674571401593667 8.181167412919496 51.31763523239591\\nH -14.076776056240101 5.335733538907291 43.88263527843642\\nH -14.800439565480938 3.8439591809720426 46.472960453020725\\nH -13.150993578762344 4.409251969698284 45.995712783389024\\nH -13.993666031821013 3.163132186339764 45.00713842171986\\nH -15.976042637634164 3.8554822748016937 43.52768374426766\\nH -16.821323361648293 4.492363948541791 44.988677177313036\\nH -16.54215610629282 5.563460403143013 43.55797564388696\\nH -14.425650260584709 7.811170237836999 42.7505556717646\\nH -12.016495836965316 7.615342546010099 44.61527761193875\\nH -11.560233008260207 8.444122948481008 42.14395226936159\\nH -12.410402742892996 5.731980795368701 41.77595858282152\\nH -12.648170474650083 7.141082118953762 39.82634579501028\\nH -14.056546753673844 7.938661207156337 40.53464193569807\\nH -11.373765078556218 9.327353555189756 39.92546624474493\\nH -13.752669687225756 9.011269661124865 38.379748979616615\\nH -12.213021958540372 11.186944420592 40.90769723889348\\nH -13.670746578234326 10.294546300116153 41.419130876685756\\n\",\"xyz\");\n",
       "\tviewer_17503472264296021.setStyle({\"stick\": {}, \"sphere\": {\"radius\": 0.5}});\n",
       "\tviewer_17503472264296021.zoomTo();\n",
       "viewer_17503472264296021.render();\n",
       "});\n",
       "</script>"
      ]
     },
     "metadata": {},
     "output_type": "display_data"
    }
   ],
   "source": [
    "ccr.visualize_molecule(total_xyz[0])"
   ]
  },
  {
   "cell_type": "code",
   "execution_count": 21,
   "metadata": {
    "colab": {
     "base_uri": "https://localhost:8080/",
     "height": 417
    },
    "id": "mgPDPjwvCVfX",
    "outputId": "117c2742-668d-4372-9443-4d98a61705cd"
   },
   "outputs": [
    {
     "data": {
      "application/3dmoljs_load.v0": "<div id=\"3dmolviewer_17503472294507508\"  style=\"position: relative; width: 800px; height: 400px;\">\n        <p id=\"3dmolwarning_17503472294507508\" style=\"background-color:#ffcccc;color:black\">3Dmol.js failed to load for some reason.  Please check your browser console for error messages.<br></p>\n        </div>\n<script>\n\nvar loadScriptAsync = function(uri){\n  return new Promise((resolve, reject) => {\n    //this is to ignore the existence of requirejs amd\n    var savedexports, savedmodule;\n    if (typeof exports !== 'undefined') savedexports = exports;\n    else exports = {}\n    if (typeof module !== 'undefined') savedmodule = module;\n    else module = {}\n\n    var tag = document.createElement('script');\n    tag.src = uri;\n    tag.async = true;\n    tag.onload = () => {\n        exports = savedexports;\n        module = savedmodule;\n        resolve();\n    };\n  var firstScriptTag = document.getElementsByTagName('script')[0];\n  firstScriptTag.parentNode.insertBefore(tag, firstScriptTag);\n});\n};\n\nif(typeof $3Dmolpromise === 'undefined') {\n$3Dmolpromise = null;\n  $3Dmolpromise = loadScriptAsync('https://cdn.jsdelivr.net/npm/3dmol@2.5.0/build/3Dmol-min.js');\n}\n\nvar viewer_17503472294507508 = null;\nvar warn = document.getElementById(\"3dmolwarning_17503472294507508\");\nif(warn) {\n    warn.parentNode.removeChild(warn);\n}\n$3Dmolpromise.then(function() {\nviewer_17503472294507508 = $3Dmol.createViewer(document.getElementById(\"3dmolviewer_17503472294507508\"),{backgroundColor:\"white\"});\nviewer_17503472294507508.zoomTo();\n\tviewer_17503472294507508.addModel(\"331\\n\\nN    -9.19000000    -1.07300000    45.26800000\\nC    -9.58200000    0.27200000    45.66800000\\nC    -10.63100000    0.21700000    46.78500000\\nO    -11.75000000    -0.26400000    46.57900000\\nC    -10.14600000    1.06200000    44.47200000\\nC    -10.91300000    2.29900000    44.94500000\\nC    -10.81500000    3.43000000    43.91900000\\nO    -10.83700000    3.17100000    42.70700000\\nO    -10.71300000    4.61400000    44.42100000\\nH    -9.62500000    -1.48800000    44.46900000\\nN    -10.26800000    0.74400000    47.95000000\\nC    -11.17200000    0.80400000    49.08100000\\nC    -12.48900000    1.45500000    48.71400000\\nO    -12.51000000    2.48700000    48.05300000\\nH    -9.34300000    1.11000000    48.04900000\\nN    -13.57800000    0.81000000    49.11400000\\nC    -14.94500000    1.33900000    49.02000000\\nC    -15.65100000    1.19100000    47.67300000\\nO    -16.84200000    1.48400000    47.58300000\\nC    -15.00800000    2.80500000    49.48800000\\nS    -14.52800000    3.07300000    51.22000000\\nH    -13.45900000    -0.10200000    49.50800000\\nH    -14.59400000    4.05200000    51.45100000\\nN    -14.95300000    0.71500000    46.64000000\\nC    -15.54800000    0.61400000    45.30700000\\nC    -16.77400000    -0.29900000    45.24700000\\nO    -17.82742291    0.09824751    44.68480327\\nC    -14.51000000    0.14700000    44.26900000\\nC    -15.00300000    0.05200000    42.82400000\\nC    -15.47600000    1.41600000    42.31500000\\nC    -13.93100000    -0.55700000    41.91800000\\nH    -14.00700000    0.42200000    46.77900000\\nN    -19.70600000    1.08200000    47.37300000\\nC    -20.28900000    2.22900000    46.68200000\\nC    -21.18600000    1.76600000    45.53600000\\nO    -22.32519914    2.27803414    45.38232201\\nC    -19.19300000    3.16900000    46.14700000\\nO    -19.74200000    4.31800000    45.50600000\\nH    -18.71300000    0.96000000    47.36500000\\nH    -19.03200000    4.86700000    45.19400000\\nN    -19.83000000    18.63200000    35.75200000\\nC    -18.67300000    17.74200000    35.85900000\\nC    -18.58400000    16.87600000    34.60400000\\nO    -17.59826431    16.98924161    33.83000255\\nC    -18.78600000    16.84500000    37.10600000\\nC    -17.74700000    15.72200000    37.06900000\\nC    -18.09400000    14.62200000    38.07400000\\nC    -17.07700000    13.48000000    38.00900000\\nN    -15.72800000    13.97200000    38.33300000\\nH    -20.73600000    18.25900000    35.95100000\\nH    -15.72000000    14.37000000    39.25900000\\nH    -15.45300000    14.68100000    37.67200000\\nH    -15.07700000    13.20400000    38.27900000\\nN    -18.12700000    9.76500000    35.30800000\\nC    -17.43200000    9.93400000    36.58000000\\nC    -16.34300000    8.88500000    36.77800000\\nO    -15.17500000    9.22600000    36.94100000\\nC    -18.44100000    9.89400000    37.74200000\\nH    -18.93300000    9.17400000    35.27600000\\nN    -16.70500000    7.60700000    36.76500000\\nC    -15.69300000    6.56400000    36.94900000\\nC    -16.08400000    5.21100000    36.33500000\\nO    -15.85771558    4.14530924    36.96481675\\nC    -15.32400000    6.43700000    38.43900000\\nC    -16.38500000    5.76700000    39.27900000\\nC    -17.72100000    6.01800000    39.39400000\\nN    -16.11200000    4.70700000    40.12600000\\nC    -17.24000000    4.34300000    40.71800000\\nN    -18.23600000    5.15700000    40.26300000\\nH    -17.66400000    7.35800000    36.63000000\\nH    -15.18900000    4.27400000    40.27100000\\nN    -13.49300000    2.39400000    36.66800000\\nC    -13.45200000    1.58900000    37.89900000\\nC    -14.26900000    0.30700000    37.81700000\\nO    -13.77871652    -0.77859902    38.22279237\\nC    -13.96400000    2.39700000    39.10600000\\nC    -12.83100000    3.19800000    39.75000000\\nN    -13.24600000    4.18900000    40.53400000\\nO    -11.65700000    2.93400000    39.54900000\\nH    -13.73200000    3.36300000    36.72500000\\nH    -14.22500000    4.35200000    40.65700000\\nH    -12.58000000    4.77000000    41.00100000\\nN    -21.22500000    7.42400000    43.27400000\\nC    -20.10300000    8.37000000    43.36400000\\nC    -20.53700000    9.80900000    43.10100000\\nO    -19.96881645    10.75739671    43.70206713\\nC    -18.96700000    7.99300000    42.39500000\\nC    -17.82300000    9.00300000    42.27700000\\nC    -17.08500000    9.15300000    43.60800000\\nC    -16.87600000    8.62700000    41.13500000\\nH    -21.25000000    6.76200000    42.52500000\\nN    -22.07300000    11.09500000    46.27600000\\nC    -21.00300000    11.44400000    47.20800000\\nC    -20.38300000    12.80300000    46.90300000\\nO    -20.19300000    13.61100000    47.80800000\\nC    -19.91600000    10.35300000    47.21700000\\nH    -21.99000000    10.25800000    45.73600000\\nN    -20.08200000    13.06200000    45.63300000\\nC    -19.50100000    14.34800000    45.21900000\\nC    -20.47400000    15.52200000    45.39500000\\nO    -20.03796423    16.65781953    45.71649240\\nC    -19.03600000    14.29000000    43.75200000\\nC    -17.87300000    13.34200000    43.45400000\\nC    -17.71100000    13.12900000    41.94700000\\nH    -20.25600000    12.36200000    44.94000000\\nN    -5.83400000    17.08300000    41.01600000\\nC    -7.24700000    17.04300000    41.35200000\\nC    -7.87400000    18.32800000    40.80300000\\nO    -7.30234442    19.43431225    40.98425577\\nC    -7.42300000    16.94900000    42.87900000\\nC    -8.90400000    16.98300000    43.26300000\\nC    -9.43800000    15.57100000    43.51400000\\nN    -9.68000000    14.88500000    42.22500000\\nC    -9.97900000    13.57400000    42.11100000\\nN    -10.06700000    12.82800000    43.22000000\\nN    -10.18400000    13.02600000    40.90500000\\nH    -9.90800000    13.25700000    44.14300000\\nH    -10.29400000    11.82600000    43.15100000\\nH    -10.11400000    13.60600000    40.05700000\\nH    -10.41100000    12.02400000    40.82700000\\nH    -9.61600000    15.44300000    41.36200000\\nN    -6.43300000    15.14600000    47.36600000\\nC    -7.84500000    15.44400000    47.58400000\\nC    -8.04900000    16.10300000    48.94200000\\nO    -8.86043583    17.05723068    49.06277361\\nC    -8.69400000    14.16100000    47.51000000\\nO    -8.60100000    13.53300000    46.23400000\\nH    -6.13300000    14.19300000    47.39700000\\nH    -9.13800000    12.74900000    46.23500000\\nN    -15.58800000    18.10700000    44.39500000\\nC    -14.14800000    18.09700000    44.66900000\\nC    -13.38800000    17.56000000    43.45500000\\nO    -12.20700000    17.85700000    43.28100000\\nC    -13.79900000    17.33300000    45.96000000\\nC    -14.09200000    15.83900000    45.80900000\\nC    -12.34100000    17.56800000    46.35900000\\nH    -16.18500000    17.49700000    44.91600000\\nN    -14.08600000    16.78600000    42.61900000\\nC    -13.65300000    16.49700000    41.24400000\\nC    -14.72900000    16.93200000    40.24600000\\nO    -15.84779766    16.35600940    40.23614192\\nC    -13.37900000    14.99400000    41.05200000\\nO    -13.07500000    14.67500000    39.69700000\\nH    -14.94300000    16.38500000    42.94400000\\nH    -12.91400000    13.74200000    39.62700000\\nN    -14.01300000    16.63300000    37.04700000\\nC    -13.43500000    15.98800000    35.86000000\\nC    -12.30300000    16.75700000    35.17800000\\nO    -11.93907114    16.44132714    34.01546957\\nC    -14.53700000    15.64500000    34.84000000\\nC    -15.18800000    14.30000000    35.16700000\\nN    -16.05800000    13.88300000    34.25200000\\nO    -14.91700000    13.68100000    36.18300000\\nH    -13.92100000    16.17400000    37.93000000\\nH    -16.23400000    14.44000000    33.44000000\\nH    -16.53600000    13.01400000    34.37600000\\nN    -9.11800000    12.16100000    36.13800000\\nC    -8.86900000    10.83200000    36.66300000\\nC    -9.73300000    9.77800000    35.97300000\\nO    -10.95600000    9.87600000    35.97000000\\nC    -9.13500000    10.82300000    38.18000000\\nC    -8.64500000    9.57400000    38.91500000\\nO    -7.54800000    9.06300000    38.64400000\\nO    -9.45300000    9.11600000    39.81100000\\nH    -9.97400000    12.62100000    36.37500000\\nN    -9.07400000    8.78900000    35.37300000\\nC    -9.72200000    7.60000000    34.80800000\\nC    -10.72900000    7.84800000    33.66600000\\nO    -11.65500000    7.05800000    33.46400000\\nC    -10.36500000    6.77600000    35.93900000\\nC    -9.30800000    6.29000000    36.93200000\\nC    -9.95900000    5.78100000    38.22000000\\nC    -8.90500000    5.24900000    39.19400000\\nN    -9.53500000    4.82800000    40.45600000\\nH    -8.07900000    8.86100000    35.30300000\\nH    -10.21500000    4.10600000    40.27700000\\nH    -10.00000000    5.61300000    40.88600000\\nH    -8.82100000    4.48700000    41.08100000\\nN    -10.53700000    8.94600000    32.93800000\\nC    -11.21700000    9.19900000    31.66500000\\nC    -10.19900000    9.79100000    30.69600000\\nO    -9.25975892    10.50723354    31.13005790\\nC    -12.35200000    10.22800000    31.81700000\\nC    -13.58700000    9.59200000    32.45900000\\nC    -13.50800000    9.66200000    33.98600000\\nC    -13.54700000    11.11300000    34.47100000\\nN    -13.86300000    11.16800000    35.90800000\\nH    -9.89500000    9.63400000    33.27800000\\nH    -13.16600000    10.66200000    36.43200000\\nH    -14.76400000    10.75000000    36.07800000\\nH    -13.88600000    12.13100000    36.20200000\\nH    -10.86242281    0.42401020    43.99807240\\nH    -9.30207871    1.42103559    43.92082824\\nH    -10.41529148    2.64550929    45.82654271\\nH    -11.94446760    2.01778699    44.98851817\\nH    -8.70735431    0.77150605    46.02909365\\nH    -9.46081009    -1.65473648    46.03497103\\nH    -10.70982364    1.44694105    49.80066646\\nH    -11.39954319    -0.20963433    49.33726067\\nH    -16.03965802    3.08255952    49.42848162\\nH    -14.27919415    3.32599006    48.90292617\\nH    -15.49531484    0.70238791    49.68089229\\nH    -14.25932999    -0.85468571    44.54951791\\nH    -13.75519115    0.90536128    44.26180516\\nH    -15.84750343    -0.60462592    42.80041289\\nH    -15.56996072    1.81108225    41.32505990\\nH    -14.44220758    1.47174383    42.04469303\\nH    -16.27313215    0.80191977    41.95115140\\nH    -14.11845718    -0.27360387    40.90338360\\nH    -13.95750425    -1.62343399    42.00116294\\nH    -12.96733938    -0.19986401    42.21584575\\nH    -15.88025565    1.60342473    45.07132036\\nH    -18.67404220    2.62205808    45.38776529\\nH    -18.66295880    3.52898612    47.00395176\\nH    -20.88187910    2.77032525    47.38936225\\nH    -20.06269437    0.28500105    46.88559689\\nH    -19.74473871    16.37277166    37.05384185\\nH    -18.53761391    17.46022727    37.94546397\\nH    -16.82383296    16.15215810    37.39706496\\nH    -17.81505554    15.27788269    36.09790358\\nH    -19.03147572    14.21118265    37.76212122\\nH    -17.99805276    15.05840114    39.04623874\\nH    -17.04682568    13.15617771    36.98962341\\nH    -17.34367618    12.78980583    38.78192679\\nH    -17.78825340    18.33645340    35.95253399\\nH    -19.68128214    19.33076570    36.45172101\\nH    -18.08398572    10.50375124    38.54551990\\nH    -19.38682721    10.26468936    37.40599362\\nH    -18.55349321    8.88575737    38.08213538\\nH    -16.95101491    10.88968249    36.56502233\\nH    -17.46031963    9.31942869    34.71050231\\nH    -15.25015878    7.43886022    38.80740681\\nH    -14.47259269    5.78988324    38.47429140\\nH    -18.26186759    6.77965627    38.87223187\\nH    -19.19614822    5.11225788    40.53888683\\nH    -17.35047007    3.55016617    41.42800767\\nH    -14.82482881    6.87285969    36.40513928\\nH    -14.28272519    1.68238089    39.83581764\\nH    -14.65893211    3.11258234    38.71881622\\nH    -12.42225713    1.32534989    38.02154896\\nH    -12.55226549    2.38530681    36.32896754\\nH    -19.41943648    7.96256964    41.42583788\\nH    -18.52440751    7.11013077    42.80676912\\nH    -18.24177793    9.95841317    42.03885988\\nH    -16.05105697    9.31212252    43.83281511\\nH    -16.68421473    8.21501531    43.28480364\\nH    -16.96820203    10.14515604    43.22474468\\nH    -15.87248476    8.88145275    41.40539039\\nH    -16.93981928    7.57496713    40.95046291\\nH    -17.15361979    9.16170722    40.25074017\\nH    -19.74199358    8.30605921    44.36922930\\nH    -22.02949254    7.99989955    43.12863336\\nH    -19.51530750    10.25688179    48.20447497\\nH    -20.34406119    9.42051660    46.91345705\\nH    -19.13343077    10.62362204    46.53932080\\nH    -21.44692298    11.50917542    48.17938280\\nH    -22.07336337    11.83339389    45.60163042\\nH    -18.66628572    15.26989088    43.53285346\\nH    -19.86846823    13.89779354    43.20604145\\nH    -18.09838524    12.38900134    43.88515547\\nH    -16.79700711    12.60614072    41.75690746\\nH    -17.68844573    14.07790176    41.45305997\\nH    -18.53429565    12.55405276    41.57751395\\nH    -18.66206709    14.51792064    45.86104249\\nH    -6.98296392    17.83357393    43.28984938\\nH    -7.05709187    15.98580495    43.16755940\\nH    -9.42966012    17.35860412    42.41006214\\nH    -8.96282640    17.49988535    44.19802352\\nH    -10.39178045    15.68296919    43.98587472\\nH    -8.65716830    15.03077201    44.00731082\\nH    -7.72445539    16.18615113    40.92451157\\nH    -5.78801125    16.80315898    40.05705577\\nH    -5.38499273    16.53229761    41.71964718\\nH    -9.71279960    14.46963211    47.61813695\\nH    -8.26474974    13.47715323    48.21213803\\nH    -8.15876392    16.11582239    46.81256829\\nH    -5.95881246    15.58736432    48.12780293\\nH    -14.41983869    17.71231177    46.74459028\\nH    -14.30451526    15.41834320    46.76961705\\nH    -14.93653803    15.70437981    45.16593475\\nH    -13.23986457    15.34940570    45.38584207\\nH    -12.28143697    17.72636417    47.41553823\\nH    -11.75609313    16.71239478    46.09306078\\nH    -11.96566818    18.42961238    45.84748253\\nH    -13.83698577    19.10641656    44.84002155\\nH    -15.66843636    17.79354022    43.44881135\\nH    -14.29594840    14.49145759    41.27906114\\nH    -12.49594153    14.77658942    41.61577334\\nH    -12.74958230    17.04307308    41.06924119\\nH    -14.04862281    15.52356990    33.89573179\\nH    -15.29924473    16.38681243    34.95660744\\nH    -12.97768789    15.09539747    36.23286237\\nH    -13.50284892    17.48711770    37.14813769\\nH    -10.19981922    10.81916950    38.28509687\\nH    -8.56110384    11.63399757    38.57727337\\nH    -7.84605786    10.58420321    36.47042243\\nH    -9.16100439    12.03881535    35.14642472\\nH    -10.77535426    5.90059125    35.48055819\\nH    -11.00168603    7.44615089    36.47791435\\nH    -8.72971377    7.14838440    37.20340609\\nH    -8.83192767    5.44565982    36.47885014\\nH    -10.56537584    4.94410386    37.94284808\\nH    -10.40481420    6.63203602    38.69104925\\nH    -8.26618985    6.07363679    39.43231863\\nH    -8.49569763    4.36656190    38.74827074\\nH    -8.93423422    7.05360105    34.33284396\\nH    -12.63811267    10.51210908    30.82587863\\nH    -11.99996016    10.96795637    32.50506433\\nH    -13.56186739    8.55376937    32.20142379\\nH    -14.42283574    10.19465094    32.17074586\\nH    -12.54721183    9.27734928    34.25771660\\nH    -14.39597690    9.19441730    34.35716498\\nH    -14.36195790    11.58309392    33.96133802\\nH    -12.55452032    11.49773022    34.36206542\\nH    -11.62937540    8.27475319    31.31770421\\nH    -7.50235337    15.75456537    49.79327597\\nH    -8.79810697    18.28504777    40.26533709\\nH    -14.52986056    17.72583579    39.55674807\\nH    -19.35980890    16.17304097    34.38293631\\nH    -11.82027727    17.56355353    35.68922419\\nH    -10.28337380    9.59735601    29.64705621\\nH    -21.52303782    15.37462915    45.24432988\\nC    -16.57205000    13.84143591    44.10950963\\nH    -15.73169214    13.39821217    43.61731925\\nH    -16.51512765    14.90641675    44.02304769\\nH    -16.56542381    13.56668932    45.14361331\\nH    -20.84582487    1.00623027    44.86374199\\nH    -16.73580784    -1.27536664    45.68306139\\nH    -21.32445859    10.01168203    42.40549374\\nH    -15.26009519    0.32903875    37.41432815\\nH    -16.54871413    5.17486009    35.37186206\\n\",\"xyz\");\n\tviewer_17503472294507508.setStyle({\"stick\": {}, \"sphere\": {\"radius\": 0.5}});\n\tviewer_17503472294507508.zoomTo();\nviewer_17503472294507508.render();\n});\n</script>",
      "text/html": [
       "<div id=\"3dmolviewer_17503472294507508\"  style=\"position: relative; width: 800px; height: 400px;\">\n",
       "        <p id=\"3dmolwarning_17503472294507508\" style=\"background-color:#ffcccc;color:black\">3Dmol.js failed to load for some reason.  Please check your browser console for error messages.<br></p>\n",
       "        </div>\n",
       "<script>\n",
       "\n",
       "var loadScriptAsync = function(uri){\n",
       "  return new Promise((resolve, reject) => {\n",
       "    //this is to ignore the existence of requirejs amd\n",
       "    var savedexports, savedmodule;\n",
       "    if (typeof exports !== 'undefined') savedexports = exports;\n",
       "    else exports = {}\n",
       "    if (typeof module !== 'undefined') savedmodule = module;\n",
       "    else module = {}\n",
       "\n",
       "    var tag = document.createElement('script');\n",
       "    tag.src = uri;\n",
       "    tag.async = true;\n",
       "    tag.onload = () => {\n",
       "        exports = savedexports;\n",
       "        module = savedmodule;\n",
       "        resolve();\n",
       "    };\n",
       "  var firstScriptTag = document.getElementsByTagName('script')[0];\n",
       "  firstScriptTag.parentNode.insertBefore(tag, firstScriptTag);\n",
       "});\n",
       "};\n",
       "\n",
       "if(typeof $3Dmolpromise === 'undefined') {\n",
       "$3Dmolpromise = null;\n",
       "  $3Dmolpromise = loadScriptAsync('https://cdn.jsdelivr.net/npm/3dmol@2.5.0/build/3Dmol-min.js');\n",
       "}\n",
       "\n",
       "var viewer_17503472294507508 = null;\n",
       "var warn = document.getElementById(\"3dmolwarning_17503472294507508\");\n",
       "if(warn) {\n",
       "    warn.parentNode.removeChild(warn);\n",
       "}\n",
       "$3Dmolpromise.then(function() {\n",
       "viewer_17503472294507508 = $3Dmol.createViewer(document.getElementById(\"3dmolviewer_17503472294507508\"),{backgroundColor:\"white\"});\n",
       "viewer_17503472294507508.zoomTo();\n",
       "\tviewer_17503472294507508.addModel(\"331\\n\\nN    -9.19000000    -1.07300000    45.26800000\\nC    -9.58200000    0.27200000    45.66800000\\nC    -10.63100000    0.21700000    46.78500000\\nO    -11.75000000    -0.26400000    46.57900000\\nC    -10.14600000    1.06200000    44.47200000\\nC    -10.91300000    2.29900000    44.94500000\\nC    -10.81500000    3.43000000    43.91900000\\nO    -10.83700000    3.17100000    42.70700000\\nO    -10.71300000    4.61400000    44.42100000\\nH    -9.62500000    -1.48800000    44.46900000\\nN    -10.26800000    0.74400000    47.95000000\\nC    -11.17200000    0.80400000    49.08100000\\nC    -12.48900000    1.45500000    48.71400000\\nO    -12.51000000    2.48700000    48.05300000\\nH    -9.34300000    1.11000000    48.04900000\\nN    -13.57800000    0.81000000    49.11400000\\nC    -14.94500000    1.33900000    49.02000000\\nC    -15.65100000    1.19100000    47.67300000\\nO    -16.84200000    1.48400000    47.58300000\\nC    -15.00800000    2.80500000    49.48800000\\nS    -14.52800000    3.07300000    51.22000000\\nH    -13.45900000    -0.10200000    49.50800000\\nH    -14.59400000    4.05200000    51.45100000\\nN    -14.95300000    0.71500000    46.64000000\\nC    -15.54800000    0.61400000    45.30700000\\nC    -16.77400000    -0.29900000    45.24700000\\nO    -17.82742291    0.09824751    44.68480327\\nC    -14.51000000    0.14700000    44.26900000\\nC    -15.00300000    0.05200000    42.82400000\\nC    -15.47600000    1.41600000    42.31500000\\nC    -13.93100000    -0.55700000    41.91800000\\nH    -14.00700000    0.42200000    46.77900000\\nN    -19.70600000    1.08200000    47.37300000\\nC    -20.28900000    2.22900000    46.68200000\\nC    -21.18600000    1.76600000    45.53600000\\nO    -22.32519914    2.27803414    45.38232201\\nC    -19.19300000    3.16900000    46.14700000\\nO    -19.74200000    4.31800000    45.50600000\\nH    -18.71300000    0.96000000    47.36500000\\nH    -19.03200000    4.86700000    45.19400000\\nN    -19.83000000    18.63200000    35.75200000\\nC    -18.67300000    17.74200000    35.85900000\\nC    -18.58400000    16.87600000    34.60400000\\nO    -17.59826431    16.98924161    33.83000255\\nC    -18.78600000    16.84500000    37.10600000\\nC    -17.74700000    15.72200000    37.06900000\\nC    -18.09400000    14.62200000    38.07400000\\nC    -17.07700000    13.48000000    38.00900000\\nN    -15.72800000    13.97200000    38.33300000\\nH    -20.73600000    18.25900000    35.95100000\\nH    -15.72000000    14.37000000    39.25900000\\nH    -15.45300000    14.68100000    37.67200000\\nH    -15.07700000    13.20400000    38.27900000\\nN    -18.12700000    9.76500000    35.30800000\\nC    -17.43200000    9.93400000    36.58000000\\nC    -16.34300000    8.88500000    36.77800000\\nO    -15.17500000    9.22600000    36.94100000\\nC    -18.44100000    9.89400000    37.74200000\\nH    -18.93300000    9.17400000    35.27600000\\nN    -16.70500000    7.60700000    36.76500000\\nC    -15.69300000    6.56400000    36.94900000\\nC    -16.08400000    5.21100000    36.33500000\\nO    -15.85771558    4.14530924    36.96481675\\nC    -15.32400000    6.43700000    38.43900000\\nC    -16.38500000    5.76700000    39.27900000\\nC    -17.72100000    6.01800000    39.39400000\\nN    -16.11200000    4.70700000    40.12600000\\nC    -17.24000000    4.34300000    40.71800000\\nN    -18.23600000    5.15700000    40.26300000\\nH    -17.66400000    7.35800000    36.63000000\\nH    -15.18900000    4.27400000    40.27100000\\nN    -13.49300000    2.39400000    36.66800000\\nC    -13.45200000    1.58900000    37.89900000\\nC    -14.26900000    0.30700000    37.81700000\\nO    -13.77871652    -0.77859902    38.22279237\\nC    -13.96400000    2.39700000    39.10600000\\nC    -12.83100000    3.19800000    39.75000000\\nN    -13.24600000    4.18900000    40.53400000\\nO    -11.65700000    2.93400000    39.54900000\\nH    -13.73200000    3.36300000    36.72500000\\nH    -14.22500000    4.35200000    40.65700000\\nH    -12.58000000    4.77000000    41.00100000\\nN    -21.22500000    7.42400000    43.27400000\\nC    -20.10300000    8.37000000    43.36400000\\nC    -20.53700000    9.80900000    43.10100000\\nO    -19.96881645    10.75739671    43.70206713\\nC    -18.96700000    7.99300000    42.39500000\\nC    -17.82300000    9.00300000    42.27700000\\nC    -17.08500000    9.15300000    43.60800000\\nC    -16.87600000    8.62700000    41.13500000\\nH    -21.25000000    6.76200000    42.52500000\\nN    -22.07300000    11.09500000    46.27600000\\nC    -21.00300000    11.44400000    47.20800000\\nC    -20.38300000    12.80300000    46.90300000\\nO    -20.19300000    13.61100000    47.80800000\\nC    -19.91600000    10.35300000    47.21700000\\nH    -21.99000000    10.25800000    45.73600000\\nN    -20.08200000    13.06200000    45.63300000\\nC    -19.50100000    14.34800000    45.21900000\\nC    -20.47400000    15.52200000    45.39500000\\nO    -20.03796423    16.65781953    45.71649240\\nC    -19.03600000    14.29000000    43.75200000\\nC    -17.87300000    13.34200000    43.45400000\\nC    -17.71100000    13.12900000    41.94700000\\nH    -20.25600000    12.36200000    44.94000000\\nN    -5.83400000    17.08300000    41.01600000\\nC    -7.24700000    17.04300000    41.35200000\\nC    -7.87400000    18.32800000    40.80300000\\nO    -7.30234442    19.43431225    40.98425577\\nC    -7.42300000    16.94900000    42.87900000\\nC    -8.90400000    16.98300000    43.26300000\\nC    -9.43800000    15.57100000    43.51400000\\nN    -9.68000000    14.88500000    42.22500000\\nC    -9.97900000    13.57400000    42.11100000\\nN    -10.06700000    12.82800000    43.22000000\\nN    -10.18400000    13.02600000    40.90500000\\nH    -9.90800000    13.25700000    44.14300000\\nH    -10.29400000    11.82600000    43.15100000\\nH    -10.11400000    13.60600000    40.05700000\\nH    -10.41100000    12.02400000    40.82700000\\nH    -9.61600000    15.44300000    41.36200000\\nN    -6.43300000    15.14600000    47.36600000\\nC    -7.84500000    15.44400000    47.58400000\\nC    -8.04900000    16.10300000    48.94200000\\nO    -8.86043583    17.05723068    49.06277361\\nC    -8.69400000    14.16100000    47.51000000\\nO    -8.60100000    13.53300000    46.23400000\\nH    -6.13300000    14.19300000    47.39700000\\nH    -9.13800000    12.74900000    46.23500000\\nN    -15.58800000    18.10700000    44.39500000\\nC    -14.14800000    18.09700000    44.66900000\\nC    -13.38800000    17.56000000    43.45500000\\nO    -12.20700000    17.85700000    43.28100000\\nC    -13.79900000    17.33300000    45.96000000\\nC    -14.09200000    15.83900000    45.80900000\\nC    -12.34100000    17.56800000    46.35900000\\nH    -16.18500000    17.49700000    44.91600000\\nN    -14.08600000    16.78600000    42.61900000\\nC    -13.65300000    16.49700000    41.24400000\\nC    -14.72900000    16.93200000    40.24600000\\nO    -15.84779766    16.35600940    40.23614192\\nC    -13.37900000    14.99400000    41.05200000\\nO    -13.07500000    14.67500000    39.69700000\\nH    -14.94300000    16.38500000    42.94400000\\nH    -12.91400000    13.74200000    39.62700000\\nN    -14.01300000    16.63300000    37.04700000\\nC    -13.43500000    15.98800000    35.86000000\\nC    -12.30300000    16.75700000    35.17800000\\nO    -11.93907114    16.44132714    34.01546957\\nC    -14.53700000    15.64500000    34.84000000\\nC    -15.18800000    14.30000000    35.16700000\\nN    -16.05800000    13.88300000    34.25200000\\nO    -14.91700000    13.68100000    36.18300000\\nH    -13.92100000    16.17400000    37.93000000\\nH    -16.23400000    14.44000000    33.44000000\\nH    -16.53600000    13.01400000    34.37600000\\nN    -9.11800000    12.16100000    36.13800000\\nC    -8.86900000    10.83200000    36.66300000\\nC    -9.73300000    9.77800000    35.97300000\\nO    -10.95600000    9.87600000    35.97000000\\nC    -9.13500000    10.82300000    38.18000000\\nC    -8.64500000    9.57400000    38.91500000\\nO    -7.54800000    9.06300000    38.64400000\\nO    -9.45300000    9.11600000    39.81100000\\nH    -9.97400000    12.62100000    36.37500000\\nN    -9.07400000    8.78900000    35.37300000\\nC    -9.72200000    7.60000000    34.80800000\\nC    -10.72900000    7.84800000    33.66600000\\nO    -11.65500000    7.05800000    33.46400000\\nC    -10.36500000    6.77600000    35.93900000\\nC    -9.30800000    6.29000000    36.93200000\\nC    -9.95900000    5.78100000    38.22000000\\nC    -8.90500000    5.24900000    39.19400000\\nN    -9.53500000    4.82800000    40.45600000\\nH    -8.07900000    8.86100000    35.30300000\\nH    -10.21500000    4.10600000    40.27700000\\nH    -10.00000000    5.61300000    40.88600000\\nH    -8.82100000    4.48700000    41.08100000\\nN    -10.53700000    8.94600000    32.93800000\\nC    -11.21700000    9.19900000    31.66500000\\nC    -10.19900000    9.79100000    30.69600000\\nO    -9.25975892    10.50723354    31.13005790\\nC    -12.35200000    10.22800000    31.81700000\\nC    -13.58700000    9.59200000    32.45900000\\nC    -13.50800000    9.66200000    33.98600000\\nC    -13.54700000    11.11300000    34.47100000\\nN    -13.86300000    11.16800000    35.90800000\\nH    -9.89500000    9.63400000    33.27800000\\nH    -13.16600000    10.66200000    36.43200000\\nH    -14.76400000    10.75000000    36.07800000\\nH    -13.88600000    12.13100000    36.20200000\\nH    -10.86242281    0.42401020    43.99807240\\nH    -9.30207871    1.42103559    43.92082824\\nH    -10.41529148    2.64550929    45.82654271\\nH    -11.94446760    2.01778699    44.98851817\\nH    -8.70735431    0.77150605    46.02909365\\nH    -9.46081009    -1.65473648    46.03497103\\nH    -10.70982364    1.44694105    49.80066646\\nH    -11.39954319    -0.20963433    49.33726067\\nH    -16.03965802    3.08255952    49.42848162\\nH    -14.27919415    3.32599006    48.90292617\\nH    -15.49531484    0.70238791    49.68089229\\nH    -14.25932999    -0.85468571    44.54951791\\nH    -13.75519115    0.90536128    44.26180516\\nH    -15.84750343    -0.60462592    42.80041289\\nH    -15.56996072    1.81108225    41.32505990\\nH    -14.44220758    1.47174383    42.04469303\\nH    -16.27313215    0.80191977    41.95115140\\nH    -14.11845718    -0.27360387    40.90338360\\nH    -13.95750425    -1.62343399    42.00116294\\nH    -12.96733938    -0.19986401    42.21584575\\nH    -15.88025565    1.60342473    45.07132036\\nH    -18.67404220    2.62205808    45.38776529\\nH    -18.66295880    3.52898612    47.00395176\\nH    -20.88187910    2.77032525    47.38936225\\nH    -20.06269437    0.28500105    46.88559689\\nH    -19.74473871    16.37277166    37.05384185\\nH    -18.53761391    17.46022727    37.94546397\\nH    -16.82383296    16.15215810    37.39706496\\nH    -17.81505554    15.27788269    36.09790358\\nH    -19.03147572    14.21118265    37.76212122\\nH    -17.99805276    15.05840114    39.04623874\\nH    -17.04682568    13.15617771    36.98962341\\nH    -17.34367618    12.78980583    38.78192679\\nH    -17.78825340    18.33645340    35.95253399\\nH    -19.68128214    19.33076570    36.45172101\\nH    -18.08398572    10.50375124    38.54551990\\nH    -19.38682721    10.26468936    37.40599362\\nH    -18.55349321    8.88575737    38.08213538\\nH    -16.95101491    10.88968249    36.56502233\\nH    -17.46031963    9.31942869    34.71050231\\nH    -15.25015878    7.43886022    38.80740681\\nH    -14.47259269    5.78988324    38.47429140\\nH    -18.26186759    6.77965627    38.87223187\\nH    -19.19614822    5.11225788    40.53888683\\nH    -17.35047007    3.55016617    41.42800767\\nH    -14.82482881    6.87285969    36.40513928\\nH    -14.28272519    1.68238089    39.83581764\\nH    -14.65893211    3.11258234    38.71881622\\nH    -12.42225713    1.32534989    38.02154896\\nH    -12.55226549    2.38530681    36.32896754\\nH    -19.41943648    7.96256964    41.42583788\\nH    -18.52440751    7.11013077    42.80676912\\nH    -18.24177793    9.95841317    42.03885988\\nH    -16.05105697    9.31212252    43.83281511\\nH    -16.68421473    8.21501531    43.28480364\\nH    -16.96820203    10.14515604    43.22474468\\nH    -15.87248476    8.88145275    41.40539039\\nH    -16.93981928    7.57496713    40.95046291\\nH    -17.15361979    9.16170722    40.25074017\\nH    -19.74199358    8.30605921    44.36922930\\nH    -22.02949254    7.99989955    43.12863336\\nH    -19.51530750    10.25688179    48.20447497\\nH    -20.34406119    9.42051660    46.91345705\\nH    -19.13343077    10.62362204    46.53932080\\nH    -21.44692298    11.50917542    48.17938280\\nH    -22.07336337    11.83339389    45.60163042\\nH    -18.66628572    15.26989088    43.53285346\\nH    -19.86846823    13.89779354    43.20604145\\nH    -18.09838524    12.38900134    43.88515547\\nH    -16.79700711    12.60614072    41.75690746\\nH    -17.68844573    14.07790176    41.45305997\\nH    -18.53429565    12.55405276    41.57751395\\nH    -18.66206709    14.51792064    45.86104249\\nH    -6.98296392    17.83357393    43.28984938\\nH    -7.05709187    15.98580495    43.16755940\\nH    -9.42966012    17.35860412    42.41006214\\nH    -8.96282640    17.49988535    44.19802352\\nH    -10.39178045    15.68296919    43.98587472\\nH    -8.65716830    15.03077201    44.00731082\\nH    -7.72445539    16.18615113    40.92451157\\nH    -5.78801125    16.80315898    40.05705577\\nH    -5.38499273    16.53229761    41.71964718\\nH    -9.71279960    14.46963211    47.61813695\\nH    -8.26474974    13.47715323    48.21213803\\nH    -8.15876392    16.11582239    46.81256829\\nH    -5.95881246    15.58736432    48.12780293\\nH    -14.41983869    17.71231177    46.74459028\\nH    -14.30451526    15.41834320    46.76961705\\nH    -14.93653803    15.70437981    45.16593475\\nH    -13.23986457    15.34940570    45.38584207\\nH    -12.28143697    17.72636417    47.41553823\\nH    -11.75609313    16.71239478    46.09306078\\nH    -11.96566818    18.42961238    45.84748253\\nH    -13.83698577    19.10641656    44.84002155\\nH    -15.66843636    17.79354022    43.44881135\\nH    -14.29594840    14.49145759    41.27906114\\nH    -12.49594153    14.77658942    41.61577334\\nH    -12.74958230    17.04307308    41.06924119\\nH    -14.04862281    15.52356990    33.89573179\\nH    -15.29924473    16.38681243    34.95660744\\nH    -12.97768789    15.09539747    36.23286237\\nH    -13.50284892    17.48711770    37.14813769\\nH    -10.19981922    10.81916950    38.28509687\\nH    -8.56110384    11.63399757    38.57727337\\nH    -7.84605786    10.58420321    36.47042243\\nH    -9.16100439    12.03881535    35.14642472\\nH    -10.77535426    5.90059125    35.48055819\\nH    -11.00168603    7.44615089    36.47791435\\nH    -8.72971377    7.14838440    37.20340609\\nH    -8.83192767    5.44565982    36.47885014\\nH    -10.56537584    4.94410386    37.94284808\\nH    -10.40481420    6.63203602    38.69104925\\nH    -8.26618985    6.07363679    39.43231863\\nH    -8.49569763    4.36656190    38.74827074\\nH    -8.93423422    7.05360105    34.33284396\\nH    -12.63811267    10.51210908    30.82587863\\nH    -11.99996016    10.96795637    32.50506433\\nH    -13.56186739    8.55376937    32.20142379\\nH    -14.42283574    10.19465094    32.17074586\\nH    -12.54721183    9.27734928    34.25771660\\nH    -14.39597690    9.19441730    34.35716498\\nH    -14.36195790    11.58309392    33.96133802\\nH    -12.55452032    11.49773022    34.36206542\\nH    -11.62937540    8.27475319    31.31770421\\nH    -7.50235337    15.75456537    49.79327597\\nH    -8.79810697    18.28504777    40.26533709\\nH    -14.52986056    17.72583579    39.55674807\\nH    -19.35980890    16.17304097    34.38293631\\nH    -11.82027727    17.56355353    35.68922419\\nH    -10.28337380    9.59735601    29.64705621\\nH    -21.52303782    15.37462915    45.24432988\\nC    -16.57205000    13.84143591    44.10950963\\nH    -15.73169214    13.39821217    43.61731925\\nH    -16.51512765    14.90641675    44.02304769\\nH    -16.56542381    13.56668932    45.14361331\\nH    -20.84582487    1.00623027    44.86374199\\nH    -16.73580784    -1.27536664    45.68306139\\nH    -21.32445859    10.01168203    42.40549374\\nH    -15.26009519    0.32903875    37.41432815\\nH    -16.54871413    5.17486009    35.37186206\\n\",\"xyz\");\n",
       "\tviewer_17503472294507508.setStyle({\"stick\": {}, \"sphere\": {\"radius\": 0.5}});\n",
       "\tviewer_17503472294507508.zoomTo();\n",
       "viewer_17503472294507508.render();\n",
       "});\n",
       "</script>"
      ]
     },
     "metadata": {},
     "output_type": "display_data"
    }
   ],
   "source": [
    "f = open(ccr.HMGCR_data[\"file_location\"],\"r\")\n",
    "structure = f.read()\n",
    "f.close()\n",
    "\n",
    "ccr.visualize_molecule(structure)"
   ]
  }
 ],
 "metadata": {
  "colab": {
   "collapsed_sections": [
    "qHv8LGrBe534",
    "5VmO2vg3e_Bz",
    "TgKnUxauwpRz"
   ],
   "provenance": []
  },
  "kernelspec": {
   "display_name": "Python 3",
   "language": "python",
   "name": "python3"
  },
  "language_info": {
   "codemirror_mode": {
    "name": "ipython",
    "version": 3
   },
   "file_extension": ".py",
   "mimetype": "text/x-python",
   "name": "python",
   "nbconvert_exporter": "python",
   "pygments_lexer": "ipython3",
   "version": "3.8.8"
  }
 },
 "nbformat": 4,
 "nbformat_minor": 1
}
